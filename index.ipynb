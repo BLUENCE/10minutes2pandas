{
 "cells": [
  {
   "cell_type": "markdown",
   "metadata": {
    "colab_type": "text",
    "id": "_SA4MsmkCMEL"
   },
   "source": [
    "# Pandas 10분 완성"
   ]
  },
  {
   "cell_type": "markdown",
   "metadata": {
    "colab_type": "text",
    "id": "6vTEdOiaLNf5"
   },
   "source": [
    "이 소개서는 주로 신규 사용자를 대상으로 한 판다스에 대한 간략한 소개입니다. 더 복잡한 방법은 [Cookbook](https://pandas.pydata.org/pandas-docs/stable/cookbook.html#cookbook) 에서 볼 수 있습니다.\n",
    "\n",
    "\n",
    "일반적으로 다음과 같이 가져옵니다."
   ]
  },
  {
   "cell_type": "code",
   "execution_count": 1,
   "metadata": {
    "colab": {
     "autoexec": {
      "startup": false,
      "wait_interval": 0
     }
    },
    "colab_type": "code",
    "id": "u8AvydKWLNf6"
   },
   "outputs": [],
   "source": [
    "import pandas as pd"
   ]
  },
  {
   "cell_type": "code",
   "execution_count": 2,
   "metadata": {
    "colab": {
     "autoexec": {
      "startup": false,
      "wait_interval": 0
     }
    },
    "colab_type": "code",
    "id": "gt_2tMD2LNf9"
   },
   "outputs": [],
   "source": [
    "import numpy as np"
   ]
  },
  {
   "cell_type": "code",
   "execution_count": 3,
   "metadata": {
    "colab": {
     "autoexec": {
      "startup": false,
      "wait_interval": 0
     }
    },
    "colab_type": "code",
    "id": "y6Eq4MTnLNf_"
   },
   "outputs": [],
   "source": [
    "import matplotlib.pyplot as plt"
   ]
  },
  {
   "cell_type": "markdown",
   "metadata": {
    "colab_type": "text",
    "id": "X9rrAHzu2Vab"
   },
   "source": [
    "# Object Creation (객체 생성)"
   ]
  },
  {
   "cell_type": "markdown",
   "metadata": {
    "colab_type": "text",
    "id": "5hgd3fkZ3DKl"
   },
   "source": [
    "[데이터 구조 소개 섹션](https://pandas.pydata.org/pandas-docs/stable/dsintro.html#dsintro)을 참조하십시오.\n",
    "\n",
    "판다스는 값을 가지고 있는 리스트를 통해 [시리즈](https://pandas.pydata.org/pandas-docs/stable/generated/pandas.Series.html#pandas.Series)를 만들고, 인덱스를 기본값으로 불러올 것입니다."
   ]
  },
  {
   "cell_type": "code",
   "execution_count": 4,
   "metadata": {
    "colab": {
     "autoexec": {
      "startup": false,
      "wait_interval": 0
     }
    },
    "colab_type": "code",
    "id": "qg9Rcvn83IIA"
   },
   "outputs": [],
   "source": [
    "s = pd.Series([1,3,5,np.nan,6,8])"
   ]
  },
  {
   "cell_type": "code",
   "execution_count": 5,
   "metadata": {
    "colab": {
     "autoexec": {
      "startup": false,
      "wait_interval": 0
     },
     "base_uri": "https://localhost:8080/",
     "height": 139
    },
    "colab_type": "code",
    "executionInfo": {
     "elapsed": 1772,
     "status": "ok",
     "timestamp": 1531893254599,
     "user": {
      "displayName": "Joeun Park",
      "photoUrl": "//lh6.googleusercontent.com/-JYBWhNoobh0/AAAAAAAAAAI/AAAAAAAADIs/8dW1MgKePR0/s50-c-k-no/photo.jpg",
      "userId": "106458198567018177580"
     },
     "user_tz": -540
    },
    "id": "ulVQdi2w3J98",
    "outputId": "332b143e-b5ae-432d-c52a-799932cf497f"
   },
   "outputs": [
    {
     "data": {
      "text/plain": [
       "0    1.0\n",
       "1    3.0\n",
       "2    5.0\n",
       "3    NaN\n",
       "4    6.0\n",
       "5    8.0\n",
       "dtype: float64"
      ]
     },
     "execution_count": 5,
     "metadata": {},
     "output_type": "execute_result"
    }
   ],
   "source": [
    "s"
   ]
  },
  {
   "cell_type": "markdown",
   "metadata": {
    "colab_type": "text",
    "id": "lea8Y7Rq3tWL"
   },
   "source": [
    "datetime 인덱스와 레이블이 있는 열이있는 NumPy 배열을 전달하여 데이터 프레임 만들기 :"
   ]
  },
  {
   "cell_type": "code",
   "execution_count": 6,
   "metadata": {
    "colab": {
     "autoexec": {
      "startup": false,
      "wait_interval": 0
     }
    },
    "colab_type": "code",
    "id": "Cj4sCmrH3R71"
   },
   "outputs": [],
   "source": [
    "dates = pd.date_range('20130101', periods=6)"
   ]
  },
  {
   "cell_type": "code",
   "execution_count": 7,
   "metadata": {
    "colab": {
     "autoexec": {
      "startup": false,
      "wait_interval": 0
     },
     "base_uri": "https://localhost:8080/",
     "height": 69
    },
    "colab_type": "code",
    "executionInfo": {
     "elapsed": 1239,
     "status": "ok",
     "timestamp": 1531893262592,
     "user": {
      "displayName": "Joeun Park",
      "photoUrl": "//lh6.googleusercontent.com/-JYBWhNoobh0/AAAAAAAAAAI/AAAAAAAADIs/8dW1MgKePR0/s50-c-k-no/photo.jpg",
      "userId": "106458198567018177580"
     },
     "user_tz": -540
    },
    "id": "yM54opp63Sfg",
    "outputId": "2bdc3403-6281-4d6c-bf81-b9f46b29793d"
   },
   "outputs": [
    {
     "data": {
      "text/plain": [
       "DatetimeIndex(['2013-01-01', '2013-01-02', '2013-01-03', '2013-01-04',\n",
       "               '2013-01-05', '2013-01-06'],\n",
       "              dtype='datetime64[ns]', freq='D')"
      ]
     },
     "execution_count": 7,
     "metadata": {},
     "output_type": "execute_result"
    }
   ],
   "source": [
    "dates"
   ]
  },
  {
   "cell_type": "code",
   "execution_count": 8,
   "metadata": {
    "colab": {
     "autoexec": {
      "startup": false,
      "wait_interval": 0
     }
    },
    "colab_type": "code",
    "id": "YQCGP5R43XVT"
   },
   "outputs": [],
   "source": [
    "df = pd.DataFrame(np.random.randn(6,4), index=dates, columns=list('ABCD'))"
   ]
  },
  {
   "cell_type": "code",
   "execution_count": 9,
   "metadata": {
    "colab": {
     "autoexec": {
      "startup": false,
      "wait_interval": 0
     },
     "base_uri": "https://localhost:8080/",
     "height": 233
    },
    "colab_type": "code",
    "executionInfo": {
     "elapsed": 1128,
     "status": "ok",
     "timestamp": 1531893291571,
     "user": {
      "displayName": "Joeun Park",
      "photoUrl": "//lh6.googleusercontent.com/-JYBWhNoobh0/AAAAAAAAAAI/AAAAAAAADIs/8dW1MgKePR0/s50-c-k-no/photo.jpg",
      "userId": "106458198567018177580"
     },
     "user_tz": -540
    },
    "id": "fkU_8Hwg3ZTg",
    "outputId": "1fbcbbc4-dae2-46db-fba8-4023dc733680"
   },
   "outputs": [
    {
     "data": {
      "text/html": [
       "<div>\n",
       "<style scoped>\n",
       "    .dataframe tbody tr th:only-of-type {\n",
       "        vertical-align: middle;\n",
       "    }\n",
       "\n",
       "    .dataframe tbody tr th {\n",
       "        vertical-align: top;\n",
       "    }\n",
       "\n",
       "    .dataframe thead th {\n",
       "        text-align: right;\n",
       "    }\n",
       "</style>\n",
       "<table border=\"1\" class=\"dataframe\">\n",
       "  <thead>\n",
       "    <tr style=\"text-align: right;\">\n",
       "      <th></th>\n",
       "      <th>A</th>\n",
       "      <th>B</th>\n",
       "      <th>C</th>\n",
       "      <th>D</th>\n",
       "    </tr>\n",
       "  </thead>\n",
       "  <tbody>\n",
       "    <tr>\n",
       "      <th>2013-01-01</th>\n",
       "      <td>-0.977069</td>\n",
       "      <td>0.024544</td>\n",
       "      <td>0.294390</td>\n",
       "      <td>-1.336758</td>\n",
       "    </tr>\n",
       "    <tr>\n",
       "      <th>2013-01-02</th>\n",
       "      <td>1.759066</td>\n",
       "      <td>0.758942</td>\n",
       "      <td>0.219154</td>\n",
       "      <td>-0.636768</td>\n",
       "    </tr>\n",
       "    <tr>\n",
       "      <th>2013-01-03</th>\n",
       "      <td>0.477230</td>\n",
       "      <td>0.297843</td>\n",
       "      <td>0.296030</td>\n",
       "      <td>-0.039864</td>\n",
       "    </tr>\n",
       "    <tr>\n",
       "      <th>2013-01-04</th>\n",
       "      <td>-0.040605</td>\n",
       "      <td>-0.038518</td>\n",
       "      <td>0.205950</td>\n",
       "      <td>-0.230102</td>\n",
       "    </tr>\n",
       "    <tr>\n",
       "      <th>2013-01-05</th>\n",
       "      <td>0.218572</td>\n",
       "      <td>0.943371</td>\n",
       "      <td>-1.105624</td>\n",
       "      <td>-2.535383</td>\n",
       "    </tr>\n",
       "    <tr>\n",
       "      <th>2013-01-06</th>\n",
       "      <td>-1.003973</td>\n",
       "      <td>-1.044924</td>\n",
       "      <td>0.270270</td>\n",
       "      <td>-1.091472</td>\n",
       "    </tr>\n",
       "  </tbody>\n",
       "</table>\n",
       "</div>"
      ],
      "text/plain": [
       "                   A         B         C         D\n",
       "2013-01-01 -0.977069  0.024544  0.294390 -1.336758\n",
       "2013-01-02  1.759066  0.758942  0.219154 -0.636768\n",
       "2013-01-03  0.477230  0.297843  0.296030 -0.039864\n",
       "2013-01-04 -0.040605 -0.038518  0.205950 -0.230102\n",
       "2013-01-05  0.218572  0.943371 -1.105624 -2.535383\n",
       "2013-01-06 -1.003973 -1.044924  0.270270 -1.091472"
      ]
     },
     "execution_count": 9,
     "metadata": {},
     "output_type": "execute_result"
    }
   ],
   "source": [
    "df"
   ]
  },
  {
   "cell_type": "markdown",
   "metadata": {
    "colab_type": "text",
    "id": "rYnipdkELNgC"
   },
   "source": [
    "시리즈와 같은 것으로 바뀔 수 있는 객체의 dict로 구성된 dataframe을 만듭니다."
   ]
  },
  {
   "cell_type": "code",
   "execution_count": 10,
   "metadata": {
    "colab": {
     "autoexec": {
      "startup": false,
      "wait_interval": 0
     }
    },
    "colab_type": "code",
    "id": "cKpPtOIVLNgC"
   },
   "outputs": [],
   "source": [
    "df2 = pd.DataFrame({'A' : 1.,\n",
    "                    'B' : pd.Timestamp('20130102'),\n",
    "                    'C' : pd.Series(1,index=list(range(4)),dtype='float32'),\n",
    "                    'D' : np.array([3] * 4,dtype='int32'),\n",
    "                    'E' : pd.Categorical([\"test\",\"train\",\"test\",\"train\"]),\n",
    "                    'F' : 'foo' })"
   ]
  },
  {
   "cell_type": "code",
   "execution_count": 11,
   "metadata": {
    "colab": {
     "autoexec": {
      "startup": false,
      "wait_interval": 0
     },
     "base_uri": "https://localhost:8080/",
     "height": 171
    },
    "colab_type": "code",
    "executionInfo": {
     "elapsed": 1042,
     "status": "ok",
     "timestamp": 1531893297568,
     "user": {
      "displayName": "Joeun Park",
      "photoUrl": "//lh6.googleusercontent.com/-JYBWhNoobh0/AAAAAAAAAAI/AAAAAAAADIs/8dW1MgKePR0/s50-c-k-no/photo.jpg",
      "userId": "106458198567018177580"
     },
     "user_tz": -540
    },
    "id": "QDm61ULjLNgE",
    "outputId": "501b11bf-73dc-49f2-abe1-ffe44ae0f2b7"
   },
   "outputs": [
    {
     "data": {
      "text/html": [
       "<div>\n",
       "<style scoped>\n",
       "    .dataframe tbody tr th:only-of-type {\n",
       "        vertical-align: middle;\n",
       "    }\n",
       "\n",
       "    .dataframe tbody tr th {\n",
       "        vertical-align: top;\n",
       "    }\n",
       "\n",
       "    .dataframe thead th {\n",
       "        text-align: right;\n",
       "    }\n",
       "</style>\n",
       "<table border=\"1\" class=\"dataframe\">\n",
       "  <thead>\n",
       "    <tr style=\"text-align: right;\">\n",
       "      <th></th>\n",
       "      <th>A</th>\n",
       "      <th>B</th>\n",
       "      <th>C</th>\n",
       "      <th>D</th>\n",
       "      <th>E</th>\n",
       "      <th>F</th>\n",
       "    </tr>\n",
       "  </thead>\n",
       "  <tbody>\n",
       "    <tr>\n",
       "      <th>0</th>\n",
       "      <td>1.0</td>\n",
       "      <td>2013-01-02</td>\n",
       "      <td>1.0</td>\n",
       "      <td>3</td>\n",
       "      <td>test</td>\n",
       "      <td>foo</td>\n",
       "    </tr>\n",
       "    <tr>\n",
       "      <th>1</th>\n",
       "      <td>1.0</td>\n",
       "      <td>2013-01-02</td>\n",
       "      <td>1.0</td>\n",
       "      <td>3</td>\n",
       "      <td>train</td>\n",
       "      <td>foo</td>\n",
       "    </tr>\n",
       "    <tr>\n",
       "      <th>2</th>\n",
       "      <td>1.0</td>\n",
       "      <td>2013-01-02</td>\n",
       "      <td>1.0</td>\n",
       "      <td>3</td>\n",
       "      <td>test</td>\n",
       "      <td>foo</td>\n",
       "    </tr>\n",
       "    <tr>\n",
       "      <th>3</th>\n",
       "      <td>1.0</td>\n",
       "      <td>2013-01-02</td>\n",
       "      <td>1.0</td>\n",
       "      <td>3</td>\n",
       "      <td>train</td>\n",
       "      <td>foo</td>\n",
       "    </tr>\n",
       "  </tbody>\n",
       "</table>\n",
       "</div>"
      ],
      "text/plain": [
       "     A          B    C  D      E    F\n",
       "0  1.0 2013-01-02  1.0  3   test  foo\n",
       "1  1.0 2013-01-02  1.0  3  train  foo\n",
       "2  1.0 2013-01-02  1.0  3   test  foo\n",
       "3  1.0 2013-01-02  1.0  3  train  foo"
      ]
     },
     "execution_count": 11,
     "metadata": {},
     "output_type": "execute_result"
    }
   ],
   "source": [
    "df2"
   ]
  },
  {
   "cell_type": "markdown",
   "metadata": {
    "colab_type": "text",
    "id": "Hlagj-SMLNgI"
   },
   "source": [
    " DataFrame 결과의 행은 다양한 데이터타입(dtypes)으로 구성됩니다.  "
   ]
  },
  {
   "cell_type": "code",
   "execution_count": 12,
   "metadata": {
    "colab": {
     "autoexec": {
      "startup": false,
      "wait_interval": 0
     },
     "base_uri": "https://localhost:8080/",
     "height": 139
    },
    "colab_type": "code",
    "executionInfo": {
     "elapsed": 1627,
     "status": "ok",
     "timestamp": 1531893300772,
     "user": {
      "displayName": "Joeun Park",
      "photoUrl": "//lh6.googleusercontent.com/-JYBWhNoobh0/AAAAAAAAAAI/AAAAAAAADIs/8dW1MgKePR0/s50-c-k-no/photo.jpg",
      "userId": "106458198567018177580"
     },
     "user_tz": -540
    },
    "id": "eFzVncepLNgJ",
    "outputId": "456f73af-5c49-418a-bb1b-14db843aee08"
   },
   "outputs": [
    {
     "data": {
      "text/plain": [
       "A           float64\n",
       "B    datetime64[ns]\n",
       "C           float32\n",
       "D             int32\n",
       "E          category\n",
       "F            object\n",
       "dtype: object"
      ]
     },
     "execution_count": 12,
     "metadata": {},
     "output_type": "execute_result"
    }
   ],
   "source": [
    "df2.dtypes"
   ]
  },
  {
   "cell_type": "markdown",
   "metadata": {
    "colab_type": "text",
    "id": "oOt1V164LNgN"
   },
   "source": [
    "IPython을 이용하고 계시다면, 열 이름에 대한(공용속성은 물론) tap완성 기능(tap completion)이 자동으로 활성화됩니다. 다음은 완성될 속성에 대한 부분집합(subset)입니다. "
   ]
  },
  {
   "cell_type": "markdown",
   "metadata": {},
   "source": [
    "df2.<TAB>"
   ]
  },
  {
   "cell_type": "markdown",
   "metadata": {
    "colab_type": "text",
    "id": "Itt3P3rQ5DV-"
   },
   "source": [
    "**IPython에서 실행하면 다음과 같은 결과값이 나온다.**\n",
    "```\n",
    "df2.A                  df2.bool\n",
    "df2.abs                df2.boxplot\n",
    "df2.add                df2.C\n",
    "df2.add_prefix         df2.clip\n",
    "df2.add_suffix         df2.clip_lower\n",
    "df2.align              df2.clip_upper\n",
    "df2.all                df2.columns\n",
    "df2.any                df2.combine\n",
    "df2.append             df2.combine_first\n",
    "df2.apply              df2.compound\n",
    "df2.applymap           df2.consolidate\n",
    "df2.D\n",
    "```\n",
    "\n"
   ]
  },
  {
   "cell_type": "markdown",
   "metadata": {
    "colab_type": "text",
    "id": "YHLdSINuLNgS"
   },
   "source": [
    "보시다시피, A,B,C그리고 D 열이 탭 자동완성기능으로 실행됩니다. 물론 E도 있습니다. 나머지 속성들은 간결하게 잘라버렸습니다. "
   ]
  },
  {
   "cell_type": "markdown",
   "metadata": {
    "colab_type": "text",
    "id": "lkJcyM0ILNgT"
   },
   "source": [
    "\n",
    "# Viewing Data(데이터 확인하기)"
   ]
  },
  {
   "cell_type": "markdown",
   "metadata": {
    "colab_type": "text",
    "id": "nu0qaw33LNgY"
   },
   "source": [
    "**Viewing Data 데이터 확인하기**"
   ]
  },
  {
   "cell_type": "markdown",
   "metadata": {
    "colab_type": "text",
    "id": "2108prOVLNgY"
   },
   "source": [
    "[Basic Section](https://pandas.pydata.org/pandas-docs/stable/basics.html#basics)을 봅니다.\n",
    "\n",
    "데이터프레임의 맨 윗 줄과 마지막 줄을 확인하고 싶을 때 .head()와 .tail()을 입력합니다. \n",
    "\n",
    "괄호()안에는 숫자가 들어갈 수도 있고 안 들어갈 수도 있습니다. \n",
    "숫자가 들어간다면, 윗/마지막 줄의 특정 줄을 불러올 수 있습니다. \n",
    "숫자가 들어가지 않다면, 기본값인 5로 처리됩니다.\n",
    "\n",
    "(예시) \n",
    "df.tail(3) - 끝에서 마지막 3줄을 불러옴\n",
    "df.tail() - 끝에서 마지막 5줄 불러옴"
   ]
  },
  {
   "cell_type": "code",
   "execution_count": 13,
   "metadata": {
    "colab": {
     "autoexec": {
      "startup": false,
      "wait_interval": 0
     },
     "base_uri": "https://localhost:8080/",
     "height": 202
    },
    "colab_type": "code",
    "executionInfo": {
     "elapsed": 1015,
     "status": "ok",
     "timestamp": 1531893327435,
     "user": {
      "displayName": "Joeun Park",
      "photoUrl": "//lh6.googleusercontent.com/-JYBWhNoobh0/AAAAAAAAAAI/AAAAAAAADIs/8dW1MgKePR0/s50-c-k-no/photo.jpg",
      "userId": "106458198567018177580"
     },
     "user_tz": -540
    },
    "id": "bW82qnwBLNga",
    "outputId": "09116ead-2dc3-4844-eeec-984bbbafec06"
   },
   "outputs": [
    {
     "data": {
      "text/html": [
       "<div>\n",
       "<style scoped>\n",
       "    .dataframe tbody tr th:only-of-type {\n",
       "        vertical-align: middle;\n",
       "    }\n",
       "\n",
       "    .dataframe tbody tr th {\n",
       "        vertical-align: top;\n",
       "    }\n",
       "\n",
       "    .dataframe thead th {\n",
       "        text-align: right;\n",
       "    }\n",
       "</style>\n",
       "<table border=\"1\" class=\"dataframe\">\n",
       "  <thead>\n",
       "    <tr style=\"text-align: right;\">\n",
       "      <th></th>\n",
       "      <th>A</th>\n",
       "      <th>B</th>\n",
       "      <th>C</th>\n",
       "      <th>D</th>\n",
       "    </tr>\n",
       "  </thead>\n",
       "  <tbody>\n",
       "    <tr>\n",
       "      <th>2013-01-01</th>\n",
       "      <td>-0.977069</td>\n",
       "      <td>0.024544</td>\n",
       "      <td>0.294390</td>\n",
       "      <td>-1.336758</td>\n",
       "    </tr>\n",
       "    <tr>\n",
       "      <th>2013-01-02</th>\n",
       "      <td>1.759066</td>\n",
       "      <td>0.758942</td>\n",
       "      <td>0.219154</td>\n",
       "      <td>-0.636768</td>\n",
       "    </tr>\n",
       "    <tr>\n",
       "      <th>2013-01-03</th>\n",
       "      <td>0.477230</td>\n",
       "      <td>0.297843</td>\n",
       "      <td>0.296030</td>\n",
       "      <td>-0.039864</td>\n",
       "    </tr>\n",
       "    <tr>\n",
       "      <th>2013-01-04</th>\n",
       "      <td>-0.040605</td>\n",
       "      <td>-0.038518</td>\n",
       "      <td>0.205950</td>\n",
       "      <td>-0.230102</td>\n",
       "    </tr>\n",
       "    <tr>\n",
       "      <th>2013-01-05</th>\n",
       "      <td>0.218572</td>\n",
       "      <td>0.943371</td>\n",
       "      <td>-1.105624</td>\n",
       "      <td>-2.535383</td>\n",
       "    </tr>\n",
       "  </tbody>\n",
       "</table>\n",
       "</div>"
      ],
      "text/plain": [
       "                   A         B         C         D\n",
       "2013-01-01 -0.977069  0.024544  0.294390 -1.336758\n",
       "2013-01-02  1.759066  0.758942  0.219154 -0.636768\n",
       "2013-01-03  0.477230  0.297843  0.296030 -0.039864\n",
       "2013-01-04 -0.040605 -0.038518  0.205950 -0.230102\n",
       "2013-01-05  0.218572  0.943371 -1.105624 -2.535383"
      ]
     },
     "execution_count": 13,
     "metadata": {},
     "output_type": "execute_result"
    }
   ],
   "source": [
    "df.head()"
   ]
  },
  {
   "cell_type": "code",
   "execution_count": 14,
   "metadata": {
    "colab": {
     "autoexec": {
      "startup": false,
      "wait_interval": 0
     },
     "base_uri": "https://localhost:8080/",
     "height": 141
    },
    "colab_type": "code",
    "executionInfo": {
     "elapsed": 905,
     "status": "ok",
     "timestamp": 1531893329369,
     "user": {
      "displayName": "Joeun Park",
      "photoUrl": "//lh6.googleusercontent.com/-JYBWhNoobh0/AAAAAAAAAAI/AAAAAAAADIs/8dW1MgKePR0/s50-c-k-no/photo.jpg",
      "userId": "106458198567018177580"
     },
     "user_tz": -540
    },
    "id": "mDFQ0TnFLNgg",
    "outputId": "442ff61a-241b-4dc6-b326-2dbbf39a4cc9"
   },
   "outputs": [
    {
     "data": {
      "text/html": [
       "<div>\n",
       "<style scoped>\n",
       "    .dataframe tbody tr th:only-of-type {\n",
       "        vertical-align: middle;\n",
       "    }\n",
       "\n",
       "    .dataframe tbody tr th {\n",
       "        vertical-align: top;\n",
       "    }\n",
       "\n",
       "    .dataframe thead th {\n",
       "        text-align: right;\n",
       "    }\n",
       "</style>\n",
       "<table border=\"1\" class=\"dataframe\">\n",
       "  <thead>\n",
       "    <tr style=\"text-align: right;\">\n",
       "      <th></th>\n",
       "      <th>A</th>\n",
       "      <th>B</th>\n",
       "      <th>C</th>\n",
       "      <th>D</th>\n",
       "    </tr>\n",
       "  </thead>\n",
       "  <tbody>\n",
       "    <tr>\n",
       "      <th>2013-01-04</th>\n",
       "      <td>-0.040605</td>\n",
       "      <td>-0.038518</td>\n",
       "      <td>0.205950</td>\n",
       "      <td>-0.230102</td>\n",
       "    </tr>\n",
       "    <tr>\n",
       "      <th>2013-01-05</th>\n",
       "      <td>0.218572</td>\n",
       "      <td>0.943371</td>\n",
       "      <td>-1.105624</td>\n",
       "      <td>-2.535383</td>\n",
       "    </tr>\n",
       "    <tr>\n",
       "      <th>2013-01-06</th>\n",
       "      <td>-1.003973</td>\n",
       "      <td>-1.044924</td>\n",
       "      <td>0.270270</td>\n",
       "      <td>-1.091472</td>\n",
       "    </tr>\n",
       "  </tbody>\n",
       "</table>\n",
       "</div>"
      ],
      "text/plain": [
       "                   A         B         C         D\n",
       "2013-01-04 -0.040605 -0.038518  0.205950 -0.230102\n",
       "2013-01-05  0.218572  0.943371 -1.105624 -2.535383\n",
       "2013-01-06 -1.003973 -1.044924  0.270270 -1.091472"
      ]
     },
     "execution_count": 14,
     "metadata": {},
     "output_type": "execute_result"
    }
   ],
   "source": [
    "df.tail(3)"
   ]
  },
  {
   "cell_type": "markdown",
   "metadata": {
    "colab_type": "text",
    "id": "GAZJV4orLNgj"
   },
   "source": [
    "인덱스(Index), 열(Column) 그리고 NumPy 데이터에 대한 세부 정보를 보려면 .index, .columns, .values를 입력합니다. \n"
   ]
  },
  {
   "cell_type": "code",
   "execution_count": 15,
   "metadata": {
    "colab": {
     "autoexec": {
      "startup": false,
      "wait_interval": 0
     },
     "base_uri": "https://localhost:8080/",
     "height": 69
    },
    "colab_type": "code",
    "executionInfo": {
     "elapsed": 806,
     "status": "ok",
     "timestamp": 1531893330659,
     "user": {
      "displayName": "Joeun Park",
      "photoUrl": "//lh6.googleusercontent.com/-JYBWhNoobh0/AAAAAAAAAAI/AAAAAAAADIs/8dW1MgKePR0/s50-c-k-no/photo.jpg",
      "userId": "106458198567018177580"
     },
     "user_tz": -540
    },
    "id": "QjyY5q21LNgj",
    "outputId": "a1e1c3c3-5e15-471e-f585-bbd0003d4548"
   },
   "outputs": [
    {
     "data": {
      "text/plain": [
       "DatetimeIndex(['2013-01-01', '2013-01-02', '2013-01-03', '2013-01-04',\n",
       "               '2013-01-05', '2013-01-06'],\n",
       "              dtype='datetime64[ns]', freq='D')"
      ]
     },
     "execution_count": 15,
     "metadata": {},
     "output_type": "execute_result"
    }
   ],
   "source": [
    "df.index"
   ]
  },
  {
   "cell_type": "code",
   "execution_count": 16,
   "metadata": {
    "colab": {
     "autoexec": {
      "startup": false,
      "wait_interval": 0
     },
     "base_uri": "https://localhost:8080/",
     "height": 35
    },
    "colab_type": "code",
    "executionInfo": {
     "elapsed": 1079,
     "status": "ok",
     "timestamp": 1531893336512,
     "user": {
      "displayName": "Joeun Park",
      "photoUrl": "//lh6.googleusercontent.com/-JYBWhNoobh0/AAAAAAAAAAI/AAAAAAAADIs/8dW1MgKePR0/s50-c-k-no/photo.jpg",
      "userId": "106458198567018177580"
     },
     "user_tz": -540
    },
    "id": "uMLtdmlTLNgm",
    "outputId": "725b6228-de00-4786-c874-c744afe5200b"
   },
   "outputs": [
    {
     "data": {
      "text/plain": [
       "Index(['A', 'B', 'C', 'D'], dtype='object')"
      ]
     },
     "execution_count": 16,
     "metadata": {},
     "output_type": "execute_result"
    }
   ],
   "source": [
    "df.columns"
   ]
  },
  {
   "cell_type": "code",
   "execution_count": 17,
   "metadata": {
    "colab": {
     "autoexec": {
      "startup": false,
      "wait_interval": 0
     },
     "base_uri": "https://localhost:8080/",
     "height": 121
    },
    "colab_type": "code",
    "executionInfo": {
     "elapsed": 1646,
     "status": "ok",
     "timestamp": 1531893339744,
     "user": {
      "displayName": "Joeun Park",
      "photoUrl": "//lh6.googleusercontent.com/-JYBWhNoobh0/AAAAAAAAAAI/AAAAAAAADIs/8dW1MgKePR0/s50-c-k-no/photo.jpg",
      "userId": "106458198567018177580"
     },
     "user_tz": -540
    },
    "id": "nyBJBmQ6LNgq",
    "outputId": "5654304a-457c-4bbb-f147-ac909449adbf"
   },
   "outputs": [
    {
     "data": {
      "text/plain": [
       "array([[-0.97706949,  0.02454441,  0.29439   , -1.33675847],\n",
       "       [ 1.7590656 ,  0.75894214,  0.21915375, -0.63676767],\n",
       "       [ 0.47723042,  0.29784335,  0.29602974, -0.03986427],\n",
       "       [-0.04060513, -0.03851772,  0.20595011, -0.23010162],\n",
       "       [ 0.21857162,  0.94337121, -1.10562396, -2.53538343],\n",
       "       [-1.0039726 , -1.04492377,  0.2702697 , -1.09147243]])"
      ]
     },
     "execution_count": 17,
     "metadata": {},
     "output_type": "execute_result"
    }
   ],
   "source": [
    "df.values"
   ]
  },
  {
   "cell_type": "markdown",
   "metadata": {
    "colab_type": "text",
    "id": "_ZTvIW8iLNgt"
   },
   "source": [
    "데이터의 대략적인 통계적 정보를 보려면 [describe() ](https://pandas.pydata.org/pandas-docs/stable/generated/pandas.DataFrame.describe.html#pandas.DataFrame.describe)를 입력합니다.  \n"
   ]
  },
  {
   "cell_type": "code",
   "execution_count": 18,
   "metadata": {
    "colab": {
     "autoexec": {
      "startup": false,
      "wait_interval": 0
     }
    },
    "colab_type": "code",
    "id": "xZngU-19LNgt",
    "outputId": "f5e04837-e023-4c90-8c1d-18a35d051791"
   },
   "outputs": [
    {
     "data": {
      "text/html": [
       "<div>\n",
       "<style scoped>\n",
       "    .dataframe tbody tr th:only-of-type {\n",
       "        vertical-align: middle;\n",
       "    }\n",
       "\n",
       "    .dataframe tbody tr th {\n",
       "        vertical-align: top;\n",
       "    }\n",
       "\n",
       "    .dataframe thead th {\n",
       "        text-align: right;\n",
       "    }\n",
       "</style>\n",
       "<table border=\"1\" class=\"dataframe\">\n",
       "  <thead>\n",
       "    <tr style=\"text-align: right;\">\n",
       "      <th></th>\n",
       "      <th>A</th>\n",
       "      <th>B</th>\n",
       "      <th>C</th>\n",
       "      <th>D</th>\n",
       "    </tr>\n",
       "  </thead>\n",
       "  <tbody>\n",
       "    <tr>\n",
       "      <th>count</th>\n",
       "      <td>6.000000</td>\n",
       "      <td>6.000000</td>\n",
       "      <td>6.000000</td>\n",
       "      <td>6.000000</td>\n",
       "    </tr>\n",
       "    <tr>\n",
       "      <th>mean</th>\n",
       "      <td>0.072203</td>\n",
       "      <td>0.156877</td>\n",
       "      <td>0.030028</td>\n",
       "      <td>-0.978391</td>\n",
       "    </tr>\n",
       "    <tr>\n",
       "      <th>std</th>\n",
       "      <td>1.029838</td>\n",
       "      <td>0.707240</td>\n",
       "      <td>0.557635</td>\n",
       "      <td>0.908066</td>\n",
       "    </tr>\n",
       "    <tr>\n",
       "      <th>min</th>\n",
       "      <td>-1.003973</td>\n",
       "      <td>-1.044924</td>\n",
       "      <td>-1.105624</td>\n",
       "      <td>-2.535383</td>\n",
       "    </tr>\n",
       "    <tr>\n",
       "      <th>25%</th>\n",
       "      <td>-0.742953</td>\n",
       "      <td>-0.022752</td>\n",
       "      <td>0.209251</td>\n",
       "      <td>-1.275437</td>\n",
       "    </tr>\n",
       "    <tr>\n",
       "      <th>50%</th>\n",
       "      <td>0.088983</td>\n",
       "      <td>0.161194</td>\n",
       "      <td>0.244712</td>\n",
       "      <td>-0.864120</td>\n",
       "    </tr>\n",
       "    <tr>\n",
       "      <th>75%</th>\n",
       "      <td>0.412566</td>\n",
       "      <td>0.643667</td>\n",
       "      <td>0.288360</td>\n",
       "      <td>-0.331768</td>\n",
       "    </tr>\n",
       "    <tr>\n",
       "      <th>max</th>\n",
       "      <td>1.759066</td>\n",
       "      <td>0.943371</td>\n",
       "      <td>0.296030</td>\n",
       "      <td>-0.039864</td>\n",
       "    </tr>\n",
       "  </tbody>\n",
       "</table>\n",
       "</div>"
      ],
      "text/plain": [
       "              A         B         C         D\n",
       "count  6.000000  6.000000  6.000000  6.000000\n",
       "mean   0.072203  0.156877  0.030028 -0.978391\n",
       "std    1.029838  0.707240  0.557635  0.908066\n",
       "min   -1.003973 -1.044924 -1.105624 -2.535383\n",
       "25%   -0.742953 -0.022752  0.209251 -1.275437\n",
       "50%    0.088983  0.161194  0.244712 -0.864120\n",
       "75%    0.412566  0.643667  0.288360 -0.331768\n",
       "max    1.759066  0.943371  0.296030 -0.039864"
      ]
     },
     "execution_count": 18,
     "metadata": {},
     "output_type": "execute_result"
    }
   ],
   "source": [
    "df.describe()"
   ]
  },
  {
   "cell_type": "markdown",
   "metadata": {
    "colab_type": "text",
    "id": "nJd6ga6NA6E1"
   },
   "source": [
    "데이터를 전치합니다."
   ]
  },
  {
   "cell_type": "code",
   "execution_count": 19,
   "metadata": {
    "colab": {
     "autoexec": {
      "startup": false,
      "wait_interval": 0
     },
     "base_uri": "https://localhost:8080/",
     "height": 173
    },
    "colab_type": "code",
    "executionInfo": {
     "elapsed": 2604,
     "status": "ok",
     "timestamp": 1531793749117,
     "user": {
      "displayName": "Jinyoung Park",
      "photoUrl": "//lh4.googleusercontent.com/-s-98GtId8lo/AAAAAAAAAAI/AAAAAAAAGMA/RPIBy6AcI58/s50-c-k-no/photo.jpg",
      "userId": "113955700460362103082"
     },
     "user_tz": -540
    },
    "id": "_YcshrJjAsM4",
    "outputId": "c60ee186-45bd-4236-b377-aa8b5c107cae"
   },
   "outputs": [
    {
     "data": {
      "text/html": [
       "<div>\n",
       "<style scoped>\n",
       "    .dataframe tbody tr th:only-of-type {\n",
       "        vertical-align: middle;\n",
       "    }\n",
       "\n",
       "    .dataframe tbody tr th {\n",
       "        vertical-align: top;\n",
       "    }\n",
       "\n",
       "    .dataframe thead th {\n",
       "        text-align: right;\n",
       "    }\n",
       "</style>\n",
       "<table border=\"1\" class=\"dataframe\">\n",
       "  <thead>\n",
       "    <tr style=\"text-align: right;\">\n",
       "      <th></th>\n",
       "      <th>2013-01-01 00:00:00</th>\n",
       "      <th>2013-01-02 00:00:00</th>\n",
       "      <th>2013-01-03 00:00:00</th>\n",
       "      <th>2013-01-04 00:00:00</th>\n",
       "      <th>2013-01-05 00:00:00</th>\n",
       "      <th>2013-01-06 00:00:00</th>\n",
       "    </tr>\n",
       "  </thead>\n",
       "  <tbody>\n",
       "    <tr>\n",
       "      <th>A</th>\n",
       "      <td>-0.977069</td>\n",
       "      <td>1.759066</td>\n",
       "      <td>0.477230</td>\n",
       "      <td>-0.040605</td>\n",
       "      <td>0.218572</td>\n",
       "      <td>-1.003973</td>\n",
       "    </tr>\n",
       "    <tr>\n",
       "      <th>B</th>\n",
       "      <td>0.024544</td>\n",
       "      <td>0.758942</td>\n",
       "      <td>0.297843</td>\n",
       "      <td>-0.038518</td>\n",
       "      <td>0.943371</td>\n",
       "      <td>-1.044924</td>\n",
       "    </tr>\n",
       "    <tr>\n",
       "      <th>C</th>\n",
       "      <td>0.294390</td>\n",
       "      <td>0.219154</td>\n",
       "      <td>0.296030</td>\n",
       "      <td>0.205950</td>\n",
       "      <td>-1.105624</td>\n",
       "      <td>0.270270</td>\n",
       "    </tr>\n",
       "    <tr>\n",
       "      <th>D</th>\n",
       "      <td>-1.336758</td>\n",
       "      <td>-0.636768</td>\n",
       "      <td>-0.039864</td>\n",
       "      <td>-0.230102</td>\n",
       "      <td>-2.535383</td>\n",
       "      <td>-1.091472</td>\n",
       "    </tr>\n",
       "  </tbody>\n",
       "</table>\n",
       "</div>"
      ],
      "text/plain": [
       "   2013-01-01  2013-01-02  2013-01-03  2013-01-04  2013-01-05  2013-01-06\n",
       "A   -0.977069    1.759066    0.477230   -0.040605    0.218572   -1.003973\n",
       "B    0.024544    0.758942    0.297843   -0.038518    0.943371   -1.044924\n",
       "C    0.294390    0.219154    0.296030    0.205950   -1.105624    0.270270\n",
       "D   -1.336758   -0.636768   -0.039864   -0.230102   -2.535383   -1.091472"
      ]
     },
     "execution_count": 19,
     "metadata": {},
     "output_type": "execute_result"
    }
   ],
   "source": [
    "df.T"
   ]
  },
  {
   "cell_type": "markdown",
   "metadata": {
    "colab_type": "text",
    "id": "qgDNXgvsA_MB"
   },
   "source": [
    "축 별로 정렬합니다."
   ]
  },
  {
   "cell_type": "code",
   "execution_count": 20,
   "metadata": {
    "colab": {
     "autoexec": {
      "startup": false,
      "wait_interval": 0
     },
     "base_uri": "https://localhost:8080/",
     "height": 235
    },
    "colab_type": "code",
    "executionInfo": {
     "elapsed": 481,
     "status": "ok",
     "timestamp": 1531799057051,
     "user": {
      "displayName": "Joeun Park",
      "photoUrl": "//lh6.googleusercontent.com/-JYBWhNoobh0/AAAAAAAAAAI/AAAAAAAADIs/8dW1MgKePR0/s50-c-k-no/photo.jpg",
      "userId": "106458198567018177580"
     },
     "user_tz": -540
    },
    "id": "Sd5qldouAuWG",
    "outputId": "a3fe146a-37ff-4d27-cf2f-c23d9a79485b"
   },
   "outputs": [
    {
     "data": {
      "text/html": [
       "<div>\n",
       "<style scoped>\n",
       "    .dataframe tbody tr th:only-of-type {\n",
       "        vertical-align: middle;\n",
       "    }\n",
       "\n",
       "    .dataframe tbody tr th {\n",
       "        vertical-align: top;\n",
       "    }\n",
       "\n",
       "    .dataframe thead th {\n",
       "        text-align: right;\n",
       "    }\n",
       "</style>\n",
       "<table border=\"1\" class=\"dataframe\">\n",
       "  <thead>\n",
       "    <tr style=\"text-align: right;\">\n",
       "      <th></th>\n",
       "      <th>D</th>\n",
       "      <th>C</th>\n",
       "      <th>B</th>\n",
       "      <th>A</th>\n",
       "    </tr>\n",
       "  </thead>\n",
       "  <tbody>\n",
       "    <tr>\n",
       "      <th>2013-01-01</th>\n",
       "      <td>-1.336758</td>\n",
       "      <td>0.294390</td>\n",
       "      <td>0.024544</td>\n",
       "      <td>-0.977069</td>\n",
       "    </tr>\n",
       "    <tr>\n",
       "      <th>2013-01-02</th>\n",
       "      <td>-0.636768</td>\n",
       "      <td>0.219154</td>\n",
       "      <td>0.758942</td>\n",
       "      <td>1.759066</td>\n",
       "    </tr>\n",
       "    <tr>\n",
       "      <th>2013-01-03</th>\n",
       "      <td>-0.039864</td>\n",
       "      <td>0.296030</td>\n",
       "      <td>0.297843</td>\n",
       "      <td>0.477230</td>\n",
       "    </tr>\n",
       "    <tr>\n",
       "      <th>2013-01-04</th>\n",
       "      <td>-0.230102</td>\n",
       "      <td>0.205950</td>\n",
       "      <td>-0.038518</td>\n",
       "      <td>-0.040605</td>\n",
       "    </tr>\n",
       "    <tr>\n",
       "      <th>2013-01-05</th>\n",
       "      <td>-2.535383</td>\n",
       "      <td>-1.105624</td>\n",
       "      <td>0.943371</td>\n",
       "      <td>0.218572</td>\n",
       "    </tr>\n",
       "    <tr>\n",
       "      <th>2013-01-06</th>\n",
       "      <td>-1.091472</td>\n",
       "      <td>0.270270</td>\n",
       "      <td>-1.044924</td>\n",
       "      <td>-1.003973</td>\n",
       "    </tr>\n",
       "  </tbody>\n",
       "</table>\n",
       "</div>"
      ],
      "text/plain": [
       "                   D         C         B         A\n",
       "2013-01-01 -1.336758  0.294390  0.024544 -0.977069\n",
       "2013-01-02 -0.636768  0.219154  0.758942  1.759066\n",
       "2013-01-03 -0.039864  0.296030  0.297843  0.477230\n",
       "2013-01-04 -0.230102  0.205950 -0.038518 -0.040605\n",
       "2013-01-05 -2.535383 -1.105624  0.943371  0.218572\n",
       "2013-01-06 -1.091472  0.270270 -1.044924 -1.003973"
      ]
     },
     "execution_count": 20,
     "metadata": {},
     "output_type": "execute_result"
    }
   ],
   "source": [
    "df.sort_index(axis=1, ascending=False)"
   ]
  },
  {
   "cell_type": "markdown",
   "metadata": {
    "colab_type": "text",
    "id": "F88TTYh9BGZ5"
   },
   "source": [
    "값 별로 정렬합니다."
   ]
  },
  {
   "cell_type": "code",
   "execution_count": 21,
   "metadata": {
    "colab": {
     "autoexec": {
      "startup": false,
      "wait_interval": 0
     },
     "base_uri": "https://localhost:8080/",
     "height": 235
    },
    "colab_type": "code",
    "executionInfo": {
     "elapsed": 487,
     "status": "ok",
     "timestamp": 1531799166206,
     "user": {
      "displayName": "Joeun Park",
      "photoUrl": "//lh6.googleusercontent.com/-JYBWhNoobh0/AAAAAAAAAAI/AAAAAAAADIs/8dW1MgKePR0/s50-c-k-no/photo.jpg",
      "userId": "106458198567018177580"
     },
     "user_tz": -540
    },
    "id": "9f7MLCxpAv67",
    "outputId": "f735bf97-6860-4e02-fc85-4acbedb8c125"
   },
   "outputs": [
    {
     "data": {
      "text/html": [
       "<div>\n",
       "<style scoped>\n",
       "    .dataframe tbody tr th:only-of-type {\n",
       "        vertical-align: middle;\n",
       "    }\n",
       "\n",
       "    .dataframe tbody tr th {\n",
       "        vertical-align: top;\n",
       "    }\n",
       "\n",
       "    .dataframe thead th {\n",
       "        text-align: right;\n",
       "    }\n",
       "</style>\n",
       "<table border=\"1\" class=\"dataframe\">\n",
       "  <thead>\n",
       "    <tr style=\"text-align: right;\">\n",
       "      <th></th>\n",
       "      <th>A</th>\n",
       "      <th>B</th>\n",
       "      <th>C</th>\n",
       "      <th>D</th>\n",
       "    </tr>\n",
       "  </thead>\n",
       "  <tbody>\n",
       "    <tr>\n",
       "      <th>2013-01-06</th>\n",
       "      <td>-1.003973</td>\n",
       "      <td>-1.044924</td>\n",
       "      <td>0.270270</td>\n",
       "      <td>-1.091472</td>\n",
       "    </tr>\n",
       "    <tr>\n",
       "      <th>2013-01-04</th>\n",
       "      <td>-0.040605</td>\n",
       "      <td>-0.038518</td>\n",
       "      <td>0.205950</td>\n",
       "      <td>-0.230102</td>\n",
       "    </tr>\n",
       "    <tr>\n",
       "      <th>2013-01-01</th>\n",
       "      <td>-0.977069</td>\n",
       "      <td>0.024544</td>\n",
       "      <td>0.294390</td>\n",
       "      <td>-1.336758</td>\n",
       "    </tr>\n",
       "    <tr>\n",
       "      <th>2013-01-03</th>\n",
       "      <td>0.477230</td>\n",
       "      <td>0.297843</td>\n",
       "      <td>0.296030</td>\n",
       "      <td>-0.039864</td>\n",
       "    </tr>\n",
       "    <tr>\n",
       "      <th>2013-01-02</th>\n",
       "      <td>1.759066</td>\n",
       "      <td>0.758942</td>\n",
       "      <td>0.219154</td>\n",
       "      <td>-0.636768</td>\n",
       "    </tr>\n",
       "    <tr>\n",
       "      <th>2013-01-05</th>\n",
       "      <td>0.218572</td>\n",
       "      <td>0.943371</td>\n",
       "      <td>-1.105624</td>\n",
       "      <td>-2.535383</td>\n",
       "    </tr>\n",
       "  </tbody>\n",
       "</table>\n",
       "</div>"
      ],
      "text/plain": [
       "                   A         B         C         D\n",
       "2013-01-06 -1.003973 -1.044924  0.270270 -1.091472\n",
       "2013-01-04 -0.040605 -0.038518  0.205950 -0.230102\n",
       "2013-01-01 -0.977069  0.024544  0.294390 -1.336758\n",
       "2013-01-03  0.477230  0.297843  0.296030 -0.039864\n",
       "2013-01-02  1.759066  0.758942  0.219154 -0.636768\n",
       "2013-01-05  0.218572  0.943371 -1.105624 -2.535383"
      ]
     },
     "execution_count": 21,
     "metadata": {},
     "output_type": "execute_result"
    }
   ],
   "source": [
    "df.sort_values(by='B')"
   ]
  },
  {
   "cell_type": "markdown",
   "metadata": {
    "colab_type": "text",
    "id": "3Gqmfx7oox22"
   },
   "source": [
    "# Selection (선택)\n"
   ]
  },
  {
   "cell_type": "markdown",
   "metadata": {
    "colab_type": "text",
    "id": "MJaeG531pyqQ"
   },
   "source": [
    "주석(Note) : 선택과 설정을 위한 Python, Numpy의 표준화된 표현들이 직관적이며, 코드 작성을 위한 양방향 작업에 유용하지만 우리는 Pandas에 최적화된 데이터 접근 방법인 .at, .iat, .loc 및 .iloc 을 추천합니다. \n",
    "\n",
    "[데이터 인덱싱 및 선택](https://pandas.pydata.org/pandas-docs/stable/indexing.html#indexing) 문서와 [다중 인덱싱 / 심화 인덱싱](https://pandas.pydata.org/pandas-docs/stable/advanced.html#advanced) 문서를 확인하십시오."
   ]
  },
  {
   "cell_type": "markdown",
   "metadata": {
    "colab_type": "text",
    "id": "DeXaTXAdp6ne"
   },
   "source": [
    "## Getting (데이터 얻기)\n",
    "\n",
    "df.A 와 동일한 Series를 생성하는 단일 열을 선택합니다."
   ]
  },
  {
   "cell_type": "code",
   "execution_count": 22,
   "metadata": {
    "colab": {
     "autoexec": {
      "startup": false,
      "wait_interval": 0
     },
     "base_uri": "https://localhost:8080/",
     "height": 170
    },
    "colab_type": "code",
    "executionInfo": {
     "elapsed": 2565,
     "status": "error",
     "timestamp": 1531811523920,
     "user": {
      "displayName": "SY An",
      "photoUrl": "https://lh3.googleusercontent.com/a/default-user=s128",
      "userId": "108230584185634100695"
     },
     "user_tz": -540
    },
    "id": "2i6jOXNMox26",
    "outputId": "6fed50c7-0d9b-493b-c558-a4eceab4731d"
   },
   "outputs": [
    {
     "data": {
      "text/plain": [
       "2013-01-01   -0.977069\n",
       "2013-01-02    1.759066\n",
       "2013-01-03    0.477230\n",
       "2013-01-04   -0.040605\n",
       "2013-01-05    0.218572\n",
       "2013-01-06   -1.003973\n",
       "Freq: D, Name: A, dtype: float64"
      ]
     },
     "execution_count": 22,
     "metadata": {},
     "output_type": "execute_result"
    }
   ],
   "source": [
    "df['A']"
   ]
  },
  {
   "cell_type": "markdown",
   "metadata": {
    "colab_type": "text",
    "id": "HVumS0kMr2pH"
   },
   "source": [
    "행을 분할하는 [] 를 통해 선택합니다"
   ]
  },
  {
   "cell_type": "code",
   "execution_count": 23,
   "metadata": {
    "colab": {
     "autoexec": {
      "startup": false,
      "wait_interval": 0
     },
     "base_uri": "https://localhost:8080/",
     "height": 142
    },
    "colab_type": "code",
    "executionInfo": {
     "elapsed": 885,
     "status": "ok",
     "timestamp": 1531570651951,
     "user": {
      "displayName": "EUNJI LEE",
      "photoUrl": "//lh5.googleusercontent.com/-Af1nbBVMBUM/AAAAAAAAAAI/AAAAAAAAAG8/Q6xuMVAUbHk/s50-c-k-no/photo.jpg",
      "userId": "113493488780737428858"
     },
     "user_tz": -540
    },
    "id": "CN4_iAoCr-hd",
    "outputId": "94b4703c-61ed-41a0-f8d5-5e9d871e6aef"
   },
   "outputs": [
    {
     "data": {
      "text/html": [
       "<div>\n",
       "<style scoped>\n",
       "    .dataframe tbody tr th:only-of-type {\n",
       "        vertical-align: middle;\n",
       "    }\n",
       "\n",
       "    .dataframe tbody tr th {\n",
       "        vertical-align: top;\n",
       "    }\n",
       "\n",
       "    .dataframe thead th {\n",
       "        text-align: right;\n",
       "    }\n",
       "</style>\n",
       "<table border=\"1\" class=\"dataframe\">\n",
       "  <thead>\n",
       "    <tr style=\"text-align: right;\">\n",
       "      <th></th>\n",
       "      <th>A</th>\n",
       "      <th>B</th>\n",
       "      <th>C</th>\n",
       "      <th>D</th>\n",
       "    </tr>\n",
       "  </thead>\n",
       "  <tbody>\n",
       "    <tr>\n",
       "      <th>2013-01-01</th>\n",
       "      <td>-0.977069</td>\n",
       "      <td>0.024544</td>\n",
       "      <td>0.294390</td>\n",
       "      <td>-1.336758</td>\n",
       "    </tr>\n",
       "    <tr>\n",
       "      <th>2013-01-02</th>\n",
       "      <td>1.759066</td>\n",
       "      <td>0.758942</td>\n",
       "      <td>0.219154</td>\n",
       "      <td>-0.636768</td>\n",
       "    </tr>\n",
       "    <tr>\n",
       "      <th>2013-01-03</th>\n",
       "      <td>0.477230</td>\n",
       "      <td>0.297843</td>\n",
       "      <td>0.296030</td>\n",
       "      <td>-0.039864</td>\n",
       "    </tr>\n",
       "  </tbody>\n",
       "</table>\n",
       "</div>"
      ],
      "text/plain": [
       "                   A         B         C         D\n",
       "2013-01-01 -0.977069  0.024544  0.294390 -1.336758\n",
       "2013-01-02  1.759066  0.758942  0.219154 -0.636768\n",
       "2013-01-03  0.477230  0.297843  0.296030 -0.039864"
      ]
     },
     "execution_count": 23,
     "metadata": {},
     "output_type": "execute_result"
    }
   ],
   "source": [
    "df[0:3]"
   ]
  },
  {
   "cell_type": "code",
   "execution_count": 24,
   "metadata": {
    "colab": {
     "autoexec": {
      "startup": false,
      "wait_interval": 0
     },
     "base_uri": "https://localhost:8080/",
     "height": 142
    },
    "colab_type": "code",
    "executionInfo": {
     "elapsed": 1163,
     "status": "ok",
     "timestamp": 1531570671994,
     "user": {
      "displayName": "EUNJI LEE",
      "photoUrl": "//lh5.googleusercontent.com/-Af1nbBVMBUM/AAAAAAAAAAI/AAAAAAAAAG8/Q6xuMVAUbHk/s50-c-k-no/photo.jpg",
      "userId": "113493488780737428858"
     },
     "user_tz": -540
    },
    "id": "rfj3fFBSsQyB",
    "outputId": "66696e5a-07a9-410b-8b94-11cd4f4f5506"
   },
   "outputs": [
    {
     "data": {
      "text/html": [
       "<div>\n",
       "<style scoped>\n",
       "    .dataframe tbody tr th:only-of-type {\n",
       "        vertical-align: middle;\n",
       "    }\n",
       "\n",
       "    .dataframe tbody tr th {\n",
       "        vertical-align: top;\n",
       "    }\n",
       "\n",
       "    .dataframe thead th {\n",
       "        text-align: right;\n",
       "    }\n",
       "</style>\n",
       "<table border=\"1\" class=\"dataframe\">\n",
       "  <thead>\n",
       "    <tr style=\"text-align: right;\">\n",
       "      <th></th>\n",
       "      <th>A</th>\n",
       "      <th>B</th>\n",
       "      <th>C</th>\n",
       "      <th>D</th>\n",
       "    </tr>\n",
       "  </thead>\n",
       "  <tbody>\n",
       "    <tr>\n",
       "      <th>2013-01-02</th>\n",
       "      <td>1.759066</td>\n",
       "      <td>0.758942</td>\n",
       "      <td>0.219154</td>\n",
       "      <td>-0.636768</td>\n",
       "    </tr>\n",
       "    <tr>\n",
       "      <th>2013-01-03</th>\n",
       "      <td>0.477230</td>\n",
       "      <td>0.297843</td>\n",
       "      <td>0.296030</td>\n",
       "      <td>-0.039864</td>\n",
       "    </tr>\n",
       "    <tr>\n",
       "      <th>2013-01-04</th>\n",
       "      <td>-0.040605</td>\n",
       "      <td>-0.038518</td>\n",
       "      <td>0.205950</td>\n",
       "      <td>-0.230102</td>\n",
       "    </tr>\n",
       "  </tbody>\n",
       "</table>\n",
       "</div>"
      ],
      "text/plain": [
       "                   A         B         C         D\n",
       "2013-01-02  1.759066  0.758942  0.219154 -0.636768\n",
       "2013-01-03  0.477230  0.297843  0.296030 -0.039864\n",
       "2013-01-04 -0.040605 -0.038518  0.205950 -0.230102"
      ]
     },
     "execution_count": 24,
     "metadata": {},
     "output_type": "execute_result"
    }
   ],
   "source": [
    "df['20130102':'20130104']"
   ]
  },
  {
   "cell_type": "markdown",
   "metadata": {
    "colab_type": "text",
    "id": "izNpv79bsGV7"
   },
   "source": [
    "## Selection by Label (Label 을 통한 선택)\n",
    "\n",
    "[Label을 통한 선택](https://pandas.pydata.org/pandas-docs/stable/indexing.html#indexing-label)에서 더 많은 내용을 확인하세요.\n",
    "\n",
    "라벨을 사용하여 횡단면을 얻는 방법입니다."
   ]
  },
  {
   "cell_type": "code",
   "execution_count": 25,
   "metadata": {
    "colab": {
     "autoexec": {
      "startup": false,
      "wait_interval": 0
     },
     "base_uri": "https://localhost:8080/",
     "height": 107
    },
    "colab_type": "code",
    "executionInfo": {
     "elapsed": 895,
     "status": "ok",
     "timestamp": 1531570686647,
     "user": {
      "displayName": "EUNJI LEE",
      "photoUrl": "//lh5.googleusercontent.com/-Af1nbBVMBUM/AAAAAAAAAAI/AAAAAAAAAG8/Q6xuMVAUbHk/s50-c-k-no/photo.jpg",
      "userId": "113493488780737428858"
     },
     "user_tz": -540
    },
    "id": "SiL6JlaRs7DM",
    "outputId": "d5a7ae9f-2ac7-4d9b-c3e8-65a523f822db"
   },
   "outputs": [
    {
     "data": {
      "text/plain": [
       "A   -0.977069\n",
       "B    0.024544\n",
       "C    0.294390\n",
       "D   -1.336758\n",
       "Name: 2013-01-01 00:00:00, dtype: float64"
      ]
     },
     "execution_count": 25,
     "metadata": {},
     "output_type": "execute_result"
    }
   ],
   "source": [
    "df.loc[dates[0]]"
   ]
  },
  {
   "cell_type": "markdown",
   "metadata": {
    "colab_type": "text",
    "id": "wqEiM9ZKsVDW"
   },
   "source": [
    "라벨을 사용하여 여러 축(의 데이터)을 얻는 방법입니다."
   ]
  },
  {
   "cell_type": "code",
   "execution_count": 26,
   "metadata": {
    "colab": {
     "autoexec": {
      "startup": false,
      "wait_interval": 0
     },
     "base_uri": "https://localhost:8080/",
     "height": 235
    },
    "colab_type": "code",
    "executionInfo": {
     "elapsed": 892,
     "status": "ok",
     "timestamp": 1531570708929,
     "user": {
      "displayName": "EUNJI LEE",
      "photoUrl": "//lh5.googleusercontent.com/-Af1nbBVMBUM/AAAAAAAAAAI/AAAAAAAAAG8/Q6xuMVAUbHk/s50-c-k-no/photo.jpg",
      "userId": "113493488780737428858"
     },
     "user_tz": -540
    },
    "id": "ujryWjpRtV9f",
    "outputId": "5ad5b0a2-e131-476e-c85a-2a0d2120d78d"
   },
   "outputs": [
    {
     "data": {
      "text/html": [
       "<div>\n",
       "<style scoped>\n",
       "    .dataframe tbody tr th:only-of-type {\n",
       "        vertical-align: middle;\n",
       "    }\n",
       "\n",
       "    .dataframe tbody tr th {\n",
       "        vertical-align: top;\n",
       "    }\n",
       "\n",
       "    .dataframe thead th {\n",
       "        text-align: right;\n",
       "    }\n",
       "</style>\n",
       "<table border=\"1\" class=\"dataframe\">\n",
       "  <thead>\n",
       "    <tr style=\"text-align: right;\">\n",
       "      <th></th>\n",
       "      <th>A</th>\n",
       "      <th>B</th>\n",
       "    </tr>\n",
       "  </thead>\n",
       "  <tbody>\n",
       "    <tr>\n",
       "      <th>2013-01-01</th>\n",
       "      <td>-0.977069</td>\n",
       "      <td>0.024544</td>\n",
       "    </tr>\n",
       "    <tr>\n",
       "      <th>2013-01-02</th>\n",
       "      <td>1.759066</td>\n",
       "      <td>0.758942</td>\n",
       "    </tr>\n",
       "    <tr>\n",
       "      <th>2013-01-03</th>\n",
       "      <td>0.477230</td>\n",
       "      <td>0.297843</td>\n",
       "    </tr>\n",
       "    <tr>\n",
       "      <th>2013-01-04</th>\n",
       "      <td>-0.040605</td>\n",
       "      <td>-0.038518</td>\n",
       "    </tr>\n",
       "    <tr>\n",
       "      <th>2013-01-05</th>\n",
       "      <td>0.218572</td>\n",
       "      <td>0.943371</td>\n",
       "    </tr>\n",
       "    <tr>\n",
       "      <th>2013-01-06</th>\n",
       "      <td>-1.003973</td>\n",
       "      <td>-1.044924</td>\n",
       "    </tr>\n",
       "  </tbody>\n",
       "</table>\n",
       "</div>"
      ],
      "text/plain": [
       "                   A         B\n",
       "2013-01-01 -0.977069  0.024544\n",
       "2013-01-02  1.759066  0.758942\n",
       "2013-01-03  0.477230  0.297843\n",
       "2013-01-04 -0.040605 -0.038518\n",
       "2013-01-05  0.218572  0.943371\n",
       "2013-01-06 -1.003973 -1.044924"
      ]
     },
     "execution_count": 26,
     "metadata": {},
     "output_type": "execute_result"
    }
   ],
   "source": [
    "df.loc[:,['A','B']]"
   ]
  },
  {
   "cell_type": "markdown",
   "metadata": {
    "colab_type": "text",
    "id": "SuyHx40itars"
   },
   "source": [
    "양쪽 종단점을 포함한 라벨 슬라이싱을 봅시다."
   ]
  },
  {
   "cell_type": "code",
   "execution_count": 27,
   "metadata": {
    "colab": {
     "autoexec": {
      "startup": false,
      "wait_interval": 0
     },
     "base_uri": "https://localhost:8080/",
     "height": 142
    },
    "colab_type": "code",
    "executionInfo": {
     "elapsed": 831,
     "status": "ok",
     "timestamp": 1531570764819,
     "user": {
      "displayName": "EUNJI LEE",
      "photoUrl": "//lh5.googleusercontent.com/-Af1nbBVMBUM/AAAAAAAAAAI/AAAAAAAAAG8/Q6xuMVAUbHk/s50-c-k-no/photo.jpg",
      "userId": "113493488780737428858"
     },
     "user_tz": -540
    },
    "id": "Dxq_ixT7tgMB",
    "outputId": "164e19b6-8975-4263-a285-3ce6b6100d4c"
   },
   "outputs": [
    {
     "data": {
      "text/html": [
       "<div>\n",
       "<style scoped>\n",
       "    .dataframe tbody tr th:only-of-type {\n",
       "        vertical-align: middle;\n",
       "    }\n",
       "\n",
       "    .dataframe tbody tr th {\n",
       "        vertical-align: top;\n",
       "    }\n",
       "\n",
       "    .dataframe thead th {\n",
       "        text-align: right;\n",
       "    }\n",
       "</style>\n",
       "<table border=\"1\" class=\"dataframe\">\n",
       "  <thead>\n",
       "    <tr style=\"text-align: right;\">\n",
       "      <th></th>\n",
       "      <th>A</th>\n",
       "      <th>B</th>\n",
       "    </tr>\n",
       "  </thead>\n",
       "  <tbody>\n",
       "    <tr>\n",
       "      <th>2013-01-02</th>\n",
       "      <td>1.759066</td>\n",
       "      <td>0.758942</td>\n",
       "    </tr>\n",
       "    <tr>\n",
       "      <th>2013-01-03</th>\n",
       "      <td>0.477230</td>\n",
       "      <td>0.297843</td>\n",
       "    </tr>\n",
       "    <tr>\n",
       "      <th>2013-01-04</th>\n",
       "      <td>-0.040605</td>\n",
       "      <td>-0.038518</td>\n",
       "    </tr>\n",
       "  </tbody>\n",
       "</table>\n",
       "</div>"
      ],
      "text/plain": [
       "                   A         B\n",
       "2013-01-02  1.759066  0.758942\n",
       "2013-01-03  0.477230  0.297843\n",
       "2013-01-04 -0.040605 -0.038518"
      ]
     },
     "execution_count": 27,
     "metadata": {},
     "output_type": "execute_result"
    }
   ],
   "source": [
    "df.loc['20130102':'20130104', ['A','B']]"
   ]
  },
  {
   "cell_type": "markdown",
   "metadata": {
    "colab_type": "text",
    "id": "NByKKdFXtsnP"
   },
   "source": [
    "반환되는 객체의 크기를 줄입니다."
   ]
  },
  {
   "cell_type": "code",
   "execution_count": 28,
   "metadata": {
    "colab": {
     "autoexec": {
      "startup": false,
      "wait_interval": 0
     },
     "base_uri": "https://localhost:8080/",
     "height": 71
    },
    "colab_type": "code",
    "executionInfo": {
     "elapsed": 905,
     "status": "ok",
     "timestamp": 1531570767538,
     "user": {
      "displayName": "EUNJI LEE",
      "photoUrl": "//lh5.googleusercontent.com/-Af1nbBVMBUM/AAAAAAAAAAI/AAAAAAAAAG8/Q6xuMVAUbHk/s50-c-k-no/photo.jpg",
      "userId": "113493488780737428858"
     },
     "user_tz": -540
    },
    "id": "ih2FqQaStyEv",
    "outputId": "78e576b9-e79f-4474-b44f-8a88764addd8"
   },
   "outputs": [
    {
     "data": {
      "text/plain": [
       "A    1.759066\n",
       "B    0.758942\n",
       "Name: 2013-01-02 00:00:00, dtype: float64"
      ]
     },
     "execution_count": 28,
     "metadata": {},
     "output_type": "execute_result"
    }
   ],
   "source": [
    "df.loc['20130102',['A','B']]"
   ]
  },
  {
   "cell_type": "markdown",
   "metadata": {
    "colab_type": "text",
    "id": "Mgdkhb3at1wM"
   },
   "source": [
    "스칼라 값을 얻습니다."
   ]
  },
  {
   "cell_type": "code",
   "execution_count": 29,
   "metadata": {
    "colab": {
     "autoexec": {
      "startup": false,
      "wait_interval": 0
     },
     "base_uri": "https://localhost:8080/",
     "height": 35
    },
    "colab_type": "code",
    "executionInfo": {
     "elapsed": 449,
     "status": "ok",
     "timestamp": 1531812954205,
     "user": {
      "displayName": "이다혜",
      "photoUrl": "https://lh3.googleusercontent.com/a/default-user=s128",
      "userId": "111233705933183008783"
     },
     "user_tz": -540
    },
    "id": "umW1SZZQt5Q0",
    "outputId": "640c6c77-c4d7-4248-e912-003baeda03b0"
   },
   "outputs": [
    {
     "data": {
      "text/plain": [
       "-0.9770694946651646"
      ]
     },
     "execution_count": 29,
     "metadata": {},
     "output_type": "execute_result"
    }
   ],
   "source": [
    "\n",
    "df.loc[dates[0],'A']\n"
   ]
  },
  {
   "cell_type": "markdown",
   "metadata": {
    "colab_type": "text",
    "id": "8DN1MLxHt9Xb"
   },
   "source": [
    "스칼라 값을 더 빠르게 구하는 방법입니다. (앞선 method와 동일합니다)"
   ]
  },
  {
   "cell_type": "code",
   "execution_count": 30,
   "metadata": {
    "colab": {
     "autoexec": {
      "startup": false,
      "wait_interval": 0
     },
     "base_uri": "https://localhost:8080/",
     "height": 35
    },
    "colab_type": "code",
    "executionInfo": {
     "elapsed": 858,
     "status": "ok",
     "timestamp": 1531570775121,
     "user": {
      "displayName": "EUNJI LEE",
      "photoUrl": "//lh5.googleusercontent.com/-Af1nbBVMBUM/AAAAAAAAAAI/AAAAAAAAAG8/Q6xuMVAUbHk/s50-c-k-no/photo.jpg",
      "userId": "113493488780737428858"
     },
     "user_tz": -540
    },
    "id": "FxxN4hauuDLB",
    "outputId": "7061048c-c5ad-473e-f4ef-aa17c3a276f3"
   },
   "outputs": [
    {
     "data": {
      "text/plain": [
       "-0.9770694946651646"
      ]
     },
     "execution_count": 30,
     "metadata": {},
     "output_type": "execute_result"
    }
   ],
   "source": [
    "df.at[dates[0],'A']"
   ]
  },
  {
   "cell_type": "markdown",
   "metadata": {
    "colab_type": "text",
    "id": "v7BFmgcRLNif"
   },
   "source": [
    "## Selection by Position (위치로 선택하기)"
   ]
  },
  {
   "cell_type": "markdown",
   "metadata": {
    "colab_type": "text",
    "id": "HdUlCKcMLNig"
   },
   "source": [
    "자세한 내용은 [위치로 선택하기](https://pandas.pydata.org/pandas-docs/stable/indexing.html#indexing-integer)를 참고해주세요.\n",
    "\n",
    "넘겨받은 정수의 위치로 선택하기:"
   ]
  },
  {
   "cell_type": "code",
   "execution_count": 31,
   "metadata": {
    "colab": {
     "autoexec": {
      "startup": false,
      "wait_interval": 0
     }
    },
    "colab_type": "code",
    "id": "CI_RX7HL2dbm"
   },
   "outputs": [
    {
     "data": {
      "text/plain": [
       "A   -0.040605\n",
       "B   -0.038518\n",
       "C    0.205950\n",
       "D   -0.230102\n",
       "Name: 2013-01-04 00:00:00, dtype: float64"
      ]
     },
     "execution_count": 31,
     "metadata": {},
     "output_type": "execute_result"
    }
   ],
   "source": [
    "df.iloc[3]"
   ]
  },
  {
   "cell_type": "markdown",
   "metadata": {
    "colab_type": "text",
    "id": "oARGkVI-23ZC"
   },
   "source": [
    "넘파이/파이썬 작동 방식처럼 정수로 표기된 슬라이스로 선택하기:"
   ]
  },
  {
   "cell_type": "code",
   "execution_count": 32,
   "metadata": {
    "colab": {
     "autoexec": {
      "startup": false,
      "wait_interval": 0
     }
    },
    "colab_type": "code",
    "id": "ZVV94o9-24yW"
   },
   "outputs": [
    {
     "data": {
      "text/html": [
       "<div>\n",
       "<style scoped>\n",
       "    .dataframe tbody tr th:only-of-type {\n",
       "        vertical-align: middle;\n",
       "    }\n",
       "\n",
       "    .dataframe tbody tr th {\n",
       "        vertical-align: top;\n",
       "    }\n",
       "\n",
       "    .dataframe thead th {\n",
       "        text-align: right;\n",
       "    }\n",
       "</style>\n",
       "<table border=\"1\" class=\"dataframe\">\n",
       "  <thead>\n",
       "    <tr style=\"text-align: right;\">\n",
       "      <th></th>\n",
       "      <th>A</th>\n",
       "      <th>B</th>\n",
       "    </tr>\n",
       "  </thead>\n",
       "  <tbody>\n",
       "    <tr>\n",
       "      <th>2013-01-04</th>\n",
       "      <td>-0.040605</td>\n",
       "      <td>-0.038518</td>\n",
       "    </tr>\n",
       "    <tr>\n",
       "      <th>2013-01-05</th>\n",
       "      <td>0.218572</td>\n",
       "      <td>0.943371</td>\n",
       "    </tr>\n",
       "  </tbody>\n",
       "</table>\n",
       "</div>"
      ],
      "text/plain": [
       "                   A         B\n",
       "2013-01-04 -0.040605 -0.038518\n",
       "2013-01-05  0.218572  0.943371"
      ]
     },
     "execution_count": 32,
     "metadata": {},
     "output_type": "execute_result"
    }
   ],
   "source": [
    "df.iloc[3:5,0:2]"
   ]
  },
  {
   "cell_type": "markdown",
   "metadata": {
    "colab_type": "text",
    "id": "Y2gjiEGT27yA"
   },
   "source": [
    "넘파이/파이썬 작동 방식처럼 정수로 표기된 위치값을 기반으로 선택하기:"
   ]
  },
  {
   "cell_type": "code",
   "execution_count": 33,
   "metadata": {
    "colab": {
     "autoexec": {
      "startup": false,
      "wait_interval": 0
     }
    },
    "colab_type": "code",
    "id": "u3AnE1li2-sH"
   },
   "outputs": [
    {
     "data": {
      "text/html": [
       "<div>\n",
       "<style scoped>\n",
       "    .dataframe tbody tr th:only-of-type {\n",
       "        vertical-align: middle;\n",
       "    }\n",
       "\n",
       "    .dataframe tbody tr th {\n",
       "        vertical-align: top;\n",
       "    }\n",
       "\n",
       "    .dataframe thead th {\n",
       "        text-align: right;\n",
       "    }\n",
       "</style>\n",
       "<table border=\"1\" class=\"dataframe\">\n",
       "  <thead>\n",
       "    <tr style=\"text-align: right;\">\n",
       "      <th></th>\n",
       "      <th>A</th>\n",
       "      <th>C</th>\n",
       "    </tr>\n",
       "  </thead>\n",
       "  <tbody>\n",
       "    <tr>\n",
       "      <th>2013-01-02</th>\n",
       "      <td>1.759066</td>\n",
       "      <td>0.219154</td>\n",
       "    </tr>\n",
       "    <tr>\n",
       "      <th>2013-01-03</th>\n",
       "      <td>0.477230</td>\n",
       "      <td>0.296030</td>\n",
       "    </tr>\n",
       "    <tr>\n",
       "      <th>2013-01-05</th>\n",
       "      <td>0.218572</td>\n",
       "      <td>-1.105624</td>\n",
       "    </tr>\n",
       "  </tbody>\n",
       "</table>\n",
       "</div>"
      ],
      "text/plain": [
       "                   A         C\n",
       "2013-01-02  1.759066  0.219154\n",
       "2013-01-03  0.477230  0.296030\n",
       "2013-01-05  0.218572 -1.105624"
      ]
     },
     "execution_count": 33,
     "metadata": {},
     "output_type": "execute_result"
    }
   ],
   "source": [
    "df.iloc[[1,2,4],[0,2]]"
   ]
  },
  {
   "cell_type": "markdown",
   "metadata": {
    "colab_type": "text",
    "id": "h5yyrWSQ3AmB"
   },
   "source": [
    "행만 나누고 싶을 때:"
   ]
  },
  {
   "cell_type": "code",
   "execution_count": 34,
   "metadata": {
    "colab": {
     "autoexec": {
      "startup": false,
      "wait_interval": 0
     }
    },
    "colab_type": "code",
    "id": "aeiKSATs3CwL"
   },
   "outputs": [
    {
     "data": {
      "text/html": [
       "<div>\n",
       "<style scoped>\n",
       "    .dataframe tbody tr th:only-of-type {\n",
       "        vertical-align: middle;\n",
       "    }\n",
       "\n",
       "    .dataframe tbody tr th {\n",
       "        vertical-align: top;\n",
       "    }\n",
       "\n",
       "    .dataframe thead th {\n",
       "        text-align: right;\n",
       "    }\n",
       "</style>\n",
       "<table border=\"1\" class=\"dataframe\">\n",
       "  <thead>\n",
       "    <tr style=\"text-align: right;\">\n",
       "      <th></th>\n",
       "      <th>A</th>\n",
       "      <th>B</th>\n",
       "      <th>C</th>\n",
       "      <th>D</th>\n",
       "    </tr>\n",
       "  </thead>\n",
       "  <tbody>\n",
       "    <tr>\n",
       "      <th>2013-01-02</th>\n",
       "      <td>1.759066</td>\n",
       "      <td>0.758942</td>\n",
       "      <td>0.219154</td>\n",
       "      <td>-0.636768</td>\n",
       "    </tr>\n",
       "    <tr>\n",
       "      <th>2013-01-03</th>\n",
       "      <td>0.477230</td>\n",
       "      <td>0.297843</td>\n",
       "      <td>0.296030</td>\n",
       "      <td>-0.039864</td>\n",
       "    </tr>\n",
       "  </tbody>\n",
       "</table>\n",
       "</div>"
      ],
      "text/plain": [
       "                   A         B         C         D\n",
       "2013-01-02  1.759066  0.758942  0.219154 -0.636768\n",
       "2013-01-03  0.477230  0.297843  0.296030 -0.039864"
      ]
     },
     "execution_count": 34,
     "metadata": {},
     "output_type": "execute_result"
    }
   ],
   "source": [
    "df.iloc[1:3,:]"
   ]
  },
  {
   "cell_type": "markdown",
   "metadata": {
    "colab_type": "text",
    "id": "DLvxy1xF3GhR"
   },
   "source": [
    "열만 나누고 싶을 때:"
   ]
  },
  {
   "cell_type": "code",
   "execution_count": 35,
   "metadata": {
    "colab": {
     "autoexec": {
      "startup": false,
      "wait_interval": 0
     }
    },
    "colab_type": "code",
    "id": "wAS-Ezax3IZC"
   },
   "outputs": [
    {
     "data": {
      "text/html": [
       "<div>\n",
       "<style scoped>\n",
       "    .dataframe tbody tr th:only-of-type {\n",
       "        vertical-align: middle;\n",
       "    }\n",
       "\n",
       "    .dataframe tbody tr th {\n",
       "        vertical-align: top;\n",
       "    }\n",
       "\n",
       "    .dataframe thead th {\n",
       "        text-align: right;\n",
       "    }\n",
       "</style>\n",
       "<table border=\"1\" class=\"dataframe\">\n",
       "  <thead>\n",
       "    <tr style=\"text-align: right;\">\n",
       "      <th></th>\n",
       "      <th>B</th>\n",
       "      <th>C</th>\n",
       "    </tr>\n",
       "  </thead>\n",
       "  <tbody>\n",
       "    <tr>\n",
       "      <th>2013-01-01</th>\n",
       "      <td>0.024544</td>\n",
       "      <td>0.294390</td>\n",
       "    </tr>\n",
       "    <tr>\n",
       "      <th>2013-01-02</th>\n",
       "      <td>0.758942</td>\n",
       "      <td>0.219154</td>\n",
       "    </tr>\n",
       "    <tr>\n",
       "      <th>2013-01-03</th>\n",
       "      <td>0.297843</td>\n",
       "      <td>0.296030</td>\n",
       "    </tr>\n",
       "    <tr>\n",
       "      <th>2013-01-04</th>\n",
       "      <td>-0.038518</td>\n",
       "      <td>0.205950</td>\n",
       "    </tr>\n",
       "    <tr>\n",
       "      <th>2013-01-05</th>\n",
       "      <td>0.943371</td>\n",
       "      <td>-1.105624</td>\n",
       "    </tr>\n",
       "    <tr>\n",
       "      <th>2013-01-06</th>\n",
       "      <td>-1.044924</td>\n",
       "      <td>0.270270</td>\n",
       "    </tr>\n",
       "  </tbody>\n",
       "</table>\n",
       "</div>"
      ],
      "text/plain": [
       "                   B         C\n",
       "2013-01-01  0.024544  0.294390\n",
       "2013-01-02  0.758942  0.219154\n",
       "2013-01-03  0.297843  0.296030\n",
       "2013-01-04 -0.038518  0.205950\n",
       "2013-01-05  0.943371 -1.105624\n",
       "2013-01-06 -1.044924  0.270270"
      ]
     },
     "execution_count": 35,
     "metadata": {},
     "output_type": "execute_result"
    }
   ],
   "source": [
    "df.iloc[:,1:3]"
   ]
  },
  {
   "cell_type": "markdown",
   "metadata": {
    "colab_type": "text",
    "id": "QH-roZC_3Jvj"
   },
   "source": [
    "값만 얻고 싶을 때:"
   ]
  },
  {
   "cell_type": "code",
   "execution_count": 36,
   "metadata": {
    "colab": {
     "autoexec": {
      "startup": false,
      "wait_interval": 0
     }
    },
    "colab_type": "code",
    "id": "YM9Q-Ami3LeF"
   },
   "outputs": [
    {
     "data": {
      "text/plain": [
       "0.7589421358307237"
      ]
     },
     "execution_count": 36,
     "metadata": {},
     "output_type": "execute_result"
    }
   ],
   "source": [
    "df.iloc[1,1]"
   ]
  },
  {
   "cell_type": "markdown",
   "metadata": {
    "colab_type": "text",
    "id": "R_2xOsp13O13"
   },
   "source": [
    "스칼라 값을 빨리 얻고 싶을 때(위 방식과 동일):"
   ]
  },
  {
   "cell_type": "code",
   "execution_count": 37,
   "metadata": {
    "colab": {
     "autoexec": {
      "startup": false,
      "wait_interval": 0
     }
    },
    "colab_type": "code",
    "id": "asy0eDSB3PO6"
   },
   "outputs": [
    {
     "data": {
      "text/plain": [
       "0.7589421358307237"
      ]
     },
     "execution_count": 37,
     "metadata": {},
     "output_type": "execute_result"
    }
   ],
   "source": [
    "df.iat[1,1]"
   ]
  },
  {
   "cell_type": "markdown",
   "metadata": {
    "colab_type": "text",
    "id": "FTKvfT0oDv3x"
   },
   "source": [
    "## Boolean Indexing (부울인덱싱)"
   ]
  },
  {
   "cell_type": "markdown",
   "metadata": {
    "colab_type": "text",
    "id": "J0pm13XREbg6"
   },
   "source": [
    "선택한 데이터에 단일 열의 값을 사용합니다."
   ]
  },
  {
   "cell_type": "code",
   "execution_count": 38,
   "metadata": {
    "colab": {
     "autoexec": {
      "startup": false,
      "wait_interval": 0
     },
     "base_uri": "https://localhost:8080/",
     "height": 169
    },
    "colab_type": "code",
    "executionInfo": {
     "elapsed": 809,
     "status": "error",
     "timestamp": 1531794592675,
     "user": {
      "displayName": "Wyatt Павел",
      "photoUrl": "https://lh3.googleusercontent.com/a/default-user=s128",
      "userId": "105647847336051714977"
     },
     "user_tz": -540
    },
    "id": "gFiUEOadDlBY",
    "outputId": "d97fc21c-eb50-4a7f-c276-8ee567d05c3e"
   },
   "outputs": [
    {
     "data": {
      "text/html": [
       "<div>\n",
       "<style scoped>\n",
       "    .dataframe tbody tr th:only-of-type {\n",
       "        vertical-align: middle;\n",
       "    }\n",
       "\n",
       "    .dataframe tbody tr th {\n",
       "        vertical-align: top;\n",
       "    }\n",
       "\n",
       "    .dataframe thead th {\n",
       "        text-align: right;\n",
       "    }\n",
       "</style>\n",
       "<table border=\"1\" class=\"dataframe\">\n",
       "  <thead>\n",
       "    <tr style=\"text-align: right;\">\n",
       "      <th></th>\n",
       "      <th>A</th>\n",
       "      <th>B</th>\n",
       "      <th>C</th>\n",
       "      <th>D</th>\n",
       "    </tr>\n",
       "  </thead>\n",
       "  <tbody>\n",
       "    <tr>\n",
       "      <th>2013-01-02</th>\n",
       "      <td>1.759066</td>\n",
       "      <td>0.758942</td>\n",
       "      <td>0.219154</td>\n",
       "      <td>-0.636768</td>\n",
       "    </tr>\n",
       "    <tr>\n",
       "      <th>2013-01-03</th>\n",
       "      <td>0.477230</td>\n",
       "      <td>0.297843</td>\n",
       "      <td>0.296030</td>\n",
       "      <td>-0.039864</td>\n",
       "    </tr>\n",
       "    <tr>\n",
       "      <th>2013-01-05</th>\n",
       "      <td>0.218572</td>\n",
       "      <td>0.943371</td>\n",
       "      <td>-1.105624</td>\n",
       "      <td>-2.535383</td>\n",
       "    </tr>\n",
       "  </tbody>\n",
       "</table>\n",
       "</div>"
      ],
      "text/plain": [
       "                   A         B         C         D\n",
       "2013-01-02  1.759066  0.758942  0.219154 -0.636768\n",
       "2013-01-03  0.477230  0.297843  0.296030 -0.039864\n",
       "2013-01-05  0.218572  0.943371 -1.105624 -2.535383"
      ]
     },
     "execution_count": 38,
     "metadata": {},
     "output_type": "execute_result"
    }
   ],
   "source": [
    "df[df.A > 0]"
   ]
  },
  {
   "cell_type": "markdown",
   "metadata": {
    "colab_type": "text",
    "id": "3sGsFS1sEqT6"
   },
   "source": [
    "부울 조건에 충족되는 데이터프레임에서 변수를 선택합니다."
   ]
  },
  {
   "cell_type": "code",
   "execution_count": 39,
   "metadata": {
    "colab": {
     "autoexec": {
      "startup": false,
      "wait_interval": 0
     },
     "base_uri": "https://localhost:8080/",
     "height": 169
    },
    "colab_type": "code",
    "executionInfo": {
     "elapsed": 668,
     "status": "error",
     "timestamp": 1531794613263,
     "user": {
      "displayName": "Wyatt Павел",
      "photoUrl": "https://lh3.googleusercontent.com/a/default-user=s128",
      "userId": "105647847336051714977"
     },
     "user_tz": -540
    },
    "id": "tZhjIBa2Eqou",
    "outputId": "57f4dfa6-7db6-4f64-f4c8-8d66dc92cc8b"
   },
   "outputs": [
    {
     "data": {
      "text/html": [
       "<div>\n",
       "<style scoped>\n",
       "    .dataframe tbody tr th:only-of-type {\n",
       "        vertical-align: middle;\n",
       "    }\n",
       "\n",
       "    .dataframe tbody tr th {\n",
       "        vertical-align: top;\n",
       "    }\n",
       "\n",
       "    .dataframe thead th {\n",
       "        text-align: right;\n",
       "    }\n",
       "</style>\n",
       "<table border=\"1\" class=\"dataframe\">\n",
       "  <thead>\n",
       "    <tr style=\"text-align: right;\">\n",
       "      <th></th>\n",
       "      <th>A</th>\n",
       "      <th>B</th>\n",
       "      <th>C</th>\n",
       "      <th>D</th>\n",
       "    </tr>\n",
       "  </thead>\n",
       "  <tbody>\n",
       "    <tr>\n",
       "      <th>2013-01-01</th>\n",
       "      <td>NaN</td>\n",
       "      <td>0.024544</td>\n",
       "      <td>0.294390</td>\n",
       "      <td>NaN</td>\n",
       "    </tr>\n",
       "    <tr>\n",
       "      <th>2013-01-02</th>\n",
       "      <td>1.759066</td>\n",
       "      <td>0.758942</td>\n",
       "      <td>0.219154</td>\n",
       "      <td>NaN</td>\n",
       "    </tr>\n",
       "    <tr>\n",
       "      <th>2013-01-03</th>\n",
       "      <td>0.477230</td>\n",
       "      <td>0.297843</td>\n",
       "      <td>0.296030</td>\n",
       "      <td>NaN</td>\n",
       "    </tr>\n",
       "    <tr>\n",
       "      <th>2013-01-04</th>\n",
       "      <td>NaN</td>\n",
       "      <td>NaN</td>\n",
       "      <td>0.205950</td>\n",
       "      <td>NaN</td>\n",
       "    </tr>\n",
       "    <tr>\n",
       "      <th>2013-01-05</th>\n",
       "      <td>0.218572</td>\n",
       "      <td>0.943371</td>\n",
       "      <td>NaN</td>\n",
       "      <td>NaN</td>\n",
       "    </tr>\n",
       "    <tr>\n",
       "      <th>2013-01-06</th>\n",
       "      <td>NaN</td>\n",
       "      <td>NaN</td>\n",
       "      <td>0.270270</td>\n",
       "      <td>NaN</td>\n",
       "    </tr>\n",
       "  </tbody>\n",
       "</table>\n",
       "</div>"
      ],
      "text/plain": [
       "                   A         B         C   D\n",
       "2013-01-01       NaN  0.024544  0.294390 NaN\n",
       "2013-01-02  1.759066  0.758942  0.219154 NaN\n",
       "2013-01-03  0.477230  0.297843  0.296030 NaN\n",
       "2013-01-04       NaN       NaN  0.205950 NaN\n",
       "2013-01-05  0.218572  0.943371       NaN NaN\n",
       "2013-01-06       NaN       NaN  0.270270 NaN"
      ]
     },
     "execution_count": 39,
     "metadata": {},
     "output_type": "execute_result"
    }
   ],
   "source": [
    "df[df > 0]"
   ]
  },
  {
   "cell_type": "markdown",
   "metadata": {
    "colab_type": "text",
    "id": "vzBroT61Eu78"
   },
   "source": [
    "필터링 방법인 [isin()](https://pandas.pydata.org/pandas-docs/stable/generated/pandas.Series.isin.html#pandas.Series.isin)을 사용합니다."
   ]
  },
  {
   "cell_type": "code",
   "execution_count": 40,
   "metadata": {
    "colab": {
     "autoexec": {
      "startup": false,
      "wait_interval": 0
     },
     "base_uri": "https://localhost:8080/",
     "height": 169
    },
    "colab_type": "code",
    "executionInfo": {
     "elapsed": 615,
     "status": "error",
     "timestamp": 1531794658822,
     "user": {
      "displayName": "Wyatt Павел",
      "photoUrl": "https://lh3.googleusercontent.com/a/default-user=s128",
      "userId": "105647847336051714977"
     },
     "user_tz": -540
    },
    "id": "aMskyf_-E4MI",
    "outputId": "abf069e4-25c3-408c-a1da-9ddd5c38a5cb"
   },
   "outputs": [],
   "source": [
    "df2 = df.copy()"
   ]
  },
  {
   "cell_type": "code",
   "execution_count": 41,
   "metadata": {
    "colab": {
     "autoexec": {
      "startup": false,
      "wait_interval": 0
     },
     "base_uri": "https://localhost:8080/",
     "height": 169
    },
    "colab_type": "code",
    "executionInfo": {
     "elapsed": 494,
     "status": "error",
     "timestamp": 1531794685508,
     "user": {
      "displayName": "Wyatt Павел",
      "photoUrl": "https://lh3.googleusercontent.com/a/default-user=s128",
      "userId": "105647847336051714977"
     },
     "user_tz": -540
    },
    "id": "513jhj4ZE4eW",
    "outputId": "7734887b-6f09-49d4-f346-4770455f7eb2"
   },
   "outputs": [],
   "source": [
    "df2['E'] = ['one', 'one','two','three','four','three']"
   ]
  },
  {
   "cell_type": "code",
   "execution_count": 42,
   "metadata": {
    "colab": {
     "autoexec": {
      "startup": false,
      "wait_interval": 0
     },
     "base_uri": "https://localhost:8080/",
     "height": 169
    },
    "colab_type": "code",
    "executionInfo": {
     "elapsed": 674,
     "status": "error",
     "timestamp": 1531794692311,
     "user": {
      "displayName": "Wyatt Павел",
      "photoUrl": "https://lh3.googleusercontent.com/a/default-user=s128",
      "userId": "105647847336051714977"
     },
     "user_tz": -540
    },
    "id": "oJyqTZ08E4ml",
    "outputId": "b6ce1a41-ae59-4903-e094-36115ee167c6"
   },
   "outputs": [
    {
     "data": {
      "text/html": [
       "<div>\n",
       "<style scoped>\n",
       "    .dataframe tbody tr th:only-of-type {\n",
       "        vertical-align: middle;\n",
       "    }\n",
       "\n",
       "    .dataframe tbody tr th {\n",
       "        vertical-align: top;\n",
       "    }\n",
       "\n",
       "    .dataframe thead th {\n",
       "        text-align: right;\n",
       "    }\n",
       "</style>\n",
       "<table border=\"1\" class=\"dataframe\">\n",
       "  <thead>\n",
       "    <tr style=\"text-align: right;\">\n",
       "      <th></th>\n",
       "      <th>A</th>\n",
       "      <th>B</th>\n",
       "      <th>C</th>\n",
       "      <th>D</th>\n",
       "      <th>E</th>\n",
       "    </tr>\n",
       "  </thead>\n",
       "  <tbody>\n",
       "    <tr>\n",
       "      <th>2013-01-01</th>\n",
       "      <td>-0.977069</td>\n",
       "      <td>0.024544</td>\n",
       "      <td>0.294390</td>\n",
       "      <td>-1.336758</td>\n",
       "      <td>one</td>\n",
       "    </tr>\n",
       "    <tr>\n",
       "      <th>2013-01-02</th>\n",
       "      <td>1.759066</td>\n",
       "      <td>0.758942</td>\n",
       "      <td>0.219154</td>\n",
       "      <td>-0.636768</td>\n",
       "      <td>one</td>\n",
       "    </tr>\n",
       "    <tr>\n",
       "      <th>2013-01-03</th>\n",
       "      <td>0.477230</td>\n",
       "      <td>0.297843</td>\n",
       "      <td>0.296030</td>\n",
       "      <td>-0.039864</td>\n",
       "      <td>two</td>\n",
       "    </tr>\n",
       "    <tr>\n",
       "      <th>2013-01-04</th>\n",
       "      <td>-0.040605</td>\n",
       "      <td>-0.038518</td>\n",
       "      <td>0.205950</td>\n",
       "      <td>-0.230102</td>\n",
       "      <td>three</td>\n",
       "    </tr>\n",
       "    <tr>\n",
       "      <th>2013-01-05</th>\n",
       "      <td>0.218572</td>\n",
       "      <td>0.943371</td>\n",
       "      <td>-1.105624</td>\n",
       "      <td>-2.535383</td>\n",
       "      <td>four</td>\n",
       "    </tr>\n",
       "    <tr>\n",
       "      <th>2013-01-06</th>\n",
       "      <td>-1.003973</td>\n",
       "      <td>-1.044924</td>\n",
       "      <td>0.270270</td>\n",
       "      <td>-1.091472</td>\n",
       "      <td>three</td>\n",
       "    </tr>\n",
       "  </tbody>\n",
       "</table>\n",
       "</div>"
      ],
      "text/plain": [
       "                   A         B         C         D      E\n",
       "2013-01-01 -0.977069  0.024544  0.294390 -1.336758    one\n",
       "2013-01-02  1.759066  0.758942  0.219154 -0.636768    one\n",
       "2013-01-03  0.477230  0.297843  0.296030 -0.039864    two\n",
       "2013-01-04 -0.040605 -0.038518  0.205950 -0.230102  three\n",
       "2013-01-05  0.218572  0.943371 -1.105624 -2.535383   four\n",
       "2013-01-06 -1.003973 -1.044924  0.270270 -1.091472  three"
      ]
     },
     "execution_count": 42,
     "metadata": {},
     "output_type": "execute_result"
    }
   ],
   "source": [
    "df2"
   ]
  },
  {
   "cell_type": "code",
   "execution_count": 43,
   "metadata": {
    "colab": {
     "autoexec": {
      "startup": false,
      "wait_interval": 0
     },
     "base_uri": "https://localhost:8080/",
     "height": 169
    },
    "colab_type": "code",
    "executionInfo": {
     "elapsed": 743,
     "status": "error",
     "timestamp": 1531794701451,
     "user": {
      "displayName": "Wyatt Павел",
      "photoUrl": "https://lh3.googleusercontent.com/a/default-user=s128",
      "userId": "105647847336051714977"
     },
     "user_tz": -540
    },
    "id": "VgrLcC_5FCEC",
    "outputId": "87a55c0d-ca68-4582-de12-4ce057c4b19a"
   },
   "outputs": [
    {
     "data": {
      "text/html": [
       "<div>\n",
       "<style scoped>\n",
       "    .dataframe tbody tr th:only-of-type {\n",
       "        vertical-align: middle;\n",
       "    }\n",
       "\n",
       "    .dataframe tbody tr th {\n",
       "        vertical-align: top;\n",
       "    }\n",
       "\n",
       "    .dataframe thead th {\n",
       "        text-align: right;\n",
       "    }\n",
       "</style>\n",
       "<table border=\"1\" class=\"dataframe\">\n",
       "  <thead>\n",
       "    <tr style=\"text-align: right;\">\n",
       "      <th></th>\n",
       "      <th>A</th>\n",
       "      <th>B</th>\n",
       "      <th>C</th>\n",
       "      <th>D</th>\n",
       "      <th>E</th>\n",
       "    </tr>\n",
       "  </thead>\n",
       "  <tbody>\n",
       "    <tr>\n",
       "      <th>2013-01-03</th>\n",
       "      <td>0.477230</td>\n",
       "      <td>0.297843</td>\n",
       "      <td>0.296030</td>\n",
       "      <td>-0.039864</td>\n",
       "      <td>two</td>\n",
       "    </tr>\n",
       "    <tr>\n",
       "      <th>2013-01-05</th>\n",
       "      <td>0.218572</td>\n",
       "      <td>0.943371</td>\n",
       "      <td>-1.105624</td>\n",
       "      <td>-2.535383</td>\n",
       "      <td>four</td>\n",
       "    </tr>\n",
       "  </tbody>\n",
       "</table>\n",
       "</div>"
      ],
      "text/plain": [
       "                   A         B         C         D     E\n",
       "2013-01-03  0.477230  0.297843  0.296030 -0.039864   two\n",
       "2013-01-05  0.218572  0.943371 -1.105624 -2.535383  four"
      ]
     },
     "execution_count": 43,
     "metadata": {},
     "output_type": "execute_result"
    }
   ],
   "source": [
    "df2[df2['E'].isin(['two','four'])]"
   ]
  },
  {
   "cell_type": "markdown",
   "metadata": {
    "colab_type": "text",
    "id": "qTihaKMQLNjE"
   },
   "source": [
    "## Setting (설정)\n",
    "새로운 열을 날짜와 인덱스에 따라 자동적으로 줄이 맞춰지도록 설정합니다. "
   ]
  },
  {
   "cell_type": "code",
   "execution_count": 44,
   "metadata": {
    "colab": {
     "autoexec": {
      "startup": false,
      "wait_interval": 0
     }
    },
    "colab_type": "code",
    "id": "fvQJ2s5SLNjE"
   },
   "outputs": [],
   "source": [
    "s1 = pd.Series([1,2,3,4,5,6], index=pd.date_range('20130102', periods=6))"
   ]
  },
  {
   "cell_type": "code",
   "execution_count": 45,
   "metadata": {
    "colab": {
     "autoexec": {
      "startup": false,
      "wait_interval": 0
     }
    },
    "colab_type": "code",
    "id": "PQDBCDXh7TKl"
   },
   "outputs": [
    {
     "data": {
      "text/plain": [
       "2013-01-02    1\n",
       "2013-01-03    2\n",
       "2013-01-04    3\n",
       "2013-01-05    4\n",
       "2013-01-06    5\n",
       "2013-01-07    6\n",
       "Freq: D, dtype: int64"
      ]
     },
     "execution_count": 45,
     "metadata": {},
     "output_type": "execute_result"
    }
   ],
   "source": [
    "s1"
   ]
  },
  {
   "cell_type": "code",
   "execution_count": 46,
   "metadata": {
    "colab": {
     "autoexec": {
      "startup": false,
      "wait_interval": 0
     }
    },
    "colab_type": "code",
    "id": "Rby6vIlw7ZBZ"
   },
   "outputs": [],
   "source": [
    "df['F'] = s1"
   ]
  },
  {
   "cell_type": "markdown",
   "metadata": {
    "colab_type": "text",
    "id": "uzRnbME87d3c"
   },
   "source": [
    "\n",
    "라벨에 따라 값을 설정하고 싶다면 :"
   ]
  },
  {
   "cell_type": "code",
   "execution_count": 47,
   "metadata": {
    "colab": {
     "autoexec": {
      "startup": false,
      "wait_interval": 0
     }
    },
    "colab_type": "code",
    "id": "y7IBkcwrLNjG",
    "outputId": "4a225365-b06d-4df9-a7b2-953b9c4af5ef"
   },
   "outputs": [],
   "source": [
    "df.at[dates[0],'A'] = 0"
   ]
  },
  {
   "cell_type": "markdown",
   "metadata": {
    "colab_type": "text",
    "id": "sMtaX7Ac8cH_"
   },
   "source": [
    "위치에 따라 값을 설정하고 싶다면 :"
   ]
  },
  {
   "cell_type": "code",
   "execution_count": 48,
   "metadata": {
    "colab": {
     "autoexec": {
      "startup": false,
      "wait_interval": 0
     }
    },
    "colab_type": "code",
    "id": "-gJFmCz47iSS"
   },
   "outputs": [],
   "source": [
    "df.iat[0,1] = 0"
   ]
  },
  {
   "cell_type": "markdown",
   "metadata": {
    "colab_type": "text",
    "id": "ogxVud9A81yE"
   },
   "source": [
    "Numpy 배열로 할당하고 싶다면  :"
   ]
  },
  {
   "cell_type": "code",
   "execution_count": 49,
   "metadata": {
    "colab": {
     "autoexec": {
      "startup": false,
      "wait_interval": 0
     }
    },
    "colab_type": "code",
    "id": "oP7RrCLm8zAT"
   },
   "outputs": [],
   "source": [
    "df.loc[:,'D'] = np.array([5] * len(df))"
   ]
  },
  {
   "cell_type": "markdown",
   "metadata": {
    "colab_type": "text",
    "id": "tGHZXR-K9IBc"
   },
   "source": [
    "위 설정대로 작동한 결과입니다."
   ]
  },
  {
   "cell_type": "code",
   "execution_count": 50,
   "metadata": {
    "colab": {
     "autoexec": {
      "startup": false,
      "wait_interval": 0
     }
    },
    "colab_type": "code",
    "id": "TH7YbAYFLNjM",
    "outputId": "4d3ecaf9-a9a3-4379-fb7a-c6bb708b448b"
   },
   "outputs": [
    {
     "data": {
      "text/html": [
       "<div>\n",
       "<style scoped>\n",
       "    .dataframe tbody tr th:only-of-type {\n",
       "        vertical-align: middle;\n",
       "    }\n",
       "\n",
       "    .dataframe tbody tr th {\n",
       "        vertical-align: top;\n",
       "    }\n",
       "\n",
       "    .dataframe thead th {\n",
       "        text-align: right;\n",
       "    }\n",
       "</style>\n",
       "<table border=\"1\" class=\"dataframe\">\n",
       "  <thead>\n",
       "    <tr style=\"text-align: right;\">\n",
       "      <th></th>\n",
       "      <th>A</th>\n",
       "      <th>B</th>\n",
       "      <th>C</th>\n",
       "      <th>D</th>\n",
       "      <th>F</th>\n",
       "    </tr>\n",
       "  </thead>\n",
       "  <tbody>\n",
       "    <tr>\n",
       "      <th>2013-01-01</th>\n",
       "      <td>0.000000</td>\n",
       "      <td>0.000000</td>\n",
       "      <td>0.294390</td>\n",
       "      <td>5</td>\n",
       "      <td>NaN</td>\n",
       "    </tr>\n",
       "    <tr>\n",
       "      <th>2013-01-02</th>\n",
       "      <td>1.759066</td>\n",
       "      <td>0.758942</td>\n",
       "      <td>0.219154</td>\n",
       "      <td>5</td>\n",
       "      <td>1.0</td>\n",
       "    </tr>\n",
       "    <tr>\n",
       "      <th>2013-01-03</th>\n",
       "      <td>0.477230</td>\n",
       "      <td>0.297843</td>\n",
       "      <td>0.296030</td>\n",
       "      <td>5</td>\n",
       "      <td>2.0</td>\n",
       "    </tr>\n",
       "    <tr>\n",
       "      <th>2013-01-04</th>\n",
       "      <td>-0.040605</td>\n",
       "      <td>-0.038518</td>\n",
       "      <td>0.205950</td>\n",
       "      <td>5</td>\n",
       "      <td>3.0</td>\n",
       "    </tr>\n",
       "    <tr>\n",
       "      <th>2013-01-05</th>\n",
       "      <td>0.218572</td>\n",
       "      <td>0.943371</td>\n",
       "      <td>-1.105624</td>\n",
       "      <td>5</td>\n",
       "      <td>4.0</td>\n",
       "    </tr>\n",
       "    <tr>\n",
       "      <th>2013-01-06</th>\n",
       "      <td>-1.003973</td>\n",
       "      <td>-1.044924</td>\n",
       "      <td>0.270270</td>\n",
       "      <td>5</td>\n",
       "      <td>5.0</td>\n",
       "    </tr>\n",
       "  </tbody>\n",
       "</table>\n",
       "</div>"
      ],
      "text/plain": [
       "                   A         B         C  D    F\n",
       "2013-01-01  0.000000  0.000000  0.294390  5  NaN\n",
       "2013-01-02  1.759066  0.758942  0.219154  5  1.0\n",
       "2013-01-03  0.477230  0.297843  0.296030  5  2.0\n",
       "2013-01-04 -0.040605 -0.038518  0.205950  5  3.0\n",
       "2013-01-05  0.218572  0.943371 -1.105624  5  4.0\n",
       "2013-01-06 -1.003973 -1.044924  0.270270  5  5.0"
      ]
     },
     "execution_count": 50,
     "metadata": {},
     "output_type": "execute_result"
    }
   ],
   "source": [
    "df"
   ]
  },
  {
   "cell_type": "markdown",
   "metadata": {
    "colab_type": "text",
    "id": "ATHUfgEp-afg"
   },
   "source": [
    "설정된 where 작업입니다."
   ]
  },
  {
   "cell_type": "code",
   "execution_count": 51,
   "metadata": {
    "colab": {
     "autoexec": {
      "startup": false,
      "wait_interval": 0
     }
    },
    "colab_type": "code",
    "id": "CYGS8DZeLNjN"
   },
   "outputs": [],
   "source": [
    "df2 = df.copy()"
   ]
  },
  {
   "cell_type": "code",
   "execution_count": 52,
   "metadata": {
    "colab": {
     "autoexec": {
      "startup": false,
      "wait_interval": 0
     }
    },
    "colab_type": "code",
    "id": "ENx6j5B3-T4P"
   },
   "outputs": [],
   "source": [
    "df2[df2 > 0] = -df2"
   ]
  },
  {
   "cell_type": "code",
   "execution_count": 53,
   "metadata": {
    "colab": {
     "autoexec": {
      "startup": false,
      "wait_interval": 0
     }
    },
    "colab_type": "code",
    "id": "C-4V1gy8-YME"
   },
   "outputs": [
    {
     "data": {
      "text/html": [
       "<div>\n",
       "<style scoped>\n",
       "    .dataframe tbody tr th:only-of-type {\n",
       "        vertical-align: middle;\n",
       "    }\n",
       "\n",
       "    .dataframe tbody tr th {\n",
       "        vertical-align: top;\n",
       "    }\n",
       "\n",
       "    .dataframe thead th {\n",
       "        text-align: right;\n",
       "    }\n",
       "</style>\n",
       "<table border=\"1\" class=\"dataframe\">\n",
       "  <thead>\n",
       "    <tr style=\"text-align: right;\">\n",
       "      <th></th>\n",
       "      <th>A</th>\n",
       "      <th>B</th>\n",
       "      <th>C</th>\n",
       "      <th>D</th>\n",
       "      <th>F</th>\n",
       "    </tr>\n",
       "  </thead>\n",
       "  <tbody>\n",
       "    <tr>\n",
       "      <th>2013-01-01</th>\n",
       "      <td>0.000000</td>\n",
       "      <td>0.000000</td>\n",
       "      <td>-0.294390</td>\n",
       "      <td>-5</td>\n",
       "      <td>NaN</td>\n",
       "    </tr>\n",
       "    <tr>\n",
       "      <th>2013-01-02</th>\n",
       "      <td>-1.759066</td>\n",
       "      <td>-0.758942</td>\n",
       "      <td>-0.219154</td>\n",
       "      <td>-5</td>\n",
       "      <td>-1.0</td>\n",
       "    </tr>\n",
       "    <tr>\n",
       "      <th>2013-01-03</th>\n",
       "      <td>-0.477230</td>\n",
       "      <td>-0.297843</td>\n",
       "      <td>-0.296030</td>\n",
       "      <td>-5</td>\n",
       "      <td>-2.0</td>\n",
       "    </tr>\n",
       "    <tr>\n",
       "      <th>2013-01-04</th>\n",
       "      <td>-0.040605</td>\n",
       "      <td>-0.038518</td>\n",
       "      <td>-0.205950</td>\n",
       "      <td>-5</td>\n",
       "      <td>-3.0</td>\n",
       "    </tr>\n",
       "    <tr>\n",
       "      <th>2013-01-05</th>\n",
       "      <td>-0.218572</td>\n",
       "      <td>-0.943371</td>\n",
       "      <td>-1.105624</td>\n",
       "      <td>-5</td>\n",
       "      <td>-4.0</td>\n",
       "    </tr>\n",
       "    <tr>\n",
       "      <th>2013-01-06</th>\n",
       "      <td>-1.003973</td>\n",
       "      <td>-1.044924</td>\n",
       "      <td>-0.270270</td>\n",
       "      <td>-5</td>\n",
       "      <td>-5.0</td>\n",
       "    </tr>\n",
       "  </tbody>\n",
       "</table>\n",
       "</div>"
      ],
      "text/plain": [
       "                   A         B         C  D    F\n",
       "2013-01-01  0.000000  0.000000 -0.294390 -5  NaN\n",
       "2013-01-02 -1.759066 -0.758942 -0.219154 -5 -1.0\n",
       "2013-01-03 -0.477230 -0.297843 -0.296030 -5 -2.0\n",
       "2013-01-04 -0.040605 -0.038518 -0.205950 -5 -3.0\n",
       "2013-01-05 -0.218572 -0.943371 -1.105624 -5 -4.0\n",
       "2013-01-06 -1.003973 -1.044924 -0.270270 -5 -5.0"
      ]
     },
     "execution_count": 53,
     "metadata": {},
     "output_type": "execute_result"
    }
   ],
   "source": [
    "df2"
   ]
  },
  {
   "cell_type": "markdown",
   "metadata": {
    "colab_type": "text",
    "id": "f7mkUirR5hit"
   },
   "source": [
    "# Missing Data(결측치)"
   ]
  },
  {
   "cell_type": "markdown",
   "metadata": {
    "colab_type": "text",
    "id": "p1uohebm9Emf"
   },
   "source": [
    "pandas는 missing data(결측치)를 표현하기 위해 주로 np.nan 값을 사용합니다. 이 방법은 default(기본 설정)이지만 계산에는 포함되지 않습니다. [Missing Data section](https://pandas.pydata.org/pandas-docs/stable/missing_data.html#missing-data)을 참조하십시오.\n",
    "\n",
    "\n"
   ]
  },
  {
   "cell_type": "markdown",
   "metadata": {
    "colab_type": "text",
    "id": "xAVZmDGC96Nn"
   },
   "source": [
    "Reindexing으로 지정된 축을 변경/추가/삭제할 수 있습니다. Reindexing은 데이터 복사본을 반환합니다."
   ]
  },
  {
   "cell_type": "code",
   "execution_count": 54,
   "metadata": {
    "colab": {
     "autoexec": {
      "startup": false,
      "wait_interval": 0
     }
    },
    "colab_type": "code",
    "id": "zCxw1r4M-Pmt"
   },
   "outputs": [],
   "source": [
    "df1 = df.reindex(index=dates[0:4], columns=list(df.columns) + ['E'])"
   ]
  },
  {
   "cell_type": "code",
   "execution_count": 55,
   "metadata": {
    "colab": {
     "autoexec": {
      "startup": false,
      "wait_interval": 0
     }
    },
    "colab_type": "code",
    "id": "Oi_hYCsu-hfJ"
   },
   "outputs": [],
   "source": [
    "df1.loc[dates[0]:dates[1],'E'] = 1"
   ]
  },
  {
   "cell_type": "code",
   "execution_count": 56,
   "metadata": {
    "colab": {
     "autoexec": {
      "startup": false,
      "wait_interval": 0
     }
    },
    "colab_type": "code",
    "id": "w6yiTzDK-jwg"
   },
   "outputs": [
    {
     "data": {
      "text/html": [
       "<div>\n",
       "<style scoped>\n",
       "    .dataframe tbody tr th:only-of-type {\n",
       "        vertical-align: middle;\n",
       "    }\n",
       "\n",
       "    .dataframe tbody tr th {\n",
       "        vertical-align: top;\n",
       "    }\n",
       "\n",
       "    .dataframe thead th {\n",
       "        text-align: right;\n",
       "    }\n",
       "</style>\n",
       "<table border=\"1\" class=\"dataframe\">\n",
       "  <thead>\n",
       "    <tr style=\"text-align: right;\">\n",
       "      <th></th>\n",
       "      <th>A</th>\n",
       "      <th>B</th>\n",
       "      <th>C</th>\n",
       "      <th>D</th>\n",
       "      <th>F</th>\n",
       "      <th>E</th>\n",
       "    </tr>\n",
       "  </thead>\n",
       "  <tbody>\n",
       "    <tr>\n",
       "      <th>2013-01-01</th>\n",
       "      <td>0.000000</td>\n",
       "      <td>0.000000</td>\n",
       "      <td>0.294390</td>\n",
       "      <td>5</td>\n",
       "      <td>NaN</td>\n",
       "      <td>1.0</td>\n",
       "    </tr>\n",
       "    <tr>\n",
       "      <th>2013-01-02</th>\n",
       "      <td>1.759066</td>\n",
       "      <td>0.758942</td>\n",
       "      <td>0.219154</td>\n",
       "      <td>5</td>\n",
       "      <td>1.0</td>\n",
       "      <td>1.0</td>\n",
       "    </tr>\n",
       "    <tr>\n",
       "      <th>2013-01-03</th>\n",
       "      <td>0.477230</td>\n",
       "      <td>0.297843</td>\n",
       "      <td>0.296030</td>\n",
       "      <td>5</td>\n",
       "      <td>2.0</td>\n",
       "      <td>NaN</td>\n",
       "    </tr>\n",
       "    <tr>\n",
       "      <th>2013-01-04</th>\n",
       "      <td>-0.040605</td>\n",
       "      <td>-0.038518</td>\n",
       "      <td>0.205950</td>\n",
       "      <td>5</td>\n",
       "      <td>3.0</td>\n",
       "      <td>NaN</td>\n",
       "    </tr>\n",
       "  </tbody>\n",
       "</table>\n",
       "</div>"
      ],
      "text/plain": [
       "                   A         B         C  D    F    E\n",
       "2013-01-01  0.000000  0.000000  0.294390  5  NaN  1.0\n",
       "2013-01-02  1.759066  0.758942  0.219154  5  1.0  1.0\n",
       "2013-01-03  0.477230  0.297843  0.296030  5  2.0  NaN\n",
       "2013-01-04 -0.040605 -0.038518  0.205950  5  3.0  NaN"
      ]
     },
     "execution_count": 56,
     "metadata": {},
     "output_type": "execute_result"
    }
   ],
   "source": [
    "df1"
   ]
  },
  {
   "cell_type": "markdown",
   "metadata": {
    "colab_type": "text",
    "id": "nzGUIHyfAW3Y"
   },
   "source": [
    "missing data(결측치)를 갖고 있는 행들을 지웁니다."
   ]
  },
  {
   "cell_type": "code",
   "execution_count": 57,
   "metadata": {
    "colab": {
     "autoexec": {
      "startup": false,
      "wait_interval": 0
     }
    },
    "colab_type": "code",
    "id": "S-zlTo0pAeyf"
   },
   "outputs": [
    {
     "data": {
      "text/html": [
       "<div>\n",
       "<style scoped>\n",
       "    .dataframe tbody tr th:only-of-type {\n",
       "        vertical-align: middle;\n",
       "    }\n",
       "\n",
       "    .dataframe tbody tr th {\n",
       "        vertical-align: top;\n",
       "    }\n",
       "\n",
       "    .dataframe thead th {\n",
       "        text-align: right;\n",
       "    }\n",
       "</style>\n",
       "<table border=\"1\" class=\"dataframe\">\n",
       "  <thead>\n",
       "    <tr style=\"text-align: right;\">\n",
       "      <th></th>\n",
       "      <th>A</th>\n",
       "      <th>B</th>\n",
       "      <th>C</th>\n",
       "      <th>D</th>\n",
       "      <th>F</th>\n",
       "      <th>E</th>\n",
       "    </tr>\n",
       "  </thead>\n",
       "  <tbody>\n",
       "    <tr>\n",
       "      <th>2013-01-02</th>\n",
       "      <td>1.759066</td>\n",
       "      <td>0.758942</td>\n",
       "      <td>0.219154</td>\n",
       "      <td>5</td>\n",
       "      <td>1.0</td>\n",
       "      <td>1.0</td>\n",
       "    </tr>\n",
       "  </tbody>\n",
       "</table>\n",
       "</div>"
      ],
      "text/plain": [
       "                   A         B         C  D    F    E\n",
       "2013-01-02  1.759066  0.758942  0.219154  5  1.0  1.0"
      ]
     },
     "execution_count": 57,
     "metadata": {},
     "output_type": "execute_result"
    }
   ],
   "source": [
    "df1.dropna(how='any')"
   ]
  },
  {
   "cell_type": "markdown",
   "metadata": {
    "colab_type": "text",
    "id": "vrgy7BjkAfCF"
   },
   "source": [
    "missing data(결측치)를 채웁니다."
   ]
  },
  {
   "cell_type": "code",
   "execution_count": 58,
   "metadata": {
    "colab": {
     "autoexec": {
      "startup": false,
      "wait_interval": 0
     }
    },
    "colab_type": "code",
    "id": "h4nTFHr6AfUt"
   },
   "outputs": [
    {
     "data": {
      "text/html": [
       "<div>\n",
       "<style scoped>\n",
       "    .dataframe tbody tr th:only-of-type {\n",
       "        vertical-align: middle;\n",
       "    }\n",
       "\n",
       "    .dataframe tbody tr th {\n",
       "        vertical-align: top;\n",
       "    }\n",
       "\n",
       "    .dataframe thead th {\n",
       "        text-align: right;\n",
       "    }\n",
       "</style>\n",
       "<table border=\"1\" class=\"dataframe\">\n",
       "  <thead>\n",
       "    <tr style=\"text-align: right;\">\n",
       "      <th></th>\n",
       "      <th>A</th>\n",
       "      <th>B</th>\n",
       "      <th>C</th>\n",
       "      <th>D</th>\n",
       "      <th>F</th>\n",
       "      <th>E</th>\n",
       "    </tr>\n",
       "  </thead>\n",
       "  <tbody>\n",
       "    <tr>\n",
       "      <th>2013-01-01</th>\n",
       "      <td>0.000000</td>\n",
       "      <td>0.000000</td>\n",
       "      <td>0.294390</td>\n",
       "      <td>5</td>\n",
       "      <td>5.0</td>\n",
       "      <td>1.0</td>\n",
       "    </tr>\n",
       "    <tr>\n",
       "      <th>2013-01-02</th>\n",
       "      <td>1.759066</td>\n",
       "      <td>0.758942</td>\n",
       "      <td>0.219154</td>\n",
       "      <td>5</td>\n",
       "      <td>1.0</td>\n",
       "      <td>1.0</td>\n",
       "    </tr>\n",
       "    <tr>\n",
       "      <th>2013-01-03</th>\n",
       "      <td>0.477230</td>\n",
       "      <td>0.297843</td>\n",
       "      <td>0.296030</td>\n",
       "      <td>5</td>\n",
       "      <td>2.0</td>\n",
       "      <td>5.0</td>\n",
       "    </tr>\n",
       "    <tr>\n",
       "      <th>2013-01-04</th>\n",
       "      <td>-0.040605</td>\n",
       "      <td>-0.038518</td>\n",
       "      <td>0.205950</td>\n",
       "      <td>5</td>\n",
       "      <td>3.0</td>\n",
       "      <td>5.0</td>\n",
       "    </tr>\n",
       "  </tbody>\n",
       "</table>\n",
       "</div>"
      ],
      "text/plain": [
       "                   A         B         C  D    F    E\n",
       "2013-01-01  0.000000  0.000000  0.294390  5  5.0  1.0\n",
       "2013-01-02  1.759066  0.758942  0.219154  5  1.0  1.0\n",
       "2013-01-03  0.477230  0.297843  0.296030  5  2.0  5.0\n",
       "2013-01-04 -0.040605 -0.038518  0.205950  5  3.0  5.0"
      ]
     },
     "execution_count": 58,
     "metadata": {},
     "output_type": "execute_result"
    }
   ],
   "source": [
    "df1.fillna(value=5)"
   ]
  },
  {
   "cell_type": "markdown",
   "metadata": {
    "colab_type": "text",
    "id": "rWuLWklCAkWB"
   },
   "source": [
    "값이 nan인 boolean mask 얻습니다."
   ]
  },
  {
   "cell_type": "code",
   "execution_count": 59,
   "metadata": {
    "colab": {
     "autoexec": {
      "startup": false,
      "wait_interval": 0
     }
    },
    "colab_type": "code",
    "id": "tcWqhC4IBAgI"
   },
   "outputs": [
    {
     "data": {
      "text/html": [
       "<div>\n",
       "<style scoped>\n",
       "    .dataframe tbody tr th:only-of-type {\n",
       "        vertical-align: middle;\n",
       "    }\n",
       "\n",
       "    .dataframe tbody tr th {\n",
       "        vertical-align: top;\n",
       "    }\n",
       "\n",
       "    .dataframe thead th {\n",
       "        text-align: right;\n",
       "    }\n",
       "</style>\n",
       "<table border=\"1\" class=\"dataframe\">\n",
       "  <thead>\n",
       "    <tr style=\"text-align: right;\">\n",
       "      <th></th>\n",
       "      <th>A</th>\n",
       "      <th>B</th>\n",
       "      <th>C</th>\n",
       "      <th>D</th>\n",
       "      <th>F</th>\n",
       "      <th>E</th>\n",
       "    </tr>\n",
       "  </thead>\n",
       "  <tbody>\n",
       "    <tr>\n",
       "      <th>2013-01-01</th>\n",
       "      <td>False</td>\n",
       "      <td>False</td>\n",
       "      <td>False</td>\n",
       "      <td>False</td>\n",
       "      <td>True</td>\n",
       "      <td>False</td>\n",
       "    </tr>\n",
       "    <tr>\n",
       "      <th>2013-01-02</th>\n",
       "      <td>False</td>\n",
       "      <td>False</td>\n",
       "      <td>False</td>\n",
       "      <td>False</td>\n",
       "      <td>False</td>\n",
       "      <td>False</td>\n",
       "    </tr>\n",
       "    <tr>\n",
       "      <th>2013-01-03</th>\n",
       "      <td>False</td>\n",
       "      <td>False</td>\n",
       "      <td>False</td>\n",
       "      <td>False</td>\n",
       "      <td>False</td>\n",
       "      <td>True</td>\n",
       "    </tr>\n",
       "    <tr>\n",
       "      <th>2013-01-04</th>\n",
       "      <td>False</td>\n",
       "      <td>False</td>\n",
       "      <td>False</td>\n",
       "      <td>False</td>\n",
       "      <td>False</td>\n",
       "      <td>True</td>\n",
       "    </tr>\n",
       "  </tbody>\n",
       "</table>\n",
       "</div>"
      ],
      "text/plain": [
       "                A      B      C      D      F      E\n",
       "2013-01-01  False  False  False  False   True  False\n",
       "2013-01-02  False  False  False  False  False  False\n",
       "2013-01-03  False  False  False  False  False   True\n",
       "2013-01-04  False  False  False  False  False   True"
      ]
     },
     "execution_count": 59,
     "metadata": {},
     "output_type": "execute_result"
    }
   ],
   "source": [
    "pd.isna(df1)"
   ]
  },
  {
   "cell_type": "markdown",
   "metadata": {
    "colab_type": "text",
    "id": "_Vtbv3Am59wL"
   },
   "source": [
    "# Operation (연산)"
   ]
  },
  {
   "cell_type": "markdown",
   "metadata": {
    "colab_type": "text",
    "id": "rX4XUGEG6gR4"
   },
   "source": [
    "[바이너리 작업의 기본 섹션](https://pandas.pydata.org/pandas-docs/stable/basics.html#basics-binop)을 참조하십시오."
   ]
  },
  {
   "cell_type": "markdown",
   "metadata": {
    "colab_type": "text",
    "id": "mcVNuuy_5_wW"
   },
   "source": [
    "## Stats(통계)"
   ]
  },
  {
   "cell_type": "markdown",
   "metadata": {
    "colab_type": "text",
    "id": "iPX_nN0vBiMb"
   },
   "source": [
    "일반적으로 연산은 missing data(결측치)를 제외합니다.\n",
    "\n",
    "서술적인 통계를 수행합니다."
   ]
  },
  {
   "cell_type": "code",
   "execution_count": 60,
   "metadata": {
    "colab": {
     "autoexec": {
      "startup": false,
      "wait_interval": 0
     }
    },
    "colab_type": "code",
    "id": "6W54szbp68LC"
   },
   "outputs": [
    {
     "data": {
      "text/plain": [
       "A    0.235048\n",
       "B    0.152786\n",
       "C    0.030028\n",
       "D    5.000000\n",
       "F    3.000000\n",
       "dtype: float64"
      ]
     },
     "execution_count": 60,
     "metadata": {},
     "output_type": "execute_result"
    }
   ],
   "source": [
    "df.mean()"
   ]
  },
  {
   "cell_type": "markdown",
   "metadata": {
    "colab_type": "text",
    "id": "UdhVHC9A6996"
   },
   "source": [
    "다른 축에서 동일한 작업을 수행합니다."
   ]
  },
  {
   "cell_type": "code",
   "execution_count": 61,
   "metadata": {
    "colab": {
     "autoexec": {
      "startup": false,
      "wait_interval": 0
     }
    },
    "colab_type": "code",
    "id": "XC1HZGxN6-MI"
   },
   "outputs": [
    {
     "data": {
      "text/plain": [
       "2013-01-01    1.323598\n",
       "2013-01-02    1.747432\n",
       "2013-01-03    1.614221\n",
       "2013-01-04    1.625365\n",
       "2013-01-05    1.811264\n",
       "2013-01-06    1.644275\n",
       "Freq: D, dtype: float64"
      ]
     },
     "execution_count": 61,
     "metadata": {},
     "output_type": "execute_result"
    }
   ],
   "source": [
    "df.mean(1)"
   ]
  },
  {
   "cell_type": "markdown",
   "metadata": {
    "colab_type": "text",
    "id": "jiGhkFo-7HZf"
   },
   "source": [
    "차원이 다르고 정렬이 필요한 객체로 작업합니다. 또한 pandas는 지정된 차원을 따라 자동으로 브로드 캐스팅(역주 : broadcast란 numpy에서 유래한 용어로, n차원이나 스칼라 값으로 연산을 수행할 때 도출되는 결과의 규칙을 설명하는 것을 의미합니다.)됩니다."
   ]
  },
  {
   "cell_type": "code",
   "execution_count": 62,
   "metadata": {
    "colab": {
     "autoexec": {
      "startup": false,
      "wait_interval": 0
     }
    },
    "colab_type": "code",
    "id": "h3RUr6U_7Utf"
   },
   "outputs": [],
   "source": [
    "s = pd.Series([1,3,5,np.nan,6,8], index=dates).shift(2)"
   ]
  },
  {
   "cell_type": "code",
   "execution_count": 63,
   "metadata": {
    "colab": {
     "autoexec": {
      "startup": false,
      "wait_interval": 0
     }
    },
    "colab_type": "code",
    "id": "e-qo9CjL7XUD"
   },
   "outputs": [
    {
     "data": {
      "text/plain": [
       "2013-01-01    NaN\n",
       "2013-01-02    NaN\n",
       "2013-01-03    1.0\n",
       "2013-01-04    3.0\n",
       "2013-01-05    5.0\n",
       "2013-01-06    NaN\n",
       "Freq: D, dtype: float64"
      ]
     },
     "execution_count": 63,
     "metadata": {},
     "output_type": "execute_result"
    }
   ],
   "source": [
    "s"
   ]
  },
  {
   "cell_type": "code",
   "execution_count": 64,
   "metadata": {
    "colab": {
     "autoexec": {
      "startup": false,
      "wait_interval": 0
     }
    },
    "colab_type": "code",
    "id": "GowqZoeb7ZZo"
   },
   "outputs": [
    {
     "data": {
      "text/html": [
       "<div>\n",
       "<style scoped>\n",
       "    .dataframe tbody tr th:only-of-type {\n",
       "        vertical-align: middle;\n",
       "    }\n",
       "\n",
       "    .dataframe tbody tr th {\n",
       "        vertical-align: top;\n",
       "    }\n",
       "\n",
       "    .dataframe thead th {\n",
       "        text-align: right;\n",
       "    }\n",
       "</style>\n",
       "<table border=\"1\" class=\"dataframe\">\n",
       "  <thead>\n",
       "    <tr style=\"text-align: right;\">\n",
       "      <th></th>\n",
       "      <th>A</th>\n",
       "      <th>B</th>\n",
       "      <th>C</th>\n",
       "      <th>D</th>\n",
       "      <th>F</th>\n",
       "    </tr>\n",
       "  </thead>\n",
       "  <tbody>\n",
       "    <tr>\n",
       "      <th>2013-01-01</th>\n",
       "      <td>NaN</td>\n",
       "      <td>NaN</td>\n",
       "      <td>NaN</td>\n",
       "      <td>NaN</td>\n",
       "      <td>NaN</td>\n",
       "    </tr>\n",
       "    <tr>\n",
       "      <th>2013-01-02</th>\n",
       "      <td>NaN</td>\n",
       "      <td>NaN</td>\n",
       "      <td>NaN</td>\n",
       "      <td>NaN</td>\n",
       "      <td>NaN</td>\n",
       "    </tr>\n",
       "    <tr>\n",
       "      <th>2013-01-03</th>\n",
       "      <td>-0.522770</td>\n",
       "      <td>-0.702157</td>\n",
       "      <td>-0.703970</td>\n",
       "      <td>4.0</td>\n",
       "      <td>1.0</td>\n",
       "    </tr>\n",
       "    <tr>\n",
       "      <th>2013-01-04</th>\n",
       "      <td>-3.040605</td>\n",
       "      <td>-3.038518</td>\n",
       "      <td>-2.794050</td>\n",
       "      <td>2.0</td>\n",
       "      <td>0.0</td>\n",
       "    </tr>\n",
       "    <tr>\n",
       "      <th>2013-01-05</th>\n",
       "      <td>-4.781428</td>\n",
       "      <td>-4.056629</td>\n",
       "      <td>-6.105624</td>\n",
       "      <td>0.0</td>\n",
       "      <td>-1.0</td>\n",
       "    </tr>\n",
       "    <tr>\n",
       "      <th>2013-01-06</th>\n",
       "      <td>NaN</td>\n",
       "      <td>NaN</td>\n",
       "      <td>NaN</td>\n",
       "      <td>NaN</td>\n",
       "      <td>NaN</td>\n",
       "    </tr>\n",
       "  </tbody>\n",
       "</table>\n",
       "</div>"
      ],
      "text/plain": [
       "                   A         B         C    D    F\n",
       "2013-01-01       NaN       NaN       NaN  NaN  NaN\n",
       "2013-01-02       NaN       NaN       NaN  NaN  NaN\n",
       "2013-01-03 -0.522770 -0.702157 -0.703970  4.0  1.0\n",
       "2013-01-04 -3.040605 -3.038518 -2.794050  2.0  0.0\n",
       "2013-01-05 -4.781428 -4.056629 -6.105624  0.0 -1.0\n",
       "2013-01-06       NaN       NaN       NaN  NaN  NaN"
      ]
     },
     "execution_count": 64,
     "metadata": {},
     "output_type": "execute_result"
    }
   ],
   "source": [
    "df.sub(s, axis='index')"
   ]
  },
  {
   "cell_type": "markdown",
   "metadata": {
    "colab_type": "text",
    "id": "R7jzj-cH6Ahc"
   },
   "source": [
    "## Apply (적용하기)"
   ]
  },
  {
   "cell_type": "markdown",
   "metadata": {
    "colab_type": "text",
    "id": "gkSA3r_R7Ea6"
   },
   "source": [
    "데이터에 기능을 적용합니다."
   ]
  },
  {
   "cell_type": "code",
   "execution_count": 65,
   "metadata": {
    "colab": {
     "autoexec": {
      "startup": false,
      "wait_interval": 0
     }
    },
    "colab_type": "code",
    "id": "kPNfiNAy7IQZ"
   },
   "outputs": [
    {
     "data": {
      "text/html": [
       "<div>\n",
       "<style scoped>\n",
       "    .dataframe tbody tr th:only-of-type {\n",
       "        vertical-align: middle;\n",
       "    }\n",
       "\n",
       "    .dataframe tbody tr th {\n",
       "        vertical-align: top;\n",
       "    }\n",
       "\n",
       "    .dataframe thead th {\n",
       "        text-align: right;\n",
       "    }\n",
       "</style>\n",
       "<table border=\"1\" class=\"dataframe\">\n",
       "  <thead>\n",
       "    <tr style=\"text-align: right;\">\n",
       "      <th></th>\n",
       "      <th>A</th>\n",
       "      <th>B</th>\n",
       "      <th>C</th>\n",
       "      <th>D</th>\n",
       "      <th>F</th>\n",
       "    </tr>\n",
       "  </thead>\n",
       "  <tbody>\n",
       "    <tr>\n",
       "      <th>2013-01-01</th>\n",
       "      <td>0.000000</td>\n",
       "      <td>0.000000</td>\n",
       "      <td>0.294390</td>\n",
       "      <td>5</td>\n",
       "      <td>NaN</td>\n",
       "    </tr>\n",
       "    <tr>\n",
       "      <th>2013-01-02</th>\n",
       "      <td>1.759066</td>\n",
       "      <td>0.758942</td>\n",
       "      <td>0.513544</td>\n",
       "      <td>10</td>\n",
       "      <td>1.0</td>\n",
       "    </tr>\n",
       "    <tr>\n",
       "      <th>2013-01-03</th>\n",
       "      <td>2.236296</td>\n",
       "      <td>1.056785</td>\n",
       "      <td>0.809573</td>\n",
       "      <td>15</td>\n",
       "      <td>3.0</td>\n",
       "    </tr>\n",
       "    <tr>\n",
       "      <th>2013-01-04</th>\n",
       "      <td>2.195691</td>\n",
       "      <td>1.018268</td>\n",
       "      <td>1.015524</td>\n",
       "      <td>20</td>\n",
       "      <td>6.0</td>\n",
       "    </tr>\n",
       "    <tr>\n",
       "      <th>2013-01-05</th>\n",
       "      <td>2.414263</td>\n",
       "      <td>1.961639</td>\n",
       "      <td>-0.090100</td>\n",
       "      <td>25</td>\n",
       "      <td>10.0</td>\n",
       "    </tr>\n",
       "    <tr>\n",
       "      <th>2013-01-06</th>\n",
       "      <td>1.410290</td>\n",
       "      <td>0.916715</td>\n",
       "      <td>0.180169</td>\n",
       "      <td>30</td>\n",
       "      <td>15.0</td>\n",
       "    </tr>\n",
       "  </tbody>\n",
       "</table>\n",
       "</div>"
      ],
      "text/plain": [
       "                   A         B         C   D     F\n",
       "2013-01-01  0.000000  0.000000  0.294390   5   NaN\n",
       "2013-01-02  1.759066  0.758942  0.513544  10   1.0\n",
       "2013-01-03  2.236296  1.056785  0.809573  15   3.0\n",
       "2013-01-04  2.195691  1.018268  1.015524  20   6.0\n",
       "2013-01-05  2.414263  1.961639 -0.090100  25  10.0\n",
       "2013-01-06  1.410290  0.916715  0.180169  30  15.0"
      ]
     },
     "execution_count": 65,
     "metadata": {},
     "output_type": "execute_result"
    }
   ],
   "source": [
    "df.apply(np.cumsum)"
   ]
  },
  {
   "cell_type": "code",
   "execution_count": 66,
   "metadata": {
    "colab": {
     "autoexec": {
      "startup": false,
      "wait_interval": 0
     }
    },
    "colab_type": "code",
    "id": "y02IO2qi7QPj"
   },
   "outputs": [
    {
     "data": {
      "text/plain": [
       "A    2.763038\n",
       "B    1.988295\n",
       "C    1.401654\n",
       "D    0.000000\n",
       "F    4.000000\n",
       "dtype: float64"
      ]
     },
     "execution_count": 66,
     "metadata": {},
     "output_type": "execute_result"
    }
   ],
   "source": [
    "df.apply(lambda x: x.max() - x.min())"
   ]
  },
  {
   "cell_type": "markdown",
   "metadata": {
    "colab_type": "text",
    "id": "UyvQC_nC6S6g"
   },
   "source": [
    "## Histogramming (히스토그래밍)"
   ]
  },
  {
   "cell_type": "markdown",
   "metadata": {
    "colab_type": "text",
    "id": "lKd5leGq7KDd"
   },
   "source": [
    "더 많은 내용은 [Histogramming and Discretization (히스토그래밍과 이산화)](https://pandas.pydata.org/pandas-docs/stable/basics.html#basics-discretization)항목을 참조하십시오."
   ]
  },
  {
   "cell_type": "code",
   "execution_count": 67,
   "metadata": {
    "colab": {
     "autoexec": {
      "startup": false,
      "wait_interval": 0
     }
    },
    "colab_type": "code",
    "id": "TL4MDK3o7I6X"
   },
   "outputs": [],
   "source": [
    "s = pd.Series(np.random.randint(0, 7, size=10))"
   ]
  },
  {
   "cell_type": "code",
   "execution_count": 68,
   "metadata": {
    "colab": {
     "autoexec": {
      "startup": false,
      "wait_interval": 0
     }
    },
    "colab_type": "code",
    "id": "1Aa6PhyU7TD0"
   },
   "outputs": [
    {
     "data": {
      "text/plain": [
       "0    1\n",
       "1    4\n",
       "2    6\n",
       "3    3\n",
       "4    5\n",
       "5    3\n",
       "6    3\n",
       "7    4\n",
       "8    1\n",
       "9    3\n",
       "dtype: int64"
      ]
     },
     "execution_count": 68,
     "metadata": {},
     "output_type": "execute_result"
    }
   ],
   "source": [
    "s"
   ]
  },
  {
   "cell_type": "code",
   "execution_count": 69,
   "metadata": {
    "colab": {
     "autoexec": {
      "startup": false,
      "wait_interval": 0
     },
     "base_uri": "https://localhost:8080/",
     "height": 124
    },
    "colab_type": "code",
    "executionInfo": {
     "elapsed": 910,
     "status": "ok",
     "timestamp": 1531813266562,
     "user": {
      "displayName": "이다혜",
      "photoUrl": "https://lh3.googleusercontent.com/a/default-user=s128",
      "userId": "111233705933183008783"
     },
     "user_tz": -540
    },
    "id": "Jft1Ma0v7VLn",
    "outputId": "5b58fe9b-e21b-4044-833f-abbae60ce26b"
   },
   "outputs": [
    {
     "data": {
      "text/plain": [
       "3    4\n",
       "4    2\n",
       "1    2\n",
       "6    1\n",
       "5    1\n",
       "dtype: int64"
      ]
     },
     "execution_count": 69,
     "metadata": {},
     "output_type": "execute_result"
    }
   ],
   "source": [
    "s.value_counts()"
   ]
  },
  {
   "cell_type": "markdown",
   "metadata": {
    "colab_type": "text",
    "id": "WsQyIOdF6aPw"
   },
   "source": [
    "## String Mathods (문자열 메서드)"
   ]
  },
  {
   "cell_type": "markdown",
   "metadata": {
    "colab_type": "text",
    "id": "ap_qOc_x7dwT"
   },
   "source": [
    "Series 는 아래의 코드 스니펫에서처럼 배열의 각 요소를 쉽게 조작할 수 있도록 하는 문자열 처리 메서드 세트를 갖추고 있습니다. 주로 문자열에서의 패턴 매칭은 자동으로 [regular expressions (정규식)](https://docs.python.org/3/library/re.html)을 사용한다는 것을 유의하십시오. (그리고 가끔 어떤 경우에는 항상 정규식을 사용합니다.) \n",
    "\n",
    "더 많은 내용은 [Vectorized String Methods (벡터화된 문자열 메서드)](https://pandas.pydata.org/pandas-docs/stable/text.html#text-string-methods) 항목을 참조하십시오. "
   ]
  },
  {
   "cell_type": "code",
   "execution_count": 70,
   "metadata": {
    "colab": {
     "autoexec": {
      "startup": false,
      "wait_interval": 0
     }
    },
    "colab_type": "code",
    "id": "jn5Yl6Md7cqb"
   },
   "outputs": [],
   "source": [
    "s = pd.Series(['A', 'B', 'C', 'Aaba', 'Baca', np.nan, 'CABA', 'dog', 'cat'])"
   ]
  },
  {
   "cell_type": "code",
   "execution_count": 71,
   "metadata": {
    "colab": {
     "autoexec": {
      "startup": false,
      "wait_interval": 0
     }
    },
    "colab_type": "code",
    "id": "ZL7RxX4k8HHP"
   },
   "outputs": [
    {
     "data": {
      "text/plain": [
       "0       a\n",
       "1       b\n",
       "2       c\n",
       "3    aaba\n",
       "4    baca\n",
       "5     NaN\n",
       "6    caba\n",
       "7     dog\n",
       "8     cat\n",
       "dtype: object"
      ]
     },
     "execution_count": 71,
     "metadata": {},
     "output_type": "execute_result"
    }
   ],
   "source": [
    "s.str.lower()"
   ]
  },
  {
   "cell_type": "code",
   "execution_count": 72,
   "metadata": {
    "colab": {
     "autoexec": {
      "startup": false,
      "wait_interval": 0
     }
    },
    "colab_type": "code",
    "id": "2-zgLqDe4VAG"
   },
   "outputs": [],
   "source": [
    "df = pd.DataFrame(np.random.randn(6,4), index=dates, columns=list('ABCD'))"
   ]
  },
  {
   "cell_type": "code",
   "execution_count": 73,
   "metadata": {
    "colab": {
     "autoexec": {
      "startup": false,
      "wait_interval": 0
     }
    },
    "colab_type": "code",
    "id": "EfnIMAnC4Y--"
   },
   "outputs": [
    {
     "data": {
      "text/html": [
       "<div>\n",
       "<style scoped>\n",
       "    .dataframe tbody tr th:only-of-type {\n",
       "        vertical-align: middle;\n",
       "    }\n",
       "\n",
       "    .dataframe tbody tr th {\n",
       "        vertical-align: top;\n",
       "    }\n",
       "\n",
       "    .dataframe thead th {\n",
       "        text-align: right;\n",
       "    }\n",
       "</style>\n",
       "<table border=\"1\" class=\"dataframe\">\n",
       "  <thead>\n",
       "    <tr style=\"text-align: right;\">\n",
       "      <th></th>\n",
       "      <th>A</th>\n",
       "      <th>B</th>\n",
       "      <th>C</th>\n",
       "      <th>D</th>\n",
       "    </tr>\n",
       "  </thead>\n",
       "  <tbody>\n",
       "    <tr>\n",
       "      <th>2013-01-01</th>\n",
       "      <td>-1.177790</td>\n",
       "      <td>-0.192823</td>\n",
       "      <td>-1.442001</td>\n",
       "      <td>0.333100</td>\n",
       "    </tr>\n",
       "    <tr>\n",
       "      <th>2013-01-02</th>\n",
       "      <td>-0.333444</td>\n",
       "      <td>-0.208155</td>\n",
       "      <td>-0.416389</td>\n",
       "      <td>0.190722</td>\n",
       "    </tr>\n",
       "    <tr>\n",
       "      <th>2013-01-03</th>\n",
       "      <td>0.281467</td>\n",
       "      <td>0.587807</td>\n",
       "      <td>0.766924</td>\n",
       "      <td>1.220270</td>\n",
       "    </tr>\n",
       "    <tr>\n",
       "      <th>2013-01-04</th>\n",
       "      <td>-0.931314</td>\n",
       "      <td>-2.234456</td>\n",
       "      <td>-0.486864</td>\n",
       "      <td>0.247288</td>\n",
       "    </tr>\n",
       "    <tr>\n",
       "      <th>2013-01-05</th>\n",
       "      <td>1.136012</td>\n",
       "      <td>1.044443</td>\n",
       "      <td>-0.015651</td>\n",
       "      <td>-0.342887</td>\n",
       "    </tr>\n",
       "    <tr>\n",
       "      <th>2013-01-06</th>\n",
       "      <td>1.055199</td>\n",
       "      <td>-1.174179</td>\n",
       "      <td>-1.924226</td>\n",
       "      <td>0.246102</td>\n",
       "    </tr>\n",
       "  </tbody>\n",
       "</table>\n",
       "</div>"
      ],
      "text/plain": [
       "                   A         B         C         D\n",
       "2013-01-01 -1.177790 -0.192823 -1.442001  0.333100\n",
       "2013-01-02 -0.333444 -0.208155 -0.416389  0.190722\n",
       "2013-01-03  0.281467  0.587807  0.766924  1.220270\n",
       "2013-01-04 -0.931314 -2.234456 -0.486864  0.247288\n",
       "2013-01-05  1.136012  1.044443 -0.015651 -0.342887\n",
       "2013-01-06  1.055199 -1.174179 -1.924226  0.246102"
      ]
     },
     "execution_count": 73,
     "metadata": {},
     "output_type": "execute_result"
    }
   ],
   "source": [
    "df"
   ]
  },
  {
   "cell_type": "code",
   "execution_count": 74,
   "metadata": {
    "colab": {
     "autoexec": {
      "startup": false,
      "wait_interval": 0
     }
    },
    "colab_type": "code",
    "id": "s792Ojdg46Nx"
   },
   "outputs": [],
   "source": [
    "df['F'] = s1"
   ]
  },
  {
   "cell_type": "markdown",
   "metadata": {
    "colab_type": "text",
    "id": "-NpTTJzF34oe"
   },
   "source": [
    "# Merge (병합)"
   ]
  },
  {
   "cell_type": "markdown",
   "metadata": {
    "colab_type": "text",
    "id": "fZWj-N4CLNig"
   },
   "source": [
    "## Concat (연결)"
   ]
  },
  {
   "cell_type": "markdown",
   "metadata": {
    "colab_type": "text",
    "id": "2XQbTp_-LNii"
   },
   "source": [
    "Pandas는 join/merge 와 같은 병합작업의 경우 'concat()' 을 통해<br>\n",
    "Series, DataFrame, Panel 객체를 index와 관계 대수 기능에 대한 다양한 유형의 논리로<br>\n",
    "손쉽게 결합할 수 있는 다양한 기능을 제공합니다."
   ]
  },
  {
   "cell_type": "markdown",
   "metadata": {
    "colab_type": "text",
    "id": "yFuabtnHLNii"
   },
   "source": [
    "Merging 섹션을 봅시다. [Merging section](https://pandas.pydata.org/pandas-docs/stable/merging.html#merging) "
   ]
  },
  {
   "cell_type": "markdown",
   "metadata": {
    "colab_type": "text",
    "id": "QcnDHOtILNii"
   },
   "source": [
    "'concat()'으로 Pandas 객체를 연결(concatenating) 합니다. "
   ]
  },
  {
   "cell_type": "code",
   "execution_count": 75,
   "metadata": {
    "colab": {
     "autoexec": {
      "startup": false,
      "wait_interval": 0
     }
    },
    "colab_type": "code",
    "id": "TCrlCvfu_IKR"
   },
   "outputs": [],
   "source": [
    "df = pd.DataFrame(np.random.randn(10, 4))"
   ]
  },
  {
   "cell_type": "code",
   "execution_count": 76,
   "metadata": {
    "colab": {
     "autoexec": {
      "startup": false,
      "wait_interval": 0
     },
     "base_uri": "https://localhost:8080/",
     "height": 348
    },
    "colab_type": "code",
    "executionInfo": {
     "elapsed": 1537,
     "status": "ok",
     "timestamp": 1531793469787,
     "user": {
      "displayName": "김윤경",
      "photoUrl": "//lh5.googleusercontent.com/-wzfg4UM-36w/AAAAAAAAAAI/AAAAAAAAAAc/JH9r5OPaF9s/s50-c-k-no/photo.jpg",
      "userId": "115512225066730141381"
     },
     "user_tz": -540
    },
    "id": "mdOlcCIKAVri",
    "outputId": "5d5650af-530b-403f-b400-583fcadea7b0"
   },
   "outputs": [
    {
     "data": {
      "text/html": [
       "<div>\n",
       "<style scoped>\n",
       "    .dataframe tbody tr th:only-of-type {\n",
       "        vertical-align: middle;\n",
       "    }\n",
       "\n",
       "    .dataframe tbody tr th {\n",
       "        vertical-align: top;\n",
       "    }\n",
       "\n",
       "    .dataframe thead th {\n",
       "        text-align: right;\n",
       "    }\n",
       "</style>\n",
       "<table border=\"1\" class=\"dataframe\">\n",
       "  <thead>\n",
       "    <tr style=\"text-align: right;\">\n",
       "      <th></th>\n",
       "      <th>0</th>\n",
       "      <th>1</th>\n",
       "      <th>2</th>\n",
       "      <th>3</th>\n",
       "    </tr>\n",
       "  </thead>\n",
       "  <tbody>\n",
       "    <tr>\n",
       "      <th>0</th>\n",
       "      <td>-0.998328</td>\n",
       "      <td>0.719111</td>\n",
       "      <td>-1.328077</td>\n",
       "      <td>0.736756</td>\n",
       "    </tr>\n",
       "    <tr>\n",
       "      <th>1</th>\n",
       "      <td>-0.345481</td>\n",
       "      <td>2.229084</td>\n",
       "      <td>1.525802</td>\n",
       "      <td>-1.038155</td>\n",
       "    </tr>\n",
       "    <tr>\n",
       "      <th>2</th>\n",
       "      <td>-2.081665</td>\n",
       "      <td>0.866199</td>\n",
       "      <td>0.831531</td>\n",
       "      <td>-1.043507</td>\n",
       "    </tr>\n",
       "    <tr>\n",
       "      <th>3</th>\n",
       "      <td>1.299517</td>\n",
       "      <td>-0.851544</td>\n",
       "      <td>0.372413</td>\n",
       "      <td>0.039093</td>\n",
       "    </tr>\n",
       "    <tr>\n",
       "      <th>4</th>\n",
       "      <td>-0.002814</td>\n",
       "      <td>1.045543</td>\n",
       "      <td>0.486739</td>\n",
       "      <td>-1.259732</td>\n",
       "    </tr>\n",
       "    <tr>\n",
       "      <th>5</th>\n",
       "      <td>-0.264004</td>\n",
       "      <td>-2.114683</td>\n",
       "      <td>-0.055581</td>\n",
       "      <td>-1.126107</td>\n",
       "    </tr>\n",
       "    <tr>\n",
       "      <th>6</th>\n",
       "      <td>-0.128083</td>\n",
       "      <td>0.351776</td>\n",
       "      <td>0.833183</td>\n",
       "      <td>-1.364877</td>\n",
       "    </tr>\n",
       "    <tr>\n",
       "      <th>7</th>\n",
       "      <td>-1.802744</td>\n",
       "      <td>-0.401789</td>\n",
       "      <td>-0.779164</td>\n",
       "      <td>-0.060094</td>\n",
       "    </tr>\n",
       "    <tr>\n",
       "      <th>8</th>\n",
       "      <td>0.152024</td>\n",
       "      <td>0.615843</td>\n",
       "      <td>-1.921807</td>\n",
       "      <td>0.609947</td>\n",
       "    </tr>\n",
       "    <tr>\n",
       "      <th>9</th>\n",
       "      <td>0.494289</td>\n",
       "      <td>1.326982</td>\n",
       "      <td>0.952043</td>\n",
       "      <td>-0.067088</td>\n",
       "    </tr>\n",
       "  </tbody>\n",
       "</table>\n",
       "</div>"
      ],
      "text/plain": [
       "          0         1         2         3\n",
       "0 -0.998328  0.719111 -1.328077  0.736756\n",
       "1 -0.345481  2.229084  1.525802 -1.038155\n",
       "2 -2.081665  0.866199  0.831531 -1.043507\n",
       "3  1.299517 -0.851544  0.372413  0.039093\n",
       "4 -0.002814  1.045543  0.486739 -1.259732\n",
       "5 -0.264004 -2.114683 -0.055581 -1.126107\n",
       "6 -0.128083  0.351776  0.833183 -1.364877\n",
       "7 -1.802744 -0.401789 -0.779164 -0.060094\n",
       "8  0.152024  0.615843 -1.921807  0.609947\n",
       "9  0.494289  1.326982  0.952043 -0.067088"
      ]
     },
     "execution_count": 76,
     "metadata": {},
     "output_type": "execute_result"
    }
   ],
   "source": [
    "df"
   ]
  },
  {
   "cell_type": "code",
   "execution_count": 77,
   "metadata": {
    "colab": {
     "autoexec": {
      "startup": false,
      "wait_interval": 0
     },
     "base_uri": "https://localhost:8080/",
     "height": 348
    },
    "colab_type": "code",
    "executionInfo": {
     "elapsed": 1419,
     "status": "ok",
     "timestamp": 1531793539279,
     "user": {
      "displayName": "김윤경",
      "photoUrl": "//lh5.googleusercontent.com/-wzfg4UM-36w/AAAAAAAAAAI/AAAAAAAAAAc/JH9r5OPaF9s/s50-c-k-no/photo.jpg",
      "userId": "115512225066730141381"
     },
     "user_tz": -540
    },
    "id": "eJgLcGzLAYU-",
    "outputId": "e0525090-9b52-49c6-dd5d-851c31634511"
   },
   "outputs": [
    {
     "data": {
      "text/html": [
       "<div>\n",
       "<style scoped>\n",
       "    .dataframe tbody tr th:only-of-type {\n",
       "        vertical-align: middle;\n",
       "    }\n",
       "\n",
       "    .dataframe tbody tr th {\n",
       "        vertical-align: top;\n",
       "    }\n",
       "\n",
       "    .dataframe thead th {\n",
       "        text-align: right;\n",
       "    }\n",
       "</style>\n",
       "<table border=\"1\" class=\"dataframe\">\n",
       "  <thead>\n",
       "    <tr style=\"text-align: right;\">\n",
       "      <th></th>\n",
       "      <th>0</th>\n",
       "      <th>1</th>\n",
       "      <th>2</th>\n",
       "      <th>3</th>\n",
       "    </tr>\n",
       "  </thead>\n",
       "  <tbody>\n",
       "    <tr>\n",
       "      <th>0</th>\n",
       "      <td>-0.998328</td>\n",
       "      <td>0.719111</td>\n",
       "      <td>-1.328077</td>\n",
       "      <td>0.736756</td>\n",
       "    </tr>\n",
       "    <tr>\n",
       "      <th>1</th>\n",
       "      <td>-0.345481</td>\n",
       "      <td>2.229084</td>\n",
       "      <td>1.525802</td>\n",
       "      <td>-1.038155</td>\n",
       "    </tr>\n",
       "    <tr>\n",
       "      <th>2</th>\n",
       "      <td>-2.081665</td>\n",
       "      <td>0.866199</td>\n",
       "      <td>0.831531</td>\n",
       "      <td>-1.043507</td>\n",
       "    </tr>\n",
       "    <tr>\n",
       "      <th>3</th>\n",
       "      <td>1.299517</td>\n",
       "      <td>-0.851544</td>\n",
       "      <td>0.372413</td>\n",
       "      <td>0.039093</td>\n",
       "    </tr>\n",
       "    <tr>\n",
       "      <th>4</th>\n",
       "      <td>-0.002814</td>\n",
       "      <td>1.045543</td>\n",
       "      <td>0.486739</td>\n",
       "      <td>-1.259732</td>\n",
       "    </tr>\n",
       "    <tr>\n",
       "      <th>5</th>\n",
       "      <td>-0.264004</td>\n",
       "      <td>-2.114683</td>\n",
       "      <td>-0.055581</td>\n",
       "      <td>-1.126107</td>\n",
       "    </tr>\n",
       "    <tr>\n",
       "      <th>6</th>\n",
       "      <td>-0.128083</td>\n",
       "      <td>0.351776</td>\n",
       "      <td>0.833183</td>\n",
       "      <td>-1.364877</td>\n",
       "    </tr>\n",
       "    <tr>\n",
       "      <th>7</th>\n",
       "      <td>-1.802744</td>\n",
       "      <td>-0.401789</td>\n",
       "      <td>-0.779164</td>\n",
       "      <td>-0.060094</td>\n",
       "    </tr>\n",
       "    <tr>\n",
       "      <th>8</th>\n",
       "      <td>0.152024</td>\n",
       "      <td>0.615843</td>\n",
       "      <td>-1.921807</td>\n",
       "      <td>0.609947</td>\n",
       "    </tr>\n",
       "    <tr>\n",
       "      <th>9</th>\n",
       "      <td>0.494289</td>\n",
       "      <td>1.326982</td>\n",
       "      <td>0.952043</td>\n",
       "      <td>-0.067088</td>\n",
       "    </tr>\n",
       "  </tbody>\n",
       "</table>\n",
       "</div>"
      ],
      "text/plain": [
       "          0         1         2         3\n",
       "0 -0.998328  0.719111 -1.328077  0.736756\n",
       "1 -0.345481  2.229084  1.525802 -1.038155\n",
       "2 -2.081665  0.866199  0.831531 -1.043507\n",
       "3  1.299517 -0.851544  0.372413  0.039093\n",
       "4 -0.002814  1.045543  0.486739 -1.259732\n",
       "5 -0.264004 -2.114683 -0.055581 -1.126107\n",
       "6 -0.128083  0.351776  0.833183 -1.364877\n",
       "7 -1.802744 -0.401789 -0.779164 -0.060094\n",
       "8  0.152024  0.615843 -1.921807  0.609947\n",
       "9  0.494289  1.326982  0.952043 -0.067088"
      ]
     },
     "execution_count": 77,
     "metadata": {},
     "output_type": "execute_result"
    }
   ],
   "source": [
    "# break it into pieces\n",
    "pieces = [df[:3], df[3:7], df[7:]]\n",
    "pd.concat(pieces)"
   ]
  },
  {
   "cell_type": "code",
   "execution_count": 78,
   "metadata": {
    "colab": {
     "autoexec": {
      "startup": false,
      "wait_interval": 0
     }
    },
    "colab_type": "code",
    "id": "CjIo-4DcLNiq",
    "outputId": "e8806061-3fb1-4538-91dd-a5d32cc9e976"
   },
   "outputs": [
    {
     "data": {
      "text/html": [
       "<div>\n",
       "<style scoped>\n",
       "    .dataframe tbody tr th:only-of-type {\n",
       "        vertical-align: middle;\n",
       "    }\n",
       "\n",
       "    .dataframe tbody tr th {\n",
       "        vertical-align: top;\n",
       "    }\n",
       "\n",
       "    .dataframe thead th {\n",
       "        text-align: right;\n",
       "    }\n",
       "</style>\n",
       "<table border=\"1\" class=\"dataframe\">\n",
       "  <thead>\n",
       "    <tr style=\"text-align: right;\">\n",
       "      <th></th>\n",
       "      <th>1</th>\n",
       "      <th>2</th>\n",
       "    </tr>\n",
       "  </thead>\n",
       "  <tbody>\n",
       "    <tr>\n",
       "      <th>0</th>\n",
       "      <td>0.719111</td>\n",
       "      <td>-1.328077</td>\n",
       "    </tr>\n",
       "    <tr>\n",
       "      <th>1</th>\n",
       "      <td>2.229084</td>\n",
       "      <td>1.525802</td>\n",
       "    </tr>\n",
       "    <tr>\n",
       "      <th>2</th>\n",
       "      <td>0.866199</td>\n",
       "      <td>0.831531</td>\n",
       "    </tr>\n",
       "    <tr>\n",
       "      <th>3</th>\n",
       "      <td>-0.851544</td>\n",
       "      <td>0.372413</td>\n",
       "    </tr>\n",
       "    <tr>\n",
       "      <th>4</th>\n",
       "      <td>1.045543</td>\n",
       "      <td>0.486739</td>\n",
       "    </tr>\n",
       "    <tr>\n",
       "      <th>5</th>\n",
       "      <td>-2.114683</td>\n",
       "      <td>-0.055581</td>\n",
       "    </tr>\n",
       "    <tr>\n",
       "      <th>6</th>\n",
       "      <td>0.351776</td>\n",
       "      <td>0.833183</td>\n",
       "    </tr>\n",
       "    <tr>\n",
       "      <th>7</th>\n",
       "      <td>-0.401789</td>\n",
       "      <td>-0.779164</td>\n",
       "    </tr>\n",
       "    <tr>\n",
       "      <th>8</th>\n",
       "      <td>0.615843</td>\n",
       "      <td>-1.921807</td>\n",
       "    </tr>\n",
       "    <tr>\n",
       "      <th>9</th>\n",
       "      <td>1.326982</td>\n",
       "      <td>0.952043</td>\n",
       "    </tr>\n",
       "  </tbody>\n",
       "</table>\n",
       "</div>"
      ],
      "text/plain": [
       "          1         2\n",
       "0  0.719111 -1.328077\n",
       "1  2.229084  1.525802\n",
       "2  0.866199  0.831531\n",
       "3 -0.851544  0.372413\n",
       "4  1.045543  0.486739\n",
       "5 -2.114683 -0.055581\n",
       "6  0.351776  0.833183\n",
       "7 -0.401789 -0.779164\n",
       "8  0.615843 -1.921807\n",
       "9  1.326982  0.952043"
      ]
     },
     "execution_count": 78,
     "metadata": {},
     "output_type": "execute_result"
    }
   ],
   "source": [
    "df.iloc[:,1:3]"
   ]
  },
  {
   "cell_type": "markdown",
   "metadata": {
    "colab_type": "text",
    "id": "7IBM0m8GLNjX"
   },
   "source": [
    "## Join\n",
    "SQL 방식으로 merge합니다. [Database style joining](https://pandas.pydata.org/pandas-docs/stable/merging.html#merging-join) 섹션을 참고하세요.\n"
   ]
  },
  {
   "cell_type": "code",
   "execution_count": 79,
   "metadata": {
    "colab": {
     "autoexec": {
      "startup": false,
      "wait_interval": 0
     }
    },
    "colab_type": "code",
    "id": "e-srIyoILNjX"
   },
   "outputs": [],
   "source": [
    "left = pd.DataFrame({'key': ['foo', 'foo'], 'lval': [1, 2]})"
   ]
  },
  {
   "cell_type": "code",
   "execution_count": 80,
   "metadata": {
    "colab": {
     "autoexec": {
      "startup": false,
      "wait_interval": 0
     }
    },
    "colab_type": "code",
    "id": "v5bAleqrLNjZ"
   },
   "outputs": [],
   "source": [
    "right = pd.DataFrame({'key': ['foo', 'foo'], 'rval': [4, 5]})"
   ]
  },
  {
   "cell_type": "code",
   "execution_count": 81,
   "metadata": {
    "colab": {
     "autoexec": {
      "startup": false,
      "wait_interval": 0
     },
     "base_uri": "https://localhost:8080/",
     "height": 108
    },
    "colab_type": "code",
    "executionInfo": {
     "elapsed": 643,
     "status": "ok",
     "timestamp": 1531792928869,
     "user": {
      "displayName": "Saerom Bang",
      "photoUrl": "https://lh3.googleusercontent.com/a/default-user=s128",
      "userId": "108723802128607926930"
     },
     "user_tz": -540
    },
    "id": "wFKpjvEWLNja",
    "outputId": "eaecef75-6d58-47d5-ea50-09bce9c74fc4"
   },
   "outputs": [
    {
     "data": {
      "text/html": [
       "<div>\n",
       "<style scoped>\n",
       "    .dataframe tbody tr th:only-of-type {\n",
       "        vertical-align: middle;\n",
       "    }\n",
       "\n",
       "    .dataframe tbody tr th {\n",
       "        vertical-align: top;\n",
       "    }\n",
       "\n",
       "    .dataframe thead th {\n",
       "        text-align: right;\n",
       "    }\n",
       "</style>\n",
       "<table border=\"1\" class=\"dataframe\">\n",
       "  <thead>\n",
       "    <tr style=\"text-align: right;\">\n",
       "      <th></th>\n",
       "      <th>key</th>\n",
       "      <th>lval</th>\n",
       "    </tr>\n",
       "  </thead>\n",
       "  <tbody>\n",
       "    <tr>\n",
       "      <th>0</th>\n",
       "      <td>foo</td>\n",
       "      <td>1</td>\n",
       "    </tr>\n",
       "    <tr>\n",
       "      <th>1</th>\n",
       "      <td>foo</td>\n",
       "      <td>2</td>\n",
       "    </tr>\n",
       "  </tbody>\n",
       "</table>\n",
       "</div>"
      ],
      "text/plain": [
       "   key  lval\n",
       "0  foo     1\n",
       "1  foo     2"
      ]
     },
     "execution_count": 81,
     "metadata": {},
     "output_type": "execute_result"
    }
   ],
   "source": [
    "left"
   ]
  },
  {
   "cell_type": "code",
   "execution_count": 82,
   "metadata": {
    "colab": {
     "autoexec": {
      "startup": false,
      "wait_interval": 0
     },
     "base_uri": "https://localhost:8080/",
     "height": 108
    },
    "colab_type": "code",
    "executionInfo": {
     "elapsed": 712,
     "status": "ok",
     "timestamp": 1531792933336,
     "user": {
      "displayName": "Saerom Bang",
      "photoUrl": "https://lh3.googleusercontent.com/a/default-user=s128",
      "userId": "108723802128607926930"
     },
     "user_tz": -540
    },
    "id": "yg9oRrTA4ntI",
    "outputId": "8d8143a5-9fc8-4a82-d8c4-291d7850be44"
   },
   "outputs": [
    {
     "data": {
      "text/html": [
       "<div>\n",
       "<style scoped>\n",
       "    .dataframe tbody tr th:only-of-type {\n",
       "        vertical-align: middle;\n",
       "    }\n",
       "\n",
       "    .dataframe tbody tr th {\n",
       "        vertical-align: top;\n",
       "    }\n",
       "\n",
       "    .dataframe thead th {\n",
       "        text-align: right;\n",
       "    }\n",
       "</style>\n",
       "<table border=\"1\" class=\"dataframe\">\n",
       "  <thead>\n",
       "    <tr style=\"text-align: right;\">\n",
       "      <th></th>\n",
       "      <th>key</th>\n",
       "      <th>rval</th>\n",
       "    </tr>\n",
       "  </thead>\n",
       "  <tbody>\n",
       "    <tr>\n",
       "      <th>0</th>\n",
       "      <td>foo</td>\n",
       "      <td>4</td>\n",
       "    </tr>\n",
       "    <tr>\n",
       "      <th>1</th>\n",
       "      <td>foo</td>\n",
       "      <td>5</td>\n",
       "    </tr>\n",
       "  </tbody>\n",
       "</table>\n",
       "</div>"
      ],
      "text/plain": [
       "   key  rval\n",
       "0  foo     4\n",
       "1  foo     5"
      ]
     },
     "execution_count": 82,
     "metadata": {},
     "output_type": "execute_result"
    }
   ],
   "source": [
    "right"
   ]
  },
  {
   "cell_type": "code",
   "execution_count": 83,
   "metadata": {
    "colab": {
     "autoexec": {
      "startup": false,
      "wait_interval": 0
     },
     "base_uri": "https://localhost:8080/",
     "height": 169
    },
    "colab_type": "code",
    "executionInfo": {
     "elapsed": 699,
     "status": "ok",
     "timestamp": 1531793228904,
     "user": {
      "displayName": "Saerom Bang",
      "photoUrl": "https://lh3.googleusercontent.com/a/default-user=s128",
      "userId": "108723802128607926930"
     },
     "user_tz": -540
    },
    "id": "5fN8wCZl5qVv",
    "outputId": "f124412e-daf4-4635-92b6-35a2137496bd"
   },
   "outputs": [
    {
     "data": {
      "text/html": [
       "<div>\n",
       "<style scoped>\n",
       "    .dataframe tbody tr th:only-of-type {\n",
       "        vertical-align: middle;\n",
       "    }\n",
       "\n",
       "    .dataframe tbody tr th {\n",
       "        vertical-align: top;\n",
       "    }\n",
       "\n",
       "    .dataframe thead th {\n",
       "        text-align: right;\n",
       "    }\n",
       "</style>\n",
       "<table border=\"1\" class=\"dataframe\">\n",
       "  <thead>\n",
       "    <tr style=\"text-align: right;\">\n",
       "      <th></th>\n",
       "      <th>key</th>\n",
       "      <th>lval</th>\n",
       "      <th>rval</th>\n",
       "    </tr>\n",
       "  </thead>\n",
       "  <tbody>\n",
       "    <tr>\n",
       "      <th>0</th>\n",
       "      <td>foo</td>\n",
       "      <td>1</td>\n",
       "      <td>4</td>\n",
       "    </tr>\n",
       "    <tr>\n",
       "      <th>1</th>\n",
       "      <td>foo</td>\n",
       "      <td>1</td>\n",
       "      <td>5</td>\n",
       "    </tr>\n",
       "    <tr>\n",
       "      <th>2</th>\n",
       "      <td>foo</td>\n",
       "      <td>2</td>\n",
       "      <td>4</td>\n",
       "    </tr>\n",
       "    <tr>\n",
       "      <th>3</th>\n",
       "      <td>foo</td>\n",
       "      <td>2</td>\n",
       "      <td>5</td>\n",
       "    </tr>\n",
       "  </tbody>\n",
       "</table>\n",
       "</div>"
      ],
      "text/plain": [
       "   key  lval  rval\n",
       "0  foo     1     4\n",
       "1  foo     1     5\n",
       "2  foo     2     4\n",
       "3  foo     2     5"
      ]
     },
     "execution_count": 83,
     "metadata": {},
     "output_type": "execute_result"
    }
   ],
   "source": [
    "pd.merge(left, right, on= 'key')"
   ]
  },
  {
   "cell_type": "markdown",
   "metadata": {
    "colab_type": "text",
    "id": "UEBAM4h6_gid"
   },
   "source": [
    "이와 같은 다른 예시는 :"
   ]
  },
  {
   "cell_type": "code",
   "execution_count": 84,
   "metadata": {
    "colab": {
     "autoexec": {
      "startup": false,
      "wait_interval": 0
     }
    },
    "colab_type": "code",
    "id": "h2Xlgd-o6xIx"
   },
   "outputs": [],
   "source": [
    "left = pd.DataFrame({'key' : ['foo', 'bar'], 'lval' : [1, 2]})"
   ]
  },
  {
   "cell_type": "code",
   "execution_count": 85,
   "metadata": {
    "colab": {
     "autoexec": {
      "startup": false,
      "wait_interval": 0
     }
    },
    "colab_type": "code",
    "id": "8FnaD9XoAtnd"
   },
   "outputs": [],
   "source": [
    "right = pd.DataFrame({'key': ['foo', 'bar'], 'rval': [4, 5]})"
   ]
  },
  {
   "cell_type": "code",
   "execution_count": 86,
   "metadata": {
    "colab": {
     "autoexec": {
      "startup": false,
      "wait_interval": 0
     },
     "base_uri": "https://localhost:8080/",
     "height": 108
    },
    "colab_type": "code",
    "executionInfo": {
     "elapsed": 705,
     "status": "ok",
     "timestamp": 1531793641257,
     "user": {
      "displayName": "Saerom Bang",
      "photoUrl": "https://lh3.googleusercontent.com/a/default-user=s128",
      "userId": "108723802128607926930"
     },
     "user_tz": -540
    },
    "id": "Y15ZVKlKA--o",
    "outputId": "daf289b9-e39f-4f05-b3dd-8df7442ee656"
   },
   "outputs": [
    {
     "data": {
      "text/html": [
       "<div>\n",
       "<style scoped>\n",
       "    .dataframe tbody tr th:only-of-type {\n",
       "        vertical-align: middle;\n",
       "    }\n",
       "\n",
       "    .dataframe tbody tr th {\n",
       "        vertical-align: top;\n",
       "    }\n",
       "\n",
       "    .dataframe thead th {\n",
       "        text-align: right;\n",
       "    }\n",
       "</style>\n",
       "<table border=\"1\" class=\"dataframe\">\n",
       "  <thead>\n",
       "    <tr style=\"text-align: right;\">\n",
       "      <th></th>\n",
       "      <th>key</th>\n",
       "      <th>lval</th>\n",
       "    </tr>\n",
       "  </thead>\n",
       "  <tbody>\n",
       "    <tr>\n",
       "      <th>0</th>\n",
       "      <td>foo</td>\n",
       "      <td>1</td>\n",
       "    </tr>\n",
       "    <tr>\n",
       "      <th>1</th>\n",
       "      <td>bar</td>\n",
       "      <td>2</td>\n",
       "    </tr>\n",
       "  </tbody>\n",
       "</table>\n",
       "</div>"
      ],
      "text/plain": [
       "   key  lval\n",
       "0  foo     1\n",
       "1  bar     2"
      ]
     },
     "execution_count": 86,
     "metadata": {},
     "output_type": "execute_result"
    }
   ],
   "source": [
    "left"
   ]
  },
  {
   "cell_type": "code",
   "execution_count": 87,
   "metadata": {
    "colab": {
     "autoexec": {
      "startup": false,
      "wait_interval": 0
     },
     "base_uri": "https://localhost:8080/",
     "height": 108
    },
    "colab_type": "code",
    "executionInfo": {
     "elapsed": 771,
     "status": "ok",
     "timestamp": 1531793655054,
     "user": {
      "displayName": "Saerom Bang",
      "photoUrl": "https://lh3.googleusercontent.com/a/default-user=s128",
      "userId": "108723802128607926930"
     },
     "user_tz": -540
    },
    "id": "ZRpNjm6wBCW0",
    "outputId": "ff4d9d71-6586-41c6-912c-dd54e99d451e"
   },
   "outputs": [
    {
     "data": {
      "text/html": [
       "<div>\n",
       "<style scoped>\n",
       "    .dataframe tbody tr th:only-of-type {\n",
       "        vertical-align: middle;\n",
       "    }\n",
       "\n",
       "    .dataframe tbody tr th {\n",
       "        vertical-align: top;\n",
       "    }\n",
       "\n",
       "    .dataframe thead th {\n",
       "        text-align: right;\n",
       "    }\n",
       "</style>\n",
       "<table border=\"1\" class=\"dataframe\">\n",
       "  <thead>\n",
       "    <tr style=\"text-align: right;\">\n",
       "      <th></th>\n",
       "      <th>key</th>\n",
       "      <th>rval</th>\n",
       "    </tr>\n",
       "  </thead>\n",
       "  <tbody>\n",
       "    <tr>\n",
       "      <th>0</th>\n",
       "      <td>foo</td>\n",
       "      <td>4</td>\n",
       "    </tr>\n",
       "    <tr>\n",
       "      <th>1</th>\n",
       "      <td>bar</td>\n",
       "      <td>5</td>\n",
       "    </tr>\n",
       "  </tbody>\n",
       "</table>\n",
       "</div>"
      ],
      "text/plain": [
       "   key  rval\n",
       "0  foo     4\n",
       "1  bar     5"
      ]
     },
     "execution_count": 87,
     "metadata": {},
     "output_type": "execute_result"
    }
   ],
   "source": [
    "right "
   ]
  },
  {
   "cell_type": "code",
   "execution_count": 88,
   "metadata": {
    "colab": {
     "autoexec": {
      "startup": false,
      "wait_interval": 0
     },
     "base_uri": "https://localhost:8080/",
     "height": 108
    },
    "colab_type": "code",
    "executionInfo": {
     "elapsed": 741,
     "status": "ok",
     "timestamp": 1531793682238,
     "user": {
      "displayName": "Saerom Bang",
      "photoUrl": "https://lh3.googleusercontent.com/a/default-user=s128",
      "userId": "108723802128607926930"
     },
     "user_tz": -540
    },
    "id": "duVQRnqnBFPe",
    "outputId": "665d2aa5-b50f-4288-8261-2ca2b2e07f5b"
   },
   "outputs": [
    {
     "data": {
      "text/html": [
       "<div>\n",
       "<style scoped>\n",
       "    .dataframe tbody tr th:only-of-type {\n",
       "        vertical-align: middle;\n",
       "    }\n",
       "\n",
       "    .dataframe tbody tr th {\n",
       "        vertical-align: top;\n",
       "    }\n",
       "\n",
       "    .dataframe thead th {\n",
       "        text-align: right;\n",
       "    }\n",
       "</style>\n",
       "<table border=\"1\" class=\"dataframe\">\n",
       "  <thead>\n",
       "    <tr style=\"text-align: right;\">\n",
       "      <th></th>\n",
       "      <th>key</th>\n",
       "      <th>lval</th>\n",
       "      <th>rval</th>\n",
       "    </tr>\n",
       "  </thead>\n",
       "  <tbody>\n",
       "    <tr>\n",
       "      <th>0</th>\n",
       "      <td>foo</td>\n",
       "      <td>1</td>\n",
       "      <td>4</td>\n",
       "    </tr>\n",
       "    <tr>\n",
       "      <th>1</th>\n",
       "      <td>bar</td>\n",
       "      <td>2</td>\n",
       "      <td>5</td>\n",
       "    </tr>\n",
       "  </tbody>\n",
       "</table>\n",
       "</div>"
      ],
      "text/plain": [
       "   key  lval  rval\n",
       "0  foo     1     4\n",
       "1  bar     2     5"
      ]
     },
     "execution_count": 88,
     "metadata": {},
     "output_type": "execute_result"
    }
   ],
   "source": [
    "pd.merge(left, right, on= 'key')"
   ]
  },
  {
   "cell_type": "markdown",
   "metadata": {
    "colab_type": "text",
    "id": "9-CsJ6kHLNjc"
   },
   "source": [
    "## Append (요소 추가)"
   ]
  },
  {
   "cell_type": "markdown",
   "metadata": {
    "colab_type": "text",
    "id": "CQoQZg9aLNjc"
   },
   "source": [
    "데이터프레임에 하나, 혹은 여러 개의 행을 추가합니다. [Appending](https://pandas.pydata.org/pandas-docs/stable/merging.html#merging-concatenation) 섹션을 참조하시기 바랍니다."
   ]
  },
  {
   "cell_type": "code",
   "execution_count": 89,
   "metadata": {
    "colab": {
     "autoexec": {
      "startup": false,
      "wait_interval": 0
     }
    },
    "colab_type": "code",
    "id": "DniPx4zTLNjc"
   },
   "outputs": [],
   "source": [
    "df = pd.DataFrame(np.random.randn(8, 4), columns=['A', 'B', 'C', 'D'])"
   ]
  },
  {
   "cell_type": "code",
   "execution_count": 90,
   "metadata": {
    "colab": {
     "autoexec": {
      "startup": false,
      "wait_interval": 0
     }
    },
    "colab_type": "code",
    "id": "Z83pFze46h4h"
   },
   "outputs": [
    {
     "data": {
      "text/html": [
       "<div>\n",
       "<style scoped>\n",
       "    .dataframe tbody tr th:only-of-type {\n",
       "        vertical-align: middle;\n",
       "    }\n",
       "\n",
       "    .dataframe tbody tr th {\n",
       "        vertical-align: top;\n",
       "    }\n",
       "\n",
       "    .dataframe thead th {\n",
       "        text-align: right;\n",
       "    }\n",
       "</style>\n",
       "<table border=\"1\" class=\"dataframe\">\n",
       "  <thead>\n",
       "    <tr style=\"text-align: right;\">\n",
       "      <th></th>\n",
       "      <th>A</th>\n",
       "      <th>B</th>\n",
       "      <th>C</th>\n",
       "      <th>D</th>\n",
       "    </tr>\n",
       "  </thead>\n",
       "  <tbody>\n",
       "    <tr>\n",
       "      <th>0</th>\n",
       "      <td>0.279012</td>\n",
       "      <td>0.559873</td>\n",
       "      <td>-1.632664</td>\n",
       "      <td>0.693238</td>\n",
       "    </tr>\n",
       "    <tr>\n",
       "      <th>1</th>\n",
       "      <td>1.506974</td>\n",
       "      <td>0.064947</td>\n",
       "      <td>0.525199</td>\n",
       "      <td>-0.251166</td>\n",
       "    </tr>\n",
       "    <tr>\n",
       "      <th>2</th>\n",
       "      <td>0.808833</td>\n",
       "      <td>-1.015558</td>\n",
       "      <td>0.652461</td>\n",
       "      <td>-0.517165</td>\n",
       "    </tr>\n",
       "    <tr>\n",
       "      <th>3</th>\n",
       "      <td>1.296737</td>\n",
       "      <td>0.754165</td>\n",
       "      <td>0.466442</td>\n",
       "      <td>0.080733</td>\n",
       "    </tr>\n",
       "    <tr>\n",
       "      <th>4</th>\n",
       "      <td>1.541279</td>\n",
       "      <td>-1.293615</td>\n",
       "      <td>0.301163</td>\n",
       "      <td>2.003397</td>\n",
       "    </tr>\n",
       "    <tr>\n",
       "      <th>5</th>\n",
       "      <td>0.458637</td>\n",
       "      <td>1.695414</td>\n",
       "      <td>-1.058792</td>\n",
       "      <td>1.345340</td>\n",
       "    </tr>\n",
       "    <tr>\n",
       "      <th>6</th>\n",
       "      <td>0.871407</td>\n",
       "      <td>0.940744</td>\n",
       "      <td>-0.948155</td>\n",
       "      <td>0.190456</td>\n",
       "    </tr>\n",
       "    <tr>\n",
       "      <th>7</th>\n",
       "      <td>2.178047</td>\n",
       "      <td>-0.288235</td>\n",
       "      <td>-0.725285</td>\n",
       "      <td>2.720551</td>\n",
       "    </tr>\n",
       "  </tbody>\n",
       "</table>\n",
       "</div>"
      ],
      "text/plain": [
       "          A         B         C         D\n",
       "0  0.279012  0.559873 -1.632664  0.693238\n",
       "1  1.506974  0.064947  0.525199 -0.251166\n",
       "2  0.808833 -1.015558  0.652461 -0.517165\n",
       "3  1.296737  0.754165  0.466442  0.080733\n",
       "4  1.541279 -1.293615  0.301163  2.003397\n",
       "5  0.458637  1.695414 -1.058792  1.345340\n",
       "6  0.871407  0.940744 -0.948155  0.190456\n",
       "7  2.178047 -0.288235 -0.725285  2.720551"
      ]
     },
     "execution_count": 90,
     "metadata": {},
     "output_type": "execute_result"
    }
   ],
   "source": [
    "df"
   ]
  },
  {
   "cell_type": "code",
   "execution_count": 91,
   "metadata": {
    "colab": {
     "autoexec": {
      "startup": false,
      "wait_interval": 0
     }
    },
    "colab_type": "code",
    "id": "Bqm6NMtW6j12"
   },
   "outputs": [],
   "source": [
    "s = df.iloc[3]"
   ]
  },
  {
   "cell_type": "code",
   "execution_count": 92,
   "metadata": {
    "colab": {
     "autoexec": {
      "startup": false,
      "wait_interval": 0
     }
    },
    "colab_type": "code",
    "id": "I3PtsAkF6lpI"
   },
   "outputs": [
    {
     "data": {
      "text/html": [
       "<div>\n",
       "<style scoped>\n",
       "    .dataframe tbody tr th:only-of-type {\n",
       "        vertical-align: middle;\n",
       "    }\n",
       "\n",
       "    .dataframe tbody tr th {\n",
       "        vertical-align: top;\n",
       "    }\n",
       "\n",
       "    .dataframe thead th {\n",
       "        text-align: right;\n",
       "    }\n",
       "</style>\n",
       "<table border=\"1\" class=\"dataframe\">\n",
       "  <thead>\n",
       "    <tr style=\"text-align: right;\">\n",
       "      <th></th>\n",
       "      <th>A</th>\n",
       "      <th>B</th>\n",
       "      <th>C</th>\n",
       "      <th>D</th>\n",
       "    </tr>\n",
       "  </thead>\n",
       "  <tbody>\n",
       "    <tr>\n",
       "      <th>0</th>\n",
       "      <td>0.279012</td>\n",
       "      <td>0.559873</td>\n",
       "      <td>-1.632664</td>\n",
       "      <td>0.693238</td>\n",
       "    </tr>\n",
       "    <tr>\n",
       "      <th>1</th>\n",
       "      <td>1.506974</td>\n",
       "      <td>0.064947</td>\n",
       "      <td>0.525199</td>\n",
       "      <td>-0.251166</td>\n",
       "    </tr>\n",
       "    <tr>\n",
       "      <th>2</th>\n",
       "      <td>0.808833</td>\n",
       "      <td>-1.015558</td>\n",
       "      <td>0.652461</td>\n",
       "      <td>-0.517165</td>\n",
       "    </tr>\n",
       "    <tr>\n",
       "      <th>3</th>\n",
       "      <td>1.296737</td>\n",
       "      <td>0.754165</td>\n",
       "      <td>0.466442</td>\n",
       "      <td>0.080733</td>\n",
       "    </tr>\n",
       "    <tr>\n",
       "      <th>4</th>\n",
       "      <td>1.541279</td>\n",
       "      <td>-1.293615</td>\n",
       "      <td>0.301163</td>\n",
       "      <td>2.003397</td>\n",
       "    </tr>\n",
       "    <tr>\n",
       "      <th>5</th>\n",
       "      <td>0.458637</td>\n",
       "      <td>1.695414</td>\n",
       "      <td>-1.058792</td>\n",
       "      <td>1.345340</td>\n",
       "    </tr>\n",
       "    <tr>\n",
       "      <th>6</th>\n",
       "      <td>0.871407</td>\n",
       "      <td>0.940744</td>\n",
       "      <td>-0.948155</td>\n",
       "      <td>0.190456</td>\n",
       "    </tr>\n",
       "    <tr>\n",
       "      <th>7</th>\n",
       "      <td>2.178047</td>\n",
       "      <td>-0.288235</td>\n",
       "      <td>-0.725285</td>\n",
       "      <td>2.720551</td>\n",
       "    </tr>\n",
       "    <tr>\n",
       "      <th>8</th>\n",
       "      <td>1.296737</td>\n",
       "      <td>0.754165</td>\n",
       "      <td>0.466442</td>\n",
       "      <td>0.080733</td>\n",
       "    </tr>\n",
       "  </tbody>\n",
       "</table>\n",
       "</div>"
      ],
      "text/plain": [
       "          A         B         C         D\n",
       "0  0.279012  0.559873 -1.632664  0.693238\n",
       "1  1.506974  0.064947  0.525199 -0.251166\n",
       "2  0.808833 -1.015558  0.652461 -0.517165\n",
       "3  1.296737  0.754165  0.466442  0.080733\n",
       "4  1.541279 -1.293615  0.301163  2.003397\n",
       "5  0.458637  1.695414 -1.058792  1.345340\n",
       "6  0.871407  0.940744 -0.948155  0.190456\n",
       "7  2.178047 -0.288235 -0.725285  2.720551\n",
       "8  1.296737  0.754165  0.466442  0.080733"
      ]
     },
     "execution_count": 92,
     "metadata": {},
     "output_type": "execute_result"
    }
   ],
   "source": [
    "df.append(s, ignore_index=True)"
   ]
  },
  {
   "cell_type": "markdown",
   "metadata": {
    "colab_type": "text",
    "id": "6VaJ6ty_3v09"
   },
   "source": [
    "# Grouping (그룹화)\n",
    "\n",
    "\n"
   ]
  },
  {
   "cell_type": "markdown",
   "metadata": {
    "colab_type": "text",
    "id": "SwXynO524KcN"
   },
   "source": [
    "**그룹화**는 다음 단계 중 하나 이상을 포함하는 프로세스를 나타냅니다.\n",
    "\n",
    "- 어떤 기준에 따라 여러 그룹으로 **데이터 분할(Splitting)**\n",
    "- 각 그룹에 독립적으로 함수(function) **적용(Applying)**\n",
    "- 결과물들을 하나의 자료구조로  **결합(Combining)**\n",
    "\n",
    "자세한 내용은 [그룹화 ](https://pandas.pydata.org/pandas-docs/stable/groupby.html#groupby)섹션을 참조하십시오."
   ]
  },
  {
   "cell_type": "code",
   "execution_count": 93,
   "metadata": {
    "colab": {
     "autoexec": {
      "startup": false,
      "wait_interval": 0
     }
    },
    "colab_type": "code",
    "id": "pO0cOZtU4Mvl"
   },
   "outputs": [],
   "source": [
    "df = pd.DataFrame(\n",
    "    {\n",
    "        'A' : ['foo', 'bar', 'foo', 'bar', 'foo', 'bar', 'foo', 'foo'],\n",
    "        'B' : ['one', 'one', 'two', 'three', 'two', 'two', 'one', 'three'],\n",
    "        'C' : np.random.randn(8),\n",
    "        'D' : np.random.randn(8)\n",
    "    })"
   ]
  },
  {
   "cell_type": "code",
   "execution_count": 94,
   "metadata": {
    "colab": {
     "autoexec": {
      "startup": false,
      "wait_interval": 0
     },
     "base_uri": "https://localhost:8080/",
     "height": 297
    },
    "colab_type": "code",
    "executionInfo": {
     "elapsed": 728,
     "status": "ok",
     "timestamp": 1531793428182,
     "user": {
      "displayName": "김소령",
      "photoUrl": "https://lh3.googleusercontent.com/a/default-user=s128",
      "userId": "115519869961267992265"
     },
     "user_tz": -540
    },
    "id": "H1aI7vJB4P72",
    "outputId": "03349475-d4ad-4728-9ffd-ebe9afa53d6d"
   },
   "outputs": [
    {
     "data": {
      "text/html": [
       "<div>\n",
       "<style scoped>\n",
       "    .dataframe tbody tr th:only-of-type {\n",
       "        vertical-align: middle;\n",
       "    }\n",
       "\n",
       "    .dataframe tbody tr th {\n",
       "        vertical-align: top;\n",
       "    }\n",
       "\n",
       "    .dataframe thead th {\n",
       "        text-align: right;\n",
       "    }\n",
       "</style>\n",
       "<table border=\"1\" class=\"dataframe\">\n",
       "  <thead>\n",
       "    <tr style=\"text-align: right;\">\n",
       "      <th></th>\n",
       "      <th>A</th>\n",
       "      <th>B</th>\n",
       "      <th>C</th>\n",
       "      <th>D</th>\n",
       "    </tr>\n",
       "  </thead>\n",
       "  <tbody>\n",
       "    <tr>\n",
       "      <th>0</th>\n",
       "      <td>foo</td>\n",
       "      <td>one</td>\n",
       "      <td>1.549196</td>\n",
       "      <td>1.012535</td>\n",
       "    </tr>\n",
       "    <tr>\n",
       "      <th>1</th>\n",
       "      <td>bar</td>\n",
       "      <td>one</td>\n",
       "      <td>2.302257</td>\n",
       "      <td>-0.999904</td>\n",
       "    </tr>\n",
       "    <tr>\n",
       "      <th>2</th>\n",
       "      <td>foo</td>\n",
       "      <td>two</td>\n",
       "      <td>-0.938551</td>\n",
       "      <td>0.364728</td>\n",
       "    </tr>\n",
       "    <tr>\n",
       "      <th>3</th>\n",
       "      <td>bar</td>\n",
       "      <td>three</td>\n",
       "      <td>0.372018</td>\n",
       "      <td>0.251579</td>\n",
       "    </tr>\n",
       "    <tr>\n",
       "      <th>4</th>\n",
       "      <td>foo</td>\n",
       "      <td>two</td>\n",
       "      <td>0.732601</td>\n",
       "      <td>0.812004</td>\n",
       "    </tr>\n",
       "    <tr>\n",
       "      <th>5</th>\n",
       "      <td>bar</td>\n",
       "      <td>two</td>\n",
       "      <td>1.120608</td>\n",
       "      <td>0.036364</td>\n",
       "    </tr>\n",
       "    <tr>\n",
       "      <th>6</th>\n",
       "      <td>foo</td>\n",
       "      <td>one</td>\n",
       "      <td>1.216286</td>\n",
       "      <td>0.954759</td>\n",
       "    </tr>\n",
       "    <tr>\n",
       "      <th>7</th>\n",
       "      <td>foo</td>\n",
       "      <td>three</td>\n",
       "      <td>0.393098</td>\n",
       "      <td>-0.170627</td>\n",
       "    </tr>\n",
       "  </tbody>\n",
       "</table>\n",
       "</div>"
      ],
      "text/plain": [
       "     A      B         C         D\n",
       "0  foo    one  1.549196  1.012535\n",
       "1  bar    one  2.302257 -0.999904\n",
       "2  foo    two -0.938551  0.364728\n",
       "3  bar  three  0.372018  0.251579\n",
       "4  foo    two  0.732601  0.812004\n",
       "5  bar    two  1.120608  0.036364\n",
       "6  foo    one  1.216286  0.954759\n",
       "7  foo  three  0.393098 -0.170627"
      ]
     },
     "execution_count": 94,
     "metadata": {},
     "output_type": "execute_result"
    }
   ],
   "source": [
    "df"
   ]
  },
  {
   "cell_type": "markdown",
   "metadata": {
    "colab_type": "text",
    "id": "71rM8bizCRRB"
   },
   "source": [
    "생성된 데이터프레임을 **그룹화**한 후 각 그룹에 [sum()](https://pandas.pydata.org/pandas-docs/stable/generated/pandas.DataFrame.sum.html#pandas.DataFrame.sum) 함수를 **적용**합니다."
   ]
  },
  {
   "cell_type": "code",
   "execution_count": 95,
   "metadata": {
    "colab": {
     "autoexec": {
      "startup": false,
      "wait_interval": 0
     },
     "base_uri": "https://localhost:8080/",
     "height": 142
    },
    "colab_type": "code",
    "executionInfo": {
     "elapsed": 789,
     "status": "ok",
     "timestamp": 1531793430488,
     "user": {
      "displayName": "김소령",
      "photoUrl": "https://lh3.googleusercontent.com/a/default-user=s128",
      "userId": "115519869961267992265"
     },
     "user_tz": -540
    },
    "id": "dJ4kqsJe4RfY",
    "outputId": "e5f3a626-a1cd-49c7-e740-3730cd4a2317"
   },
   "outputs": [
    {
     "data": {
      "text/html": [
       "<div>\n",
       "<style scoped>\n",
       "    .dataframe tbody tr th:only-of-type {\n",
       "        vertical-align: middle;\n",
       "    }\n",
       "\n",
       "    .dataframe tbody tr th {\n",
       "        vertical-align: top;\n",
       "    }\n",
       "\n",
       "    .dataframe thead th {\n",
       "        text-align: right;\n",
       "    }\n",
       "</style>\n",
       "<table border=\"1\" class=\"dataframe\">\n",
       "  <thead>\n",
       "    <tr style=\"text-align: right;\">\n",
       "      <th></th>\n",
       "      <th>C</th>\n",
       "      <th>D</th>\n",
       "    </tr>\n",
       "    <tr>\n",
       "      <th>A</th>\n",
       "      <th></th>\n",
       "      <th></th>\n",
       "    </tr>\n",
       "  </thead>\n",
       "  <tbody>\n",
       "    <tr>\n",
       "      <th>bar</th>\n",
       "      <td>3.794882</td>\n",
       "      <td>-0.711962</td>\n",
       "    </tr>\n",
       "    <tr>\n",
       "      <th>foo</th>\n",
       "      <td>2.952630</td>\n",
       "      <td>2.973399</td>\n",
       "    </tr>\n",
       "  </tbody>\n",
       "</table>\n",
       "</div>"
      ],
      "text/plain": [
       "            C         D\n",
       "A                      \n",
       "bar  3.794882 -0.711962\n",
       "foo  2.952630  2.973399"
      ]
     },
     "execution_count": 95,
     "metadata": {},
     "output_type": "execute_result"
    }
   ],
   "source": [
    "df.groupby('A').sum()"
   ]
  },
  {
   "cell_type": "markdown",
   "metadata": {
    "colab_type": "text",
    "id": "jap0wSpO4Sn4"
   },
   "source": [
    "여러 열을 기준으로 **그룹화**하면 계층적 index가 형성됩니다. 여기에도 sum 함수를 **적용** 할 수 있습니다."
   ]
  },
  {
   "cell_type": "code",
   "execution_count": 96,
   "metadata": {
    "colab": {
     "autoexec": {
      "startup": false,
      "wait_interval": 0
     },
     "base_uri": "https://localhost:8080/",
     "height": 266
    },
    "colab_type": "code",
    "executionInfo": {
     "elapsed": 734,
     "status": "ok",
     "timestamp": 1531793434975,
     "user": {
      "displayName": "김소령",
      "photoUrl": "https://lh3.googleusercontent.com/a/default-user=s128",
      "userId": "115519869961267992265"
     },
     "user_tz": -540
    },
    "id": "iRZP8UKC4TvZ",
    "outputId": "c18a598b-2e53-4b27-fa50-4da2108e409a"
   },
   "outputs": [
    {
     "data": {
      "text/html": [
       "<div>\n",
       "<style scoped>\n",
       "    .dataframe tbody tr th:only-of-type {\n",
       "        vertical-align: middle;\n",
       "    }\n",
       "\n",
       "    .dataframe tbody tr th {\n",
       "        vertical-align: top;\n",
       "    }\n",
       "\n",
       "    .dataframe thead th {\n",
       "        text-align: right;\n",
       "    }\n",
       "</style>\n",
       "<table border=\"1\" class=\"dataframe\">\n",
       "  <thead>\n",
       "    <tr style=\"text-align: right;\">\n",
       "      <th></th>\n",
       "      <th></th>\n",
       "      <th>C</th>\n",
       "      <th>D</th>\n",
       "    </tr>\n",
       "    <tr>\n",
       "      <th>A</th>\n",
       "      <th>B</th>\n",
       "      <th></th>\n",
       "      <th></th>\n",
       "    </tr>\n",
       "  </thead>\n",
       "  <tbody>\n",
       "    <tr>\n",
       "      <th rowspan=\"3\" valign=\"top\">bar</th>\n",
       "      <th>one</th>\n",
       "      <td>2.302257</td>\n",
       "      <td>-0.999904</td>\n",
       "    </tr>\n",
       "    <tr>\n",
       "      <th>three</th>\n",
       "      <td>0.372018</td>\n",
       "      <td>0.251579</td>\n",
       "    </tr>\n",
       "    <tr>\n",
       "      <th>two</th>\n",
       "      <td>1.120608</td>\n",
       "      <td>0.036364</td>\n",
       "    </tr>\n",
       "    <tr>\n",
       "      <th rowspan=\"3\" valign=\"top\">foo</th>\n",
       "      <th>one</th>\n",
       "      <td>2.765482</td>\n",
       "      <td>1.967294</td>\n",
       "    </tr>\n",
       "    <tr>\n",
       "      <th>three</th>\n",
       "      <td>0.393098</td>\n",
       "      <td>-0.170627</td>\n",
       "    </tr>\n",
       "    <tr>\n",
       "      <th>two</th>\n",
       "      <td>-0.205951</td>\n",
       "      <td>1.176732</td>\n",
       "    </tr>\n",
       "  </tbody>\n",
       "</table>\n",
       "</div>"
      ],
      "text/plain": [
       "                  C         D\n",
       "A   B                        \n",
       "bar one    2.302257 -0.999904\n",
       "    three  0.372018  0.251579\n",
       "    two    1.120608  0.036364\n",
       "foo one    2.765482  1.967294\n",
       "    three  0.393098 -0.170627\n",
       "    two   -0.205951  1.176732"
      ]
     },
     "execution_count": 96,
     "metadata": {},
     "output_type": "execute_result"
    }
   ],
   "source": [
    "df.groupby(['A', 'B']).sum()"
   ]
  },
  {
   "cell_type": "markdown",
   "metadata": {
    "colab_type": "text",
    "id": "7tWQKNsJ3JeY"
   },
   "source": [
    "# Reshaping (변형)"
   ]
  },
  {
   "cell_type": "markdown",
   "metadata": {
    "colab_type": "text",
    "id": "ulRzrXGK3Ndc"
   },
   "source": [
    "[계층적 인덱싱](https://pandas.pydata.org/pandas-docs/stable/advanced.html#advanced-hierarchical) 및 [변형](https://pandas.pydata.org/pandas-docs/stable/reshaping.html#reshaping-stacking)에 대한 섹션을 참조하십시오.\n",
    "\n",
    "\n",
    "\n",
    "\n"
   ]
  },
  {
   "cell_type": "markdown",
   "metadata": {
    "colab_type": "text",
    "id": "gZJGxemv3WWA"
   },
   "source": [
    "## Stack (스택)"
   ]
  },
  {
   "cell_type": "code",
   "execution_count": 97,
   "metadata": {
    "colab": {
     "autoexec": {
      "startup": false,
      "wait_interval": 0
     }
    },
    "colab_type": "code",
    "id": "Yd5vPwOV3arp"
   },
   "outputs": [],
   "source": [
    "tuples = list(zip(*[['bar', 'bar', 'baz', 'baz',\n",
    "                     'foo', 'foo', 'qux', 'qux'],\n",
    "                    ['one', 'two', 'one', 'two',\n",
    "                     'one', 'two', 'one', 'two']]))"
   ]
  },
  {
   "cell_type": "code",
   "execution_count": 98,
   "metadata": {
    "colab": {
     "autoexec": {
      "startup": false,
      "wait_interval": 0
     }
    },
    "colab_type": "code",
    "id": "cyRpaTGe3hJ-"
   },
   "outputs": [],
   "source": [
    "index = pd.MultiIndex.from_tuples(tuples, names=['first', 'second'])"
   ]
  },
  {
   "cell_type": "code",
   "execution_count": 99,
   "metadata": {
    "colab": {
     "autoexec": {
      "startup": false,
      "wait_interval": 0
     }
    },
    "colab_type": "code",
    "id": "Jj2RjG8r3h1B"
   },
   "outputs": [],
   "source": [
    "df = pd.DataFrame(np.random.randn(8, 2), index=index, columns=['A', 'B'])"
   ]
  },
  {
   "cell_type": "code",
   "execution_count": 100,
   "metadata": {
    "colab": {
     "autoexec": {
      "startup": false,
      "wait_interval": 0
     }
    },
    "colab_type": "code",
    "id": "I0H5P5Al3hxB"
   },
   "outputs": [],
   "source": [
    "df2  =  df[:4]"
   ]
  },
  {
   "cell_type": "code",
   "execution_count": 101,
   "metadata": {
    "colab": {
     "autoexec": {
      "startup": false,
      "wait_interval": 0
     },
     "base_uri": "https://localhost:8080/",
     "height": 204
    },
    "colab_type": "code",
    "executionInfo": {
     "elapsed": 731,
     "status": "ok",
     "timestamp": 1531794011058,
     "user": {
      "displayName": "김소령",
      "photoUrl": "https://lh3.googleusercontent.com/a/default-user=s128",
      "userId": "115519869961267992265"
     },
     "user_tz": -540
    },
    "id": "YlRK8VoH3htI",
    "outputId": "11cbb1b4-95b5-4810-d808-6a567f1cc746"
   },
   "outputs": [
    {
     "data": {
      "text/html": [
       "<div>\n",
       "<style scoped>\n",
       "    .dataframe tbody tr th:only-of-type {\n",
       "        vertical-align: middle;\n",
       "    }\n",
       "\n",
       "    .dataframe tbody tr th {\n",
       "        vertical-align: top;\n",
       "    }\n",
       "\n",
       "    .dataframe thead th {\n",
       "        text-align: right;\n",
       "    }\n",
       "</style>\n",
       "<table border=\"1\" class=\"dataframe\">\n",
       "  <thead>\n",
       "    <tr style=\"text-align: right;\">\n",
       "      <th></th>\n",
       "      <th></th>\n",
       "      <th>A</th>\n",
       "      <th>B</th>\n",
       "    </tr>\n",
       "    <tr>\n",
       "      <th>first</th>\n",
       "      <th>second</th>\n",
       "      <th></th>\n",
       "      <th></th>\n",
       "    </tr>\n",
       "  </thead>\n",
       "  <tbody>\n",
       "    <tr>\n",
       "      <th rowspan=\"2\" valign=\"top\">bar</th>\n",
       "      <th>one</th>\n",
       "      <td>-0.822153</td>\n",
       "      <td>-0.572324</td>\n",
       "    </tr>\n",
       "    <tr>\n",
       "      <th>two</th>\n",
       "      <td>0.519924</td>\n",
       "      <td>2.178168</td>\n",
       "    </tr>\n",
       "    <tr>\n",
       "      <th rowspan=\"2\" valign=\"top\">baz</th>\n",
       "      <th>one</th>\n",
       "      <td>0.686301</td>\n",
       "      <td>2.270302</td>\n",
       "    </tr>\n",
       "    <tr>\n",
       "      <th>two</th>\n",
       "      <td>1.263556</td>\n",
       "      <td>0.466285</td>\n",
       "    </tr>\n",
       "  </tbody>\n",
       "</table>\n",
       "</div>"
      ],
      "text/plain": [
       "                     A         B\n",
       "first second                    \n",
       "bar   one    -0.822153 -0.572324\n",
       "      two     0.519924  2.178168\n",
       "baz   one     0.686301  2.270302\n",
       "      two     1.263556  0.466285"
      ]
     },
     "execution_count": 101,
     "metadata": {},
     "output_type": "execute_result"
    }
   ],
   "source": [
    "df2"
   ]
  },
  {
   "cell_type": "markdown",
   "metadata": {
    "colab_type": "text",
    "id": "EdPsLy7B3o53"
   },
   "source": [
    "[stack()](https://pandas.pydata.org/pandas-docs/stable/generated/pandas.DataFrame.stack.html#pandas.DataFrame.stack) 메서드는 DataFrame 열들의 레벨을 \"압축\"합니다."
   ]
  },
  {
   "cell_type": "code",
   "execution_count": 102,
   "metadata": {
    "colab": {
     "autoexec": {
      "startup": false,
      "wait_interval": 0
     }
    },
    "colab_type": "code",
    "id": "yFIcJ4HE3r0A"
   },
   "outputs": [],
   "source": [
    "stacked = df2.stack()"
   ]
  },
  {
   "cell_type": "code",
   "execution_count": 103,
   "metadata": {
    "colab": {
     "autoexec": {
      "startup": false,
      "wait_interval": 0
     },
     "base_uri": "https://localhost:8080/",
     "height": 192
    },
    "colab_type": "code",
    "executionInfo": {
     "elapsed": 814,
     "status": "ok",
     "timestamp": 1531794021160,
     "user": {
      "displayName": "김소령",
      "photoUrl": "https://lh3.googleusercontent.com/a/default-user=s128",
      "userId": "115519869961267992265"
     },
     "user_tz": -540
    },
    "id": "4HZDs9pX3sEo",
    "outputId": "368118d3-2046-4654-8032-3efdb260e4fa"
   },
   "outputs": [
    {
     "data": {
      "text/plain": [
       "first  second   \n",
       "bar    one     A   -0.822153\n",
       "               B   -0.572324\n",
       "       two     A    0.519924\n",
       "               B    2.178168\n",
       "baz    one     A    0.686301\n",
       "               B    2.270302\n",
       "       two     A    1.263556\n",
       "               B    0.466285\n",
       "dtype: float64"
      ]
     },
     "execution_count": 103,
     "metadata": {},
     "output_type": "execute_result"
    }
   ],
   "source": [
    "stacked"
   ]
  },
  {
   "cell_type": "markdown",
   "metadata": {
    "colab_type": "text",
    "id": "AEuI6yvK3wXA"
   },
   "source": [
    "\"Stacked\" DataFrame 또는 Series (MultiIndex를 인덱스로 사용) 인 경우 [stack()](https://pandas.pydata.org/pandas-docs/stable/generated/pandas.DataFrame.stack.html#pandas.DataFrame.stack)의 역 연산은 [unstack()](https://pandas.pydata.org/pandas-docs/stable/generated/pandas.DataFrame.unstack.html#pandas.DataFrame.unstack)이며, 기본적으로 마지막 레벨을 unstack합니다."
   ]
  },
  {
   "cell_type": "code",
   "execution_count": 104,
   "metadata": {
    "colab": {
     "autoexec": {
      "startup": false,
      "wait_interval": 0
     },
     "base_uri": "https://localhost:8080/",
     "height": 204
    },
    "colab_type": "code",
    "executionInfo": {
     "elapsed": 694,
     "status": "ok",
     "timestamp": 1531794027391,
     "user": {
      "displayName": "김소령",
      "photoUrl": "https://lh3.googleusercontent.com/a/default-user=s128",
      "userId": "115519869961267992265"
     },
     "user_tz": -540
    },
    "id": "RlD00KLE3rvm",
    "outputId": "1ae1686c-4bdc-4724-b23a-4b851fd69c7d"
   },
   "outputs": [
    {
     "data": {
      "text/html": [
       "<div>\n",
       "<style scoped>\n",
       "    .dataframe tbody tr th:only-of-type {\n",
       "        vertical-align: middle;\n",
       "    }\n",
       "\n",
       "    .dataframe tbody tr th {\n",
       "        vertical-align: top;\n",
       "    }\n",
       "\n",
       "    .dataframe thead th {\n",
       "        text-align: right;\n",
       "    }\n",
       "</style>\n",
       "<table border=\"1\" class=\"dataframe\">\n",
       "  <thead>\n",
       "    <tr style=\"text-align: right;\">\n",
       "      <th></th>\n",
       "      <th></th>\n",
       "      <th>A</th>\n",
       "      <th>B</th>\n",
       "    </tr>\n",
       "    <tr>\n",
       "      <th>first</th>\n",
       "      <th>second</th>\n",
       "      <th></th>\n",
       "      <th></th>\n",
       "    </tr>\n",
       "  </thead>\n",
       "  <tbody>\n",
       "    <tr>\n",
       "      <th rowspan=\"2\" valign=\"top\">bar</th>\n",
       "      <th>one</th>\n",
       "      <td>-0.822153</td>\n",
       "      <td>-0.572324</td>\n",
       "    </tr>\n",
       "    <tr>\n",
       "      <th>two</th>\n",
       "      <td>0.519924</td>\n",
       "      <td>2.178168</td>\n",
       "    </tr>\n",
       "    <tr>\n",
       "      <th rowspan=\"2\" valign=\"top\">baz</th>\n",
       "      <th>one</th>\n",
       "      <td>0.686301</td>\n",
       "      <td>2.270302</td>\n",
       "    </tr>\n",
       "    <tr>\n",
       "      <th>two</th>\n",
       "      <td>1.263556</td>\n",
       "      <td>0.466285</td>\n",
       "    </tr>\n",
       "  </tbody>\n",
       "</table>\n",
       "</div>"
      ],
      "text/plain": [
       "                     A         B\n",
       "first second                    \n",
       "bar   one    -0.822153 -0.572324\n",
       "      two     0.519924  2.178168\n",
       "baz   one     0.686301  2.270302\n",
       "      two     1.263556  0.466285"
      ]
     },
     "execution_count": 104,
     "metadata": {},
     "output_type": "execute_result"
    }
   ],
   "source": [
    "stacked.unstack()"
   ]
  },
  {
   "cell_type": "code",
   "execution_count": 105,
   "metadata": {
    "colab": {
     "autoexec": {
      "startup": false,
      "wait_interval": 0
     },
     "base_uri": "https://localhost:8080/",
     "height": 328
    },
    "colab_type": "code",
    "executionInfo": {
     "elapsed": 697,
     "status": "ok",
     "timestamp": 1531793697811,
     "user": {
      "displayName": "김소령",
      "photoUrl": "https://lh3.googleusercontent.com/a/default-user=s128",
      "userId": "115519869961267992265"
     },
     "user_tz": -540
    },
    "id": "kq8C75gl30xL",
    "outputId": "ce659c7a-ff97-414a-bfde-7d5a662e80ce"
   },
   "outputs": [
    {
     "data": {
      "text/html": [
       "<div>\n",
       "<style scoped>\n",
       "    .dataframe tbody tr th:only-of-type {\n",
       "        vertical-align: middle;\n",
       "    }\n",
       "\n",
       "    .dataframe tbody tr th {\n",
       "        vertical-align: top;\n",
       "    }\n",
       "\n",
       "    .dataframe thead th {\n",
       "        text-align: right;\n",
       "    }\n",
       "</style>\n",
       "<table border=\"1\" class=\"dataframe\">\n",
       "  <thead>\n",
       "    <tr style=\"text-align: right;\">\n",
       "      <th></th>\n",
       "      <th>second</th>\n",
       "      <th>one</th>\n",
       "      <th>two</th>\n",
       "    </tr>\n",
       "    <tr>\n",
       "      <th>first</th>\n",
       "      <th></th>\n",
       "      <th></th>\n",
       "      <th></th>\n",
       "    </tr>\n",
       "  </thead>\n",
       "  <tbody>\n",
       "    <tr>\n",
       "      <th rowspan=\"2\" valign=\"top\">bar</th>\n",
       "      <th>A</th>\n",
       "      <td>-0.822153</td>\n",
       "      <td>0.519924</td>\n",
       "    </tr>\n",
       "    <tr>\n",
       "      <th>B</th>\n",
       "      <td>-0.572324</td>\n",
       "      <td>2.178168</td>\n",
       "    </tr>\n",
       "    <tr>\n",
       "      <th rowspan=\"2\" valign=\"top\">baz</th>\n",
       "      <th>A</th>\n",
       "      <td>0.686301</td>\n",
       "      <td>1.263556</td>\n",
       "    </tr>\n",
       "    <tr>\n",
       "      <th>B</th>\n",
       "      <td>2.270302</td>\n",
       "      <td>0.466285</td>\n",
       "    </tr>\n",
       "  </tbody>\n",
       "</table>\n",
       "</div>"
      ],
      "text/plain": [
       "second        one       two\n",
       "first                      \n",
       "bar   A -0.822153  0.519924\n",
       "      B -0.572324  2.178168\n",
       "baz   A  0.686301  1.263556\n",
       "      B  2.270302  0.466285"
      ]
     },
     "execution_count": 105,
     "metadata": {},
     "output_type": "execute_result"
    }
   ],
   "source": [
    "stacked.unstack(1)"
   ]
  },
  {
   "cell_type": "code",
   "execution_count": 106,
   "metadata": {
    "colab": {
     "autoexec": {
      "startup": false,
      "wait_interval": 0
     },
     "base_uri": "https://localhost:8080/",
     "height": 204
    },
    "colab_type": "code",
    "executionInfo": {
     "elapsed": 739,
     "status": "ok",
     "timestamp": 1531794032461,
     "user": {
      "displayName": "김소령",
      "photoUrl": "https://lh3.googleusercontent.com/a/default-user=s128",
      "userId": "115519869961267992265"
     },
     "user_tz": -540
    },
    "id": "SVz51y-F30tT",
    "outputId": "7d3db09c-6c21-43cc-9ff2-bd17a1bc7e7d"
   },
   "outputs": [
    {
     "data": {
      "text/html": [
       "<div>\n",
       "<style scoped>\n",
       "    .dataframe tbody tr th:only-of-type {\n",
       "        vertical-align: middle;\n",
       "    }\n",
       "\n",
       "    .dataframe tbody tr th {\n",
       "        vertical-align: top;\n",
       "    }\n",
       "\n",
       "    .dataframe thead th {\n",
       "        text-align: right;\n",
       "    }\n",
       "</style>\n",
       "<table border=\"1\" class=\"dataframe\">\n",
       "  <thead>\n",
       "    <tr style=\"text-align: right;\">\n",
       "      <th></th>\n",
       "      <th>first</th>\n",
       "      <th>bar</th>\n",
       "      <th>baz</th>\n",
       "    </tr>\n",
       "    <tr>\n",
       "      <th>second</th>\n",
       "      <th></th>\n",
       "      <th></th>\n",
       "      <th></th>\n",
       "    </tr>\n",
       "  </thead>\n",
       "  <tbody>\n",
       "    <tr>\n",
       "      <th rowspan=\"2\" valign=\"top\">one</th>\n",
       "      <th>A</th>\n",
       "      <td>-0.822153</td>\n",
       "      <td>0.686301</td>\n",
       "    </tr>\n",
       "    <tr>\n",
       "      <th>B</th>\n",
       "      <td>-0.572324</td>\n",
       "      <td>2.270302</td>\n",
       "    </tr>\n",
       "    <tr>\n",
       "      <th rowspan=\"2\" valign=\"top\">two</th>\n",
       "      <th>A</th>\n",
       "      <td>0.519924</td>\n",
       "      <td>1.263556</td>\n",
       "    </tr>\n",
       "    <tr>\n",
       "      <th>B</th>\n",
       "      <td>2.178168</td>\n",
       "      <td>0.466285</td>\n",
       "    </tr>\n",
       "  </tbody>\n",
       "</table>\n",
       "</div>"
      ],
      "text/plain": [
       "first          bar       baz\n",
       "second                      \n",
       "one    A -0.822153  0.686301\n",
       "       B -0.572324  2.270302\n",
       "two    A  0.519924  1.263556\n",
       "       B  2.178168  0.466285"
      ]
     },
     "execution_count": 106,
     "metadata": {},
     "output_type": "execute_result"
    }
   ],
   "source": [
    "stacked.unstack(0)"
   ]
  },
  {
   "cell_type": "markdown",
   "metadata": {
    "colab_type": "text",
    "id": "RZ_-viV34FE-"
   },
   "source": [
    "## Pivot Tables (피벗 테이블)"
   ]
  },
  {
   "cell_type": "markdown",
   "metadata": {
    "colab_type": "text",
    "id": "zWjNYxfD4Fhb"
   },
   "source": [
    "피벗 테이블 섹션을 참조하십시오."
   ]
  },
  {
   "cell_type": "code",
   "execution_count": 107,
   "metadata": {
    "colab": {
     "autoexec": {
      "startup": false,
      "wait_interval": 0
     }
    },
    "colab_type": "code",
    "id": "VBSzYL-R4MlI"
   },
   "outputs": [],
   "source": [
    "df = pd.DataFrame({'A' : ['one', 'one', 'two', 'three'] * 3,\n",
    "                   'B' : ['A', 'B', 'C'] * 4,\n",
    "                   'C' : ['foo', 'foo', 'foo', 'bar', 'bar', 'bar'] * 2,\n",
    "                   'D' : np.random.randn(12),\n",
    "                   'E' : np.random.randn(12)})"
   ]
  },
  {
   "cell_type": "code",
   "execution_count": 108,
   "metadata": {
    "colab": {
     "autoexec": {
      "startup": false,
      "wait_interval": 0
     },
     "base_uri": "https://localhost:8080/",
     "height": 421
    },
    "colab_type": "code",
    "executionInfo": {
     "elapsed": 986,
     "status": "ok",
     "timestamp": 1531794052424,
     "user": {
      "displayName": "김소령",
      "photoUrl": "https://lh3.googleusercontent.com/a/default-user=s128",
      "userId": "115519869961267992265"
     },
     "user_tz": -540
    },
    "id": "wRwnIrMC4MhQ",
    "outputId": "4765d3e3-e4d7-498e-9813-e0bea853cdb0"
   },
   "outputs": [
    {
     "data": {
      "text/html": [
       "<div>\n",
       "<style scoped>\n",
       "    .dataframe tbody tr th:only-of-type {\n",
       "        vertical-align: middle;\n",
       "    }\n",
       "\n",
       "    .dataframe tbody tr th {\n",
       "        vertical-align: top;\n",
       "    }\n",
       "\n",
       "    .dataframe thead th {\n",
       "        text-align: right;\n",
       "    }\n",
       "</style>\n",
       "<table border=\"1\" class=\"dataframe\">\n",
       "  <thead>\n",
       "    <tr style=\"text-align: right;\">\n",
       "      <th></th>\n",
       "      <th>A</th>\n",
       "      <th>B</th>\n",
       "      <th>C</th>\n",
       "      <th>D</th>\n",
       "      <th>E</th>\n",
       "    </tr>\n",
       "  </thead>\n",
       "  <tbody>\n",
       "    <tr>\n",
       "      <th>0</th>\n",
       "      <td>one</td>\n",
       "      <td>A</td>\n",
       "      <td>foo</td>\n",
       "      <td>-0.126480</td>\n",
       "      <td>0.843330</td>\n",
       "    </tr>\n",
       "    <tr>\n",
       "      <th>1</th>\n",
       "      <td>one</td>\n",
       "      <td>B</td>\n",
       "      <td>foo</td>\n",
       "      <td>1.423550</td>\n",
       "      <td>0.111292</td>\n",
       "    </tr>\n",
       "    <tr>\n",
       "      <th>2</th>\n",
       "      <td>two</td>\n",
       "      <td>C</td>\n",
       "      <td>foo</td>\n",
       "      <td>-0.551225</td>\n",
       "      <td>0.737481</td>\n",
       "    </tr>\n",
       "    <tr>\n",
       "      <th>3</th>\n",
       "      <td>three</td>\n",
       "      <td>A</td>\n",
       "      <td>bar</td>\n",
       "      <td>0.334380</td>\n",
       "      <td>-0.602644</td>\n",
       "    </tr>\n",
       "    <tr>\n",
       "      <th>4</th>\n",
       "      <td>one</td>\n",
       "      <td>B</td>\n",
       "      <td>bar</td>\n",
       "      <td>2.465631</td>\n",
       "      <td>0.855146</td>\n",
       "    </tr>\n",
       "    <tr>\n",
       "      <th>5</th>\n",
       "      <td>one</td>\n",
       "      <td>C</td>\n",
       "      <td>bar</td>\n",
       "      <td>-0.216579</td>\n",
       "      <td>-0.602601</td>\n",
       "    </tr>\n",
       "    <tr>\n",
       "      <th>6</th>\n",
       "      <td>two</td>\n",
       "      <td>A</td>\n",
       "      <td>foo</td>\n",
       "      <td>0.525812</td>\n",
       "      <td>-1.209420</td>\n",
       "    </tr>\n",
       "    <tr>\n",
       "      <th>7</th>\n",
       "      <td>three</td>\n",
       "      <td>B</td>\n",
       "      <td>foo</td>\n",
       "      <td>-0.185237</td>\n",
       "      <td>-0.509186</td>\n",
       "    </tr>\n",
       "    <tr>\n",
       "      <th>8</th>\n",
       "      <td>one</td>\n",
       "      <td>C</td>\n",
       "      <td>foo</td>\n",
       "      <td>0.155327</td>\n",
       "      <td>1.260965</td>\n",
       "    </tr>\n",
       "    <tr>\n",
       "      <th>9</th>\n",
       "      <td>one</td>\n",
       "      <td>A</td>\n",
       "      <td>bar</td>\n",
       "      <td>0.275131</td>\n",
       "      <td>2.036093</td>\n",
       "    </tr>\n",
       "    <tr>\n",
       "      <th>10</th>\n",
       "      <td>two</td>\n",
       "      <td>B</td>\n",
       "      <td>bar</td>\n",
       "      <td>0.087196</td>\n",
       "      <td>-0.390797</td>\n",
       "    </tr>\n",
       "    <tr>\n",
       "      <th>11</th>\n",
       "      <td>three</td>\n",
       "      <td>C</td>\n",
       "      <td>bar</td>\n",
       "      <td>0.223477</td>\n",
       "      <td>-0.841993</td>\n",
       "    </tr>\n",
       "  </tbody>\n",
       "</table>\n",
       "</div>"
      ],
      "text/plain": [
       "        A  B    C         D         E\n",
       "0     one  A  foo -0.126480  0.843330\n",
       "1     one  B  foo  1.423550  0.111292\n",
       "2     two  C  foo -0.551225  0.737481\n",
       "3   three  A  bar  0.334380 -0.602644\n",
       "4     one  B  bar  2.465631  0.855146\n",
       "5     one  C  bar -0.216579 -0.602601\n",
       "6     two  A  foo  0.525812 -1.209420\n",
       "7   three  B  foo -0.185237 -0.509186\n",
       "8     one  C  foo  0.155327  1.260965\n",
       "9     one  A  bar  0.275131  2.036093\n",
       "10    two  B  bar  0.087196 -0.390797\n",
       "11  three  C  bar  0.223477 -0.841993"
      ]
     },
     "execution_count": 108,
     "metadata": {},
     "output_type": "execute_result"
    }
   ],
   "source": [
    "df"
   ]
  },
  {
   "cell_type": "markdown",
   "metadata": {
    "colab_type": "text",
    "id": "d37WGaOO4Qjl"
   },
   "source": [
    "이 데이터에서 피벗 테이블을 매우 쉽게 생성 할 수 있습니다."
   ]
  },
  {
   "cell_type": "code",
   "execution_count": 109,
   "metadata": {
    "colab": {
     "autoexec": {
      "startup": false,
      "wait_interval": 0
     },
     "base_uri": "https://localhost:8080/",
     "height": 359
    },
    "colab_type": "code",
    "executionInfo": {
     "elapsed": 678,
     "status": "ok",
     "timestamp": 1531794059406,
     "user": {
      "displayName": "김소령",
      "photoUrl": "https://lh3.googleusercontent.com/a/default-user=s128",
      "userId": "115519869961267992265"
     },
     "user_tz": -540
    },
    "id": "x55H1koG4RSB",
    "outputId": "c8edb548-04c8-4a9c-c4d9-40ca922d74ee"
   },
   "outputs": [
    {
     "data": {
      "text/html": [
       "<div>\n",
       "<style scoped>\n",
       "    .dataframe tbody tr th:only-of-type {\n",
       "        vertical-align: middle;\n",
       "    }\n",
       "\n",
       "    .dataframe tbody tr th {\n",
       "        vertical-align: top;\n",
       "    }\n",
       "\n",
       "    .dataframe thead th {\n",
       "        text-align: right;\n",
       "    }\n",
       "</style>\n",
       "<table border=\"1\" class=\"dataframe\">\n",
       "  <thead>\n",
       "    <tr style=\"text-align: right;\">\n",
       "      <th></th>\n",
       "      <th>C</th>\n",
       "      <th>bar</th>\n",
       "      <th>foo</th>\n",
       "    </tr>\n",
       "    <tr>\n",
       "      <th>A</th>\n",
       "      <th>B</th>\n",
       "      <th></th>\n",
       "      <th></th>\n",
       "    </tr>\n",
       "  </thead>\n",
       "  <tbody>\n",
       "    <tr>\n",
       "      <th rowspan=\"3\" valign=\"top\">one</th>\n",
       "      <th>A</th>\n",
       "      <td>0.275131</td>\n",
       "      <td>-0.126480</td>\n",
       "    </tr>\n",
       "    <tr>\n",
       "      <th>B</th>\n",
       "      <td>2.465631</td>\n",
       "      <td>1.423550</td>\n",
       "    </tr>\n",
       "    <tr>\n",
       "      <th>C</th>\n",
       "      <td>-0.216579</td>\n",
       "      <td>0.155327</td>\n",
       "    </tr>\n",
       "    <tr>\n",
       "      <th rowspan=\"3\" valign=\"top\">three</th>\n",
       "      <th>A</th>\n",
       "      <td>0.334380</td>\n",
       "      <td>NaN</td>\n",
       "    </tr>\n",
       "    <tr>\n",
       "      <th>B</th>\n",
       "      <td>NaN</td>\n",
       "      <td>-0.185237</td>\n",
       "    </tr>\n",
       "    <tr>\n",
       "      <th>C</th>\n",
       "      <td>0.223477</td>\n",
       "      <td>NaN</td>\n",
       "    </tr>\n",
       "    <tr>\n",
       "      <th rowspan=\"3\" valign=\"top\">two</th>\n",
       "      <th>A</th>\n",
       "      <td>NaN</td>\n",
       "      <td>0.525812</td>\n",
       "    </tr>\n",
       "    <tr>\n",
       "      <th>B</th>\n",
       "      <td>0.087196</td>\n",
       "      <td>NaN</td>\n",
       "    </tr>\n",
       "    <tr>\n",
       "      <th>C</th>\n",
       "      <td>NaN</td>\n",
       "      <td>-0.551225</td>\n",
       "    </tr>\n",
       "  </tbody>\n",
       "</table>\n",
       "</div>"
      ],
      "text/plain": [
       "C             bar       foo\n",
       "A     B                    \n",
       "one   A  0.275131 -0.126480\n",
       "      B  2.465631  1.423550\n",
       "      C -0.216579  0.155327\n",
       "three A  0.334380       NaN\n",
       "      B       NaN -0.185237\n",
       "      C  0.223477       NaN\n",
       "two   A       NaN  0.525812\n",
       "      B  0.087196       NaN\n",
       "      C       NaN -0.551225"
      ]
     },
     "execution_count": 109,
     "metadata": {},
     "output_type": "execute_result"
    }
   ],
   "source": [
    "pd.pivot_table(df, values='D', index=['A', 'B'], columns=['C'])"
   ]
  },
  {
   "cell_type": "markdown",
   "metadata": {
    "colab_type": "text",
    "id": "ZYenx0CU2Lvc"
   },
   "source": [
    "# Time Series (시계열)"
   ]
  },
  {
   "cell_type": "markdown",
   "metadata": {
    "colab_type": "text",
    "id": "y-awduy52QAH"
   },
   "source": [
    "pandas는 리샘플링 작업을 수행하기 위해 간단하고, 강력하며 효율적인 기능을 제공합니다(예 : 2차 자료를 5-minutely 데이터로 변환). 이는 재무 애플리케이션에서 매우 일반적이지만 이에 국한되지 않습니다. [Time Series(시계열) 섹션](https://pandas.pydata.org/pandas-docs/stable/timeseries.html#timeseries)을 참고하세요."
   ]
  },
  {
   "cell_type": "code",
   "execution_count": 110,
   "metadata": {
    "colab": {
     "autoexec": {
      "startup": false,
      "wait_interval": 0
     }
    },
    "colab_type": "code",
    "id": "Y9eFwVdS2VP_"
   },
   "outputs": [],
   "source": [
    "rng = pd.date_range('1/1/2012', periods=100, freq='S')"
   ]
  },
  {
   "cell_type": "code",
   "execution_count": 111,
   "metadata": {
    "colab": {
     "autoexec": {
      "startup": false,
      "wait_interval": 0
     }
    },
    "colab_type": "code",
    "id": "Cyqthy0N2WlK"
   },
   "outputs": [],
   "source": [
    "ts = pd.Series(np.random.randint(0, 500, len(rng)), index=rng)"
   ]
  },
  {
   "cell_type": "code",
   "execution_count": 112,
   "metadata": {
    "colab": {
     "autoexec": {
      "startup": false,
      "wait_interval": 0
     },
     "base_uri": "https://localhost:8080/",
     "height": 52
    },
    "colab_type": "code",
    "executionInfo": {
     "elapsed": 681,
     "status": "ok",
     "timestamp": 1531794120502,
     "user": {
      "displayName": "김소령",
      "photoUrl": "https://lh3.googleusercontent.com/a/default-user=s128",
      "userId": "115519869961267992265"
     },
     "user_tz": -540
    },
    "id": "ZISF14wx2WpQ",
    "outputId": "a9379f99-9e6c-4ded-9f25-c7fe2685feaa"
   },
   "outputs": [
    {
     "data": {
      "text/plain": [
       "2012-01-01    25065\n",
       "Freq: 5T, dtype: int64"
      ]
     },
     "execution_count": 112,
     "metadata": {},
     "output_type": "execute_result"
    }
   ],
   "source": [
    "ts.resample('5Min').sum()"
   ]
  },
  {
   "cell_type": "markdown",
   "metadata": {
    "colab_type": "text",
    "id": "3LcQGxvr2aBM"
   },
   "source": [
    "시간대를 표현합니다 :"
   ]
  },
  {
   "cell_type": "code",
   "execution_count": 113,
   "metadata": {
    "colab": {
     "autoexec": {
      "startup": false,
      "wait_interval": 0
     }
    },
    "colab_type": "code",
    "id": "N6uN3VkD2WyK"
   },
   "outputs": [],
   "source": [
    "rng = pd.date_range('3/6/2012 00:00', periods=5, freq='D')"
   ]
  },
  {
   "cell_type": "code",
   "execution_count": 114,
   "metadata": {
    "colab": {
     "autoexec": {
      "startup": false,
      "wait_interval": 0
     }
    },
    "colab_type": "code",
    "id": "zIMrP5Te2cht"
   },
   "outputs": [],
   "source": [
    "ts = pd.Series(np.random.randn(len(rng)), rng)"
   ]
  },
  {
   "cell_type": "code",
   "execution_count": 115,
   "metadata": {
    "colab": {
     "autoexec": {
      "startup": false,
      "wait_interval": 0
     },
     "base_uri": "https://localhost:8080/",
     "height": 122
    },
    "colab_type": "code",
    "executionInfo": {
     "elapsed": 894,
     "status": "ok",
     "timestamp": 1531794168800,
     "user": {
      "displayName": "김소령",
      "photoUrl": "https://lh3.googleusercontent.com/a/default-user=s128",
      "userId": "115519869961267992265"
     },
     "user_tz": -540
    },
    "id": "SmAOR9oR2Wtw",
    "outputId": "d800085a-e5f1-43ae-9f73-8e08add09d5e"
   },
   "outputs": [
    {
     "data": {
      "text/plain": [
       "2012-03-06   -0.178601\n",
       "2012-03-07    0.202172\n",
       "2012-03-08   -0.477199\n",
       "2012-03-09    0.349041\n",
       "2012-03-10   -0.448074\n",
       "Freq: D, dtype: float64"
      ]
     },
     "execution_count": 115,
     "metadata": {},
     "output_type": "execute_result"
    }
   ],
   "source": [
    "ts"
   ]
  },
  {
   "cell_type": "code",
   "execution_count": 116,
   "metadata": {
    "colab": {
     "autoexec": {
      "startup": false,
      "wait_interval": 0
     }
    },
    "colab_type": "code",
    "id": "tSHoco6N2ezX"
   },
   "outputs": [],
   "source": [
    "ts_utc = ts.tz_localize('UTC')"
   ]
  },
  {
   "cell_type": "code",
   "execution_count": 117,
   "metadata": {
    "colab": {
     "autoexec": {
      "startup": false,
      "wait_interval": 0
     },
     "base_uri": "https://localhost:8080/",
     "height": 122
    },
    "colab_type": "code",
    "executionInfo": {
     "elapsed": 697,
     "status": "ok",
     "timestamp": 1531794133189,
     "user": {
      "displayName": "김소령",
      "photoUrl": "https://lh3.googleusercontent.com/a/default-user=s128",
      "userId": "115519869961267992265"
     },
     "user_tz": -540
    },
    "id": "YA5wOamF2e3c",
    "outputId": "7fad2ece-56fd-4f87-b69e-55757c490ae1"
   },
   "outputs": [
    {
     "data": {
      "text/plain": [
       "2012-03-06 00:00:00+00:00   -0.178601\n",
       "2012-03-07 00:00:00+00:00    0.202172\n",
       "2012-03-08 00:00:00+00:00   -0.477199\n",
       "2012-03-09 00:00:00+00:00    0.349041\n",
       "2012-03-10 00:00:00+00:00   -0.448074\n",
       "Freq: D, dtype: float64"
      ]
     },
     "execution_count": 117,
     "metadata": {},
     "output_type": "execute_result"
    }
   ],
   "source": [
    "ts_utc"
   ]
  },
  {
   "cell_type": "markdown",
   "metadata": {
    "colab_type": "text",
    "id": "3vrPJFj12hUk"
   },
   "source": [
    "다른 시간대로 변환을 시행합니다 :"
   ]
  },
  {
   "cell_type": "code",
   "execution_count": 118,
   "metadata": {
    "colab": {
     "autoexec": {
      "startup": false,
      "wait_interval": 0
     },
     "base_uri": "https://localhost:8080/",
     "height": 122
    },
    "colab_type": "code",
    "executionInfo": {
     "elapsed": 706,
     "status": "ok",
     "timestamp": 1531794137312,
     "user": {
      "displayName": "김소령",
      "photoUrl": "https://lh3.googleusercontent.com/a/default-user=s128",
      "userId": "115519869961267992265"
     },
     "user_tz": -540
    },
    "id": "OQWgvsVo2e76",
    "outputId": "00b33d85-4cb9-4b39-f9df-8cae3402dcf6"
   },
   "outputs": [
    {
     "data": {
      "text/plain": [
       "2012-03-05 19:00:00-05:00   -0.178601\n",
       "2012-03-06 19:00:00-05:00    0.202172\n",
       "2012-03-07 19:00:00-05:00   -0.477199\n",
       "2012-03-08 19:00:00-05:00    0.349041\n",
       "2012-03-09 19:00:00-05:00   -0.448074\n",
       "Freq: D, dtype: float64"
      ]
     },
     "execution_count": 118,
     "metadata": {},
     "output_type": "execute_result"
    }
   ],
   "source": [
    "ts_utc.tz_convert('US/Eastern')"
   ]
  },
  {
   "cell_type": "markdown",
   "metadata": {
    "colab_type": "text",
    "id": "THfGaHND2kli"
   },
   "source": [
    "시간 범위 표현 간에 변환을 시행합니다 :"
   ]
  },
  {
   "cell_type": "code",
   "execution_count": 119,
   "metadata": {
    "colab": {
     "autoexec": {
      "startup": false,
      "wait_interval": 0
     }
    },
    "colab_type": "code",
    "id": "bZPXGpSZ2lLt"
   },
   "outputs": [],
   "source": [
    "rng = pd.date_range('1/1/2012', periods=5, freq='M')"
   ]
  },
  {
   "cell_type": "code",
   "execution_count": 120,
   "metadata": {
    "colab": {
     "autoexec": {
      "startup": false,
      "wait_interval": 0
     }
    },
    "colab_type": "code",
    "id": "NCpFTZCz2e_7"
   },
   "outputs": [],
   "source": [
    "ts = pd.Series(np.random.randn(len(rng)), index=rng)"
   ]
  },
  {
   "cell_type": "code",
   "execution_count": 121,
   "metadata": {
    "colab": {
     "autoexec": {
      "startup": false,
      "wait_interval": 0
     },
     "base_uri": "https://localhost:8080/",
     "height": 122
    },
    "colab_type": "code",
    "executionInfo": {
     "elapsed": 815,
     "status": "ok",
     "timestamp": 1531793824888,
     "user": {
      "displayName": "김소령",
      "photoUrl": "https://lh3.googleusercontent.com/a/default-user=s128",
      "userId": "115519869961267992265"
     },
     "user_tz": -540
    },
    "id": "TFbL7np62obz",
    "outputId": "ebbc654b-c785-49b8-8761-4c93eb867c42"
   },
   "outputs": [
    {
     "data": {
      "text/plain": [
       "2012-01-31    0.694017\n",
       "2012-02-29   -0.151605\n",
       "2012-03-31   -1.443973\n",
       "2012-04-30    0.099271\n",
       "2012-05-31   -0.270948\n",
       "Freq: M, dtype: float64"
      ]
     },
     "execution_count": 121,
     "metadata": {},
     "output_type": "execute_result"
    }
   ],
   "source": [
    "ts"
   ]
  },
  {
   "cell_type": "code",
   "execution_count": 122,
   "metadata": {
    "colab": {
     "autoexec": {
      "startup": false,
      "wait_interval": 0
     }
    },
    "colab_type": "code",
    "id": "I30_LkrG2o_g"
   },
   "outputs": [],
   "source": [
    "ps = ts.to_period()"
   ]
  },
  {
   "cell_type": "code",
   "execution_count": 123,
   "metadata": {
    "colab": {
     "autoexec": {
      "startup": false,
      "wait_interval": 0
     },
     "base_uri": "https://localhost:8080/",
     "height": 122
    },
    "colab_type": "code",
    "executionInfo": {
     "elapsed": 1353,
     "status": "ok",
     "timestamp": 1531793830523,
     "user": {
      "displayName": "김소령",
      "photoUrl": "https://lh3.googleusercontent.com/a/default-user=s128",
      "userId": "115519869961267992265"
     },
     "user_tz": -540
    },
    "id": "Ue18d1fv2pHh",
    "outputId": "95180de3-204e-4bbd-ca04-5104a703ac7d"
   },
   "outputs": [
    {
     "data": {
      "text/plain": [
       "2012-01    0.694017\n",
       "2012-02   -0.151605\n",
       "2012-03   -1.443973\n",
       "2012-04    0.099271\n",
       "2012-05   -0.270948\n",
       "Freq: M, dtype: float64"
      ]
     },
     "execution_count": 123,
     "metadata": {},
     "output_type": "execute_result"
    }
   ],
   "source": [
    "ps"
   ]
  },
  {
   "cell_type": "code",
   "execution_count": 124,
   "metadata": {
    "colab": {
     "autoexec": {
      "startup": false,
      "wait_interval": 0
     },
     "base_uri": "https://localhost:8080/",
     "height": 122
    },
    "colab_type": "code",
    "executionInfo": {
     "elapsed": 1022,
     "status": "ok",
     "timestamp": 1531793832723,
     "user": {
      "displayName": "김소령",
      "photoUrl": "https://lh3.googleusercontent.com/a/default-user=s128",
      "userId": "115519869961267992265"
     },
     "user_tz": -540
    },
    "id": "YgdyzQNW2pQp",
    "outputId": "6059235d-d536-4328-f4f1-55b3a270f206"
   },
   "outputs": [
    {
     "data": {
      "text/plain": [
       "2012-01-01    0.694017\n",
       "2012-02-01   -0.151605\n",
       "2012-03-01   -1.443973\n",
       "2012-04-01    0.099271\n",
       "2012-05-01   -0.270948\n",
       "Freq: MS, dtype: float64"
      ]
     },
     "execution_count": 124,
     "metadata": {},
     "output_type": "execute_result"
    }
   ],
   "source": [
    "ps.to_timestamp()"
   ]
  },
  {
   "cell_type": "markdown",
   "metadata": {
    "colab_type": "text",
    "id": "mxuEnG7R2twf"
   },
   "source": [
    "기간과 타임 스탬프를 변환하면 편리한 산술 기능을 사용할 수 있습니다. 다음 예제에서는 11월에 끝나는 연말 결산의 분기 별 빈도를 다음 달 오전 9시까지 변환합니다 :"
   ]
  },
  {
   "cell_type": "code",
   "execution_count": 125,
   "metadata": {
    "colab": {
     "autoexec": {
      "startup": false,
      "wait_interval": 0
     }
    },
    "colab_type": "code",
    "id": "tPlpI7I02wU2"
   },
   "outputs": [],
   "source": [
    "prng = pd.period_range('1990Q1', '2000Q4', freq='Q-NOV')"
   ]
  },
  {
   "cell_type": "code",
   "execution_count": 126,
   "metadata": {
    "colab": {
     "autoexec": {
      "startup": false,
      "wait_interval": 0
     }
    },
    "colab_type": "code",
    "id": "HJrVQIbf2xnO"
   },
   "outputs": [],
   "source": [
    "ts = pd.Series(np.random.randn(len(prng)), prng)"
   ]
  },
  {
   "cell_type": "code",
   "execution_count": 127,
   "metadata": {
    "colab": {
     "autoexec": {
      "startup": false,
      "wait_interval": 0
     }
    },
    "colab_type": "code",
    "id": "0e5Bd6Nq23QY"
   },
   "outputs": [],
   "source": [
    "ts.index = (prng.asfreq('M', 'e') + 1).asfreq('H', 's') + 9"
   ]
  },
  {
   "cell_type": "code",
   "execution_count": 128,
   "metadata": {
    "colab": {
     "autoexec": {
      "startup": false,
      "wait_interval": 0
     },
     "base_uri": "https://localhost:8080/",
     "height": 122
    },
    "colab_type": "code",
    "executionInfo": {
     "elapsed": 651,
     "status": "ok",
     "timestamp": 1531793942445,
     "user": {
      "displayName": "김소령",
      "photoUrl": "https://lh3.googleusercontent.com/a/default-user=s128",
      "userId": "115519869961267992265"
     },
     "user_tz": -540
    },
    "id": "RecuXufR26SS",
    "outputId": "1a7cbbe9-1966-4907-fc77-71e446d31040"
   },
   "outputs": [
    {
     "data": {
      "text/plain": [
       "1990-03-01 09:00   -1.022381\n",
       "1990-06-01 09:00   -1.221478\n",
       "1990-09-01 09:00    0.790400\n",
       "1990-12-01 09:00    0.516359\n",
       "1991-03-01 09:00    1.111601\n",
       "Freq: H, dtype: float64"
      ]
     },
     "execution_count": 128,
     "metadata": {},
     "output_type": "execute_result"
    }
   ],
   "source": [
    "ts.head()"
   ]
  },
  {
   "cell_type": "markdown",
   "metadata": {
    "colab_type": "text",
    "id": "8OfzvbgW28Hc"
   },
   "source": [
    "# Categoricals (범주화)"
   ]
  },
  {
   "cell_type": "markdown",
   "metadata": {
    "colab_type": "text",
    "id": "e3UtUKXU_P2R"
   },
   "source": [
    "판다스는 데이터프레임 내에 범주형 데이터를 포함할 수 있습니다. 관련 문서는 [범주형 데이터 설명서](https://pandas.pydata.org/pandas-docs/stable/categorical.html#categorical) 와 [API 문서](https://pandas.pydata.org/pandas-docs/stable/api.html#api-categorical)를 참조하세요."
   ]
  },
  {
   "cell_type": "code",
   "execution_count": 129,
   "metadata": {
    "colab": {
     "autoexec": {
      "startup": false,
      "wait_interval": 0
     }
    },
    "colab_type": "code",
    "id": "06N2dtiG_Syu"
   },
   "outputs": [],
   "source": [
    "df = pd.DataFrame({\"id\":[1,2,3,4,5,6], \"raw_grade\":['a', 'b', 'b', 'a', 'a', 'e']})"
   ]
  },
  {
   "cell_type": "markdown",
   "metadata": {
    "colab_type": "text",
    "id": "gDRaVjoD_j_o"
   },
   "source": [
    "raw grade를 범주형 데이터 타입으로 바꿔주세요."
   ]
  },
  {
   "cell_type": "code",
   "execution_count": 130,
   "metadata": {
    "colab": {
     "autoexec": {
      "startup": false,
      "wait_interval": 0
     }
    },
    "colab_type": "code",
    "id": "1SYkcjem_sGv"
   },
   "outputs": [],
   "source": [
    "df[\"grade\"] = df[\"raw_grade\"].astype(\"category\")"
   ]
  },
  {
   "cell_type": "code",
   "execution_count": 131,
   "metadata": {
    "colab": {
     "autoexec": {
      "startup": false,
      "wait_interval": 0
     }
    },
    "colab_type": "code",
    "id": "jydcy-_m_uzu"
   },
   "outputs": [
    {
     "data": {
      "text/plain": [
       "0    a\n",
       "1    b\n",
       "2    b\n",
       "3    a\n",
       "4    a\n",
       "5    e\n",
       "Name: grade, dtype: category\n",
       "Categories (3, object): [a, b, e]"
      ]
     },
     "execution_count": 131,
     "metadata": {},
     "output_type": "execute_result"
    }
   ],
   "source": [
    "df[\"grade\"]"
   ]
  },
  {
   "cell_type": "markdown",
   "metadata": {
    "colab_type": "text",
    "id": "42GBAJv5Bt1I"
   },
   "source": [
    "범주를 더 의미있는 이름으로 바꿔주세요. (Series.cat을 범주화할 준비가 됐습니다!)"
   ]
  },
  {
   "cell_type": "code",
   "execution_count": 132,
   "metadata": {
    "colab": {
     "autoexec": {
      "startup": false,
      "wait_interval": 0
     }
    },
    "colab_type": "code",
    "id": "doobrAvYBudq"
   },
   "outputs": [],
   "source": [
    "df[\"grade\"].cat.categories = [\"very good\", \"good\", \"very bad\"]"
   ]
  },
  {
   "cell_type": "markdown",
   "metadata": {
    "colab_type": "text",
    "id": "vhhGHW7LBwYW"
   },
   "source": [
    "범주의 순서를 바꾸고 누락된 범주를 동시에 추가합니다. (Series.cat 메서드는 자동으로 새 Series를 반환합니다.)"
   ]
  },
  {
   "cell_type": "code",
   "execution_count": 133,
   "metadata": {
    "colab": {
     "autoexec": {
      "startup": false,
      "wait_interval": 0
     }
    },
    "colab_type": "code",
    "id": "lUcARnDbBw9g"
   },
   "outputs": [],
   "source": [
    "df[\"grade\"] = df[\"grade\"].cat.set_categories([\"very bad\", \"bad\", \"medium\", \"good\", \"very good\"])"
   ]
  },
  {
   "cell_type": "code",
   "execution_count": 134,
   "metadata": {
    "colab": {
     "autoexec": {
      "startup": false,
      "wait_interval": 0
     }
    },
    "colab_type": "code",
    "id": "RA_znfuKBy8q"
   },
   "outputs": [
    {
     "data": {
      "text/plain": [
       "0    very good\n",
       "1         good\n",
       "2         good\n",
       "3    very good\n",
       "4    very good\n",
       "5     very bad\n",
       "Name: grade, dtype: category\n",
       "Categories (5, object): [very bad, bad, medium, good, very good]"
      ]
     },
     "execution_count": 134,
     "metadata": {},
     "output_type": "execute_result"
    }
   ],
   "source": [
    "df[\"grade\"]"
   ]
  },
  {
   "cell_type": "markdown",
   "metadata": {
    "colab_type": "text",
    "id": "SPNrY_SE3Evr"
   },
   "source": [
    "정렬(sort)은 어휘 순서(lexical order)가 아닌, 범주(category) 순서로 수행됩니다."
   ]
  },
  {
   "cell_type": "code",
   "execution_count": 135,
   "metadata": {
    "colab": {
     "autoexec": {
      "startup": false,
      "wait_interval": 0
     }
    },
    "colab_type": "code",
    "id": "FuGS1e023A8g"
   },
   "outputs": [
    {
     "data": {
      "text/html": [
       "<div>\n",
       "<style scoped>\n",
       "    .dataframe tbody tr th:only-of-type {\n",
       "        vertical-align: middle;\n",
       "    }\n",
       "\n",
       "    .dataframe tbody tr th {\n",
       "        vertical-align: top;\n",
       "    }\n",
       "\n",
       "    .dataframe thead th {\n",
       "        text-align: right;\n",
       "    }\n",
       "</style>\n",
       "<table border=\"1\" class=\"dataframe\">\n",
       "  <thead>\n",
       "    <tr style=\"text-align: right;\">\n",
       "      <th></th>\n",
       "      <th>id</th>\n",
       "      <th>raw_grade</th>\n",
       "      <th>grade</th>\n",
       "    </tr>\n",
       "  </thead>\n",
       "  <tbody>\n",
       "    <tr>\n",
       "      <th>5</th>\n",
       "      <td>6</td>\n",
       "      <td>e</td>\n",
       "      <td>very bad</td>\n",
       "    </tr>\n",
       "    <tr>\n",
       "      <th>1</th>\n",
       "      <td>2</td>\n",
       "      <td>b</td>\n",
       "      <td>good</td>\n",
       "    </tr>\n",
       "    <tr>\n",
       "      <th>2</th>\n",
       "      <td>3</td>\n",
       "      <td>b</td>\n",
       "      <td>good</td>\n",
       "    </tr>\n",
       "    <tr>\n",
       "      <th>0</th>\n",
       "      <td>1</td>\n",
       "      <td>a</td>\n",
       "      <td>very good</td>\n",
       "    </tr>\n",
       "    <tr>\n",
       "      <th>3</th>\n",
       "      <td>4</td>\n",
       "      <td>a</td>\n",
       "      <td>very good</td>\n",
       "    </tr>\n",
       "    <tr>\n",
       "      <th>4</th>\n",
       "      <td>5</td>\n",
       "      <td>a</td>\n",
       "      <td>very good</td>\n",
       "    </tr>\n",
       "  </tbody>\n",
       "</table>\n",
       "</div>"
      ],
      "text/plain": [
       "   id raw_grade      grade\n",
       "5   6         e   very bad\n",
       "1   2         b       good\n",
       "2   3         b       good\n",
       "0   1         a  very good\n",
       "3   4         a  very good\n",
       "4   5         a  very good"
      ]
     },
     "execution_count": 135,
     "metadata": {},
     "output_type": "execute_result"
    }
   ],
   "source": [
    "df.sort_values(by=\"grade\")"
   ]
  },
  {
   "cell_type": "markdown",
   "metadata": {
    "colab_type": "text",
    "id": "tl3VskO43Hd9"
   },
   "source": [
    "범주의 열을 기준으로 그룹화하면(grouping) 빈 범주도 표시됩니다."
   ]
  },
  {
   "cell_type": "code",
   "execution_count": 136,
   "metadata": {
    "colab": {
     "autoexec": {
      "startup": false,
      "wait_interval": 0
     }
    },
    "colab_type": "code",
    "id": "pD-EDBKN3KNk"
   },
   "outputs": [
    {
     "data": {
      "text/plain": [
       "grade\n",
       "very bad     1\n",
       "bad          0\n",
       "medium       0\n",
       "good         2\n",
       "very good    3\n",
       "dtype: int64"
      ]
     },
     "execution_count": 136,
     "metadata": {},
     "output_type": "execute_result"
    }
   ],
   "source": [
    "df.groupby(\"grade\").size()"
   ]
  },
  {
   "cell_type": "markdown",
   "metadata": {
    "colab_type": "text",
    "id": "LDarUbRI1K9c"
   },
   "source": [
    "# Plotting (플로팅)"
   ]
  },
  {
   "cell_type": "markdown",
   "metadata": {
    "colab_type": "text",
    "id": "pi9t1o4-1X2Q"
   },
   "source": [
    "[Plotting](https://pandas.pydata.org/pandas-docs/stable/visualization.html#visualization) 문서를 참조하세요."
   ]
  },
  {
   "cell_type": "code",
   "execution_count": 137,
   "metadata": {
    "colab": {
     "autoexec": {
      "startup": false,
      "wait_interval": 0
     },
     "base_uri": "https://localhost:8080/",
     "height": 172
    },
    "colab_type": "code",
    "executionInfo": {
     "elapsed": 674,
     "status": "error",
     "timestamp": 1531794727049,
     "user": {
      "displayName": "EUNJI LEE",
      "photoUrl": "//lh5.googleusercontent.com/-Af1nbBVMBUM/AAAAAAAAAAI/AAAAAAAAAG8/Q6xuMVAUbHk/s50-c-k-no/photo.jpg",
      "userId": "113493488780737428858"
     },
     "user_tz": -540
    },
    "id": "ypfwa2Zy1WrL",
    "outputId": "50ee7725-cc65-4e4f-9878-d4780bdac663"
   },
   "outputs": [],
   "source": [
    "ts = pd.Series(np.random.randn(1000), index=pd.date_range('1/1/2000', periods=1000))"
   ]
  },
  {
   "cell_type": "code",
   "execution_count": 138,
   "metadata": {
    "colab": {
     "autoexec": {
      "startup": false,
      "wait_interval": 0
     }
    },
    "colab_type": "code",
    "id": "Ai8kXvor1cSZ"
   },
   "outputs": [],
   "source": [
    "ts = ts.cumsum()"
   ]
  },
  {
   "cell_type": "code",
   "execution_count": 139,
   "metadata": {
    "colab": {
     "autoexec": {
      "startup": false,
      "wait_interval": 0
     },
     "base_uri": "https://localhost:8080/",
     "height": 377
    },
    "colab_type": "code",
    "executionInfo": {
     "elapsed": 1626,
     "status": "ok",
     "timestamp": 1531794568483,
     "user": {
      "displayName": "정다현",
      "photoUrl": "https://lh3.googleusercontent.com/a/default-user=s128",
      "userId": "108793786663813438778"
     },
     "user_tz": -540
    },
    "id": "sfICp0cs1gXu",
    "outputId": "c6009633-5e9a-47b6-e94d-217c6a93c646"
   },
   "outputs": [
    {
     "data": {
      "text/plain": [
       "<matplotlib.axes._subplots.AxesSubplot at 0x115a4c710>"
      ]
     },
     "execution_count": 139,
     "metadata": {},
     "output_type": "execute_result"
    },
    {
     "data": {
      "image/png": "[encoded data removed]",
      "text/plain": [
       "<matplotlib.figure.Figure at 0x115a424a8>"
      ]
     },
     "metadata": {},
     "output_type": "display_data"
    }
   ],
   "source": [
    "ts.plot()"
   ]
  },
  {
   "cell_type": "markdown",
   "metadata": {
    "colab_type": "text",
    "id": "iOsgd7LK1kXK"
   },
   "source": [
    "DataFrame에서 [plot()](https://pandas.pydata.org/pandas-docs/stable/generated/pandas.DataFrame.plot.html#pandas.DataFrame.plot) 메소드는 레이블에 있는 모든 열을 그릴 때 편리합니다\n",
    "\n"
   ]
  },
  {
   "cell_type": "code",
   "execution_count": 140,
   "metadata": {
    "colab": {
     "autoexec": {
      "startup": false,
      "wait_interval": 0
     }
    },
    "colab_type": "code",
    "id": "LHvapoGC1pPT"
   },
   "outputs": [],
   "source": [
    "df = pd.DataFrame(np.random.randn(1000, 4), index=ts.index,\n",
    "                  columns=['A', 'B', 'C', 'D'])  "
   ]
  },
  {
   "cell_type": "code",
   "execution_count": 141,
   "metadata": {
    "colab": {
     "autoexec": {
      "startup": false,
      "wait_interval": 0
     }
    },
    "colab_type": "code",
    "id": "g6ebCUZa1rKu"
   },
   "outputs": [],
   "source": [
    "df = df.cumsum()"
   ]
  },
  {
   "cell_type": "code",
   "execution_count": 142,
   "metadata": {
    "colab": {
     "autoexec": {
      "startup": false,
      "wait_interval": 0
     },
     "base_uri": "https://localhost:8080/",
     "height": 396
    },
    "colab_type": "code",
    "executionInfo": {
     "elapsed": 1794,
     "status": "ok",
     "timestamp": 1531794585672,
     "user": {
      "displayName": "정다현",
      "photoUrl": "https://lh3.googleusercontent.com/a/default-user=s128",
      "userId": "108793786663813438778"
     },
     "user_tz": -540
    },
    "id": "Qfil41-P1uMu",
    "outputId": "941e5874-1699-4f75-c209-ac22d06accd9"
   },
   "outputs": [
    {
     "data": {
      "text/plain": [
       "<matplotlib.legend.Legend at 0x115a8fdd8>"
      ]
     },
     "execution_count": 142,
     "metadata": {},
     "output_type": "execute_result"
    },
    {
     "data": {
      "text/plain": [
       "<matplotlib.figure.Figure at 0x115a42160>"
      ]
     },
     "metadata": {},
     "output_type": "display_data"
    },
    {
     "data": {
      "image/png": "[encoded data removed]",
      "text/plain": [
       "<matplotlib.figure.Figure at 0x115b3c518>"
      ]
     },
     "metadata": {},
     "output_type": "display_data"
    }
   ],
   "source": [
    "plt.figure(); df.plot(); plt.legend(loc='best')"
   ]
  },
  {
   "cell_type": "markdown",
   "metadata": {
    "colab_type": "text",
    "id": "6orrhxzC2vJh"
   },
   "source": [
    "#Getting Data In/Out"
   ]
  },
  {
   "cell_type": "markdown",
   "metadata": {
    "colab_type": "text",
    "id": "bYZJgW252vq2"
   },
   "source": [
    "##CSV"
   ]
  },
  {
   "cell_type": "markdown",
   "metadata": {
    "colab_type": "text",
    "id": "Z7q2-xWD_YkP"
   },
   "source": [
    "[csv 파일에 씁니다.](https://pandas.pydata.org/pandas-docs/stable/io.html#io-store-in-csv)"
   ]
  },
  {
   "cell_type": "code",
   "execution_count": 143,
   "metadata": {
    "colab": {
     "autoexec": {
      "startup": false,
      "wait_interval": 0
     }
    },
    "colab_type": "code",
    "id": "1iet_DHP_XSk"
   },
   "outputs": [],
   "source": [
    "df.to_csv('foo.csv')"
   ]
  },
  {
   "cell_type": "markdown",
   "metadata": {
    "colab_type": "text",
    "id": "7luq7S6OANk_"
   },
   "source": [
    "[csv 파일에서 읽습니다.](https://pandas.pydata.org/pandas-docs/stable/io.html#io-read-csv-table)"
   ]
  },
  {
   "cell_type": "code",
   "execution_count": 144,
   "metadata": {
    "colab": {
     "autoexec": {
      "startup": false,
      "wait_interval": 0
     },
     "base_uri": "https://localhost:8080/",
     "height": 1949
    },
    "colab_type": "code",
    "executionInfo": {
     "elapsed": 990,
     "status": "ok",
     "timestamp": 1531794606920,
     "user": {
      "displayName": "정다현",
      "photoUrl": "https://lh3.googleusercontent.com/a/default-user=s128",
      "userId": "108793786663813438778"
     },
     "user_tz": -540
    },
    "id": "NE2Xhx-MAW45",
    "outputId": "8c7a769b-d1d5-4c30-99b1-2338036e5e8f"
   },
   "outputs": [
    {
     "data": {
      "text/html": [
       "<div>\n",
       "<style scoped>\n",
       "    .dataframe tbody tr th:only-of-type {\n",
       "        vertical-align: middle;\n",
       "    }\n",
       "\n",
       "    .dataframe tbody tr th {\n",
       "        vertical-align: top;\n",
       "    }\n",
       "\n",
       "    .dataframe thead th {\n",
       "        text-align: right;\n",
       "    }\n",
       "</style>\n",
       "<table border=\"1\" class=\"dataframe\">\n",
       "  <thead>\n",
       "    <tr style=\"text-align: right;\">\n",
       "      <th></th>\n",
       "      <th>Unnamed: 0</th>\n",
       "      <th>A</th>\n",
       "      <th>B</th>\n",
       "      <th>C</th>\n",
       "      <th>D</th>\n",
       "    </tr>\n",
       "  </thead>\n",
       "  <tbody>\n",
       "    <tr>\n",
       "      <th>0</th>\n",
       "      <td>2000-01-01</td>\n",
       "      <td>0.732311</td>\n",
       "      <td>-0.657097</td>\n",
       "      <td>0.701761</td>\n",
       "      <td>0.243486</td>\n",
       "    </tr>\n",
       "    <tr>\n",
       "      <th>1</th>\n",
       "      <td>2000-01-02</td>\n",
       "      <td>-0.388657</td>\n",
       "      <td>-0.259947</td>\n",
       "      <td>3.176101</td>\n",
       "      <td>0.550442</td>\n",
       "    </tr>\n",
       "    <tr>\n",
       "      <th>2</th>\n",
       "      <td>2000-01-03</td>\n",
       "      <td>0.055290</td>\n",
       "      <td>-0.871473</td>\n",
       "      <td>5.430325</td>\n",
       "      <td>0.817741</td>\n",
       "    </tr>\n",
       "    <tr>\n",
       "      <th>3</th>\n",
       "      <td>2000-01-04</td>\n",
       "      <td>-0.489805</td>\n",
       "      <td>-0.130035</td>\n",
       "      <td>6.188678</td>\n",
       "      <td>1.554195</td>\n",
       "    </tr>\n",
       "    <tr>\n",
       "      <th>4</th>\n",
       "      <td>2000-01-05</td>\n",
       "      <td>-0.144038</td>\n",
       "      <td>-0.444660</td>\n",
       "      <td>5.261520</td>\n",
       "      <td>2.623827</td>\n",
       "    </tr>\n",
       "    <tr>\n",
       "      <th>5</th>\n",
       "      <td>2000-01-06</td>\n",
       "      <td>0.694448</td>\n",
       "      <td>-0.927424</td>\n",
       "      <td>4.292713</td>\n",
       "      <td>3.587480</td>\n",
       "    </tr>\n",
       "    <tr>\n",
       "      <th>6</th>\n",
       "      <td>2000-01-07</td>\n",
       "      <td>1.582591</td>\n",
       "      <td>-1.336903</td>\n",
       "      <td>3.185624</td>\n",
       "      <td>3.463861</td>\n",
       "    </tr>\n",
       "    <tr>\n",
       "      <th>7</th>\n",
       "      <td>2000-01-08</td>\n",
       "      <td>1.445196</td>\n",
       "      <td>-1.033043</td>\n",
       "      <td>3.402886</td>\n",
       "      <td>4.492063</td>\n",
       "    </tr>\n",
       "    <tr>\n",
       "      <th>8</th>\n",
       "      <td>2000-01-09</td>\n",
       "      <td>1.542313</td>\n",
       "      <td>-0.979711</td>\n",
       "      <td>4.199413</td>\n",
       "      <td>3.424813</td>\n",
       "    </tr>\n",
       "    <tr>\n",
       "      <th>9</th>\n",
       "      <td>2000-01-10</td>\n",
       "      <td>0.859499</td>\n",
       "      <td>-0.911454</td>\n",
       "      <td>3.555116</td>\n",
       "      <td>2.021105</td>\n",
       "    </tr>\n",
       "    <tr>\n",
       "      <th>10</th>\n",
       "      <td>2000-01-11</td>\n",
       "      <td>-0.068487</td>\n",
       "      <td>-1.818286</td>\n",
       "      <td>1.430079</td>\n",
       "      <td>1.032132</td>\n",
       "    </tr>\n",
       "    <tr>\n",
       "      <th>11</th>\n",
       "      <td>2000-01-12</td>\n",
       "      <td>-1.283804</td>\n",
       "      <td>-0.991947</td>\n",
       "      <td>2.342875</td>\n",
       "      <td>0.102531</td>\n",
       "    </tr>\n",
       "    <tr>\n",
       "      <th>12</th>\n",
       "      <td>2000-01-13</td>\n",
       "      <td>-1.266903</td>\n",
       "      <td>-1.195169</td>\n",
       "      <td>1.902551</td>\n",
       "      <td>-1.065248</td>\n",
       "    </tr>\n",
       "    <tr>\n",
       "      <th>13</th>\n",
       "      <td>2000-01-14</td>\n",
       "      <td>-0.041715</td>\n",
       "      <td>-3.729677</td>\n",
       "      <td>2.238207</td>\n",
       "      <td>-0.619010</td>\n",
       "    </tr>\n",
       "    <tr>\n",
       "      <th>14</th>\n",
       "      <td>2000-01-15</td>\n",
       "      <td>-0.214906</td>\n",
       "      <td>-2.882387</td>\n",
       "      <td>1.643041</td>\n",
       "      <td>-2.225172</td>\n",
       "    </tr>\n",
       "    <tr>\n",
       "      <th>15</th>\n",
       "      <td>2000-01-16</td>\n",
       "      <td>-1.070297</td>\n",
       "      <td>-2.021548</td>\n",
       "      <td>1.642945</td>\n",
       "      <td>-2.387285</td>\n",
       "    </tr>\n",
       "    <tr>\n",
       "      <th>16</th>\n",
       "      <td>2000-01-17</td>\n",
       "      <td>-1.062739</td>\n",
       "      <td>-1.432028</td>\n",
       "      <td>2.024205</td>\n",
       "      <td>-1.429800</td>\n",
       "    </tr>\n",
       "    <tr>\n",
       "      <th>17</th>\n",
       "      <td>2000-01-18</td>\n",
       "      <td>-2.162473</td>\n",
       "      <td>-0.104324</td>\n",
       "      <td>2.336031</td>\n",
       "      <td>-2.657484</td>\n",
       "    </tr>\n",
       "    <tr>\n",
       "      <th>18</th>\n",
       "      <td>2000-01-19</td>\n",
       "      <td>-1.173253</td>\n",
       "      <td>-1.125684</td>\n",
       "      <td>2.313945</td>\n",
       "      <td>-4.004891</td>\n",
       "    </tr>\n",
       "    <tr>\n",
       "      <th>19</th>\n",
       "      <td>2000-01-20</td>\n",
       "      <td>-2.560052</td>\n",
       "      <td>-1.540176</td>\n",
       "      <td>1.774692</td>\n",
       "      <td>-3.942420</td>\n",
       "    </tr>\n",
       "    <tr>\n",
       "      <th>20</th>\n",
       "      <td>2000-01-21</td>\n",
       "      <td>-3.784041</td>\n",
       "      <td>1.133744</td>\n",
       "      <td>1.586238</td>\n",
       "      <td>-4.157664</td>\n",
       "    </tr>\n",
       "    <tr>\n",
       "      <th>21</th>\n",
       "      <td>2000-01-22</td>\n",
       "      <td>-4.756155</td>\n",
       "      <td>0.973457</td>\n",
       "      <td>1.172599</td>\n",
       "      <td>-3.870800</td>\n",
       "    </tr>\n",
       "    <tr>\n",
       "      <th>22</th>\n",
       "      <td>2000-01-23</td>\n",
       "      <td>-4.018703</td>\n",
       "      <td>0.585125</td>\n",
       "      <td>0.659398</td>\n",
       "      <td>-4.378160</td>\n",
       "    </tr>\n",
       "    <tr>\n",
       "      <th>23</th>\n",
       "      <td>2000-01-24</td>\n",
       "      <td>-4.061824</td>\n",
       "      <td>-0.431415</td>\n",
       "      <td>0.327546</td>\n",
       "      <td>-3.065464</td>\n",
       "    </tr>\n",
       "    <tr>\n",
       "      <th>24</th>\n",
       "      <td>2000-01-25</td>\n",
       "      <td>-2.862275</td>\n",
       "      <td>-2.473785</td>\n",
       "      <td>-0.627469</td>\n",
       "      <td>-2.716615</td>\n",
       "    </tr>\n",
       "    <tr>\n",
       "      <th>25</th>\n",
       "      <td>2000-01-26</td>\n",
       "      <td>-3.572517</td>\n",
       "      <td>-2.673674</td>\n",
       "      <td>-0.377861</td>\n",
       "      <td>-2.003886</td>\n",
       "    </tr>\n",
       "    <tr>\n",
       "      <th>26</th>\n",
       "      <td>2000-01-27</td>\n",
       "      <td>-3.039954</td>\n",
       "      <td>-4.272510</td>\n",
       "      <td>-0.070404</td>\n",
       "      <td>-1.927390</td>\n",
       "    </tr>\n",
       "    <tr>\n",
       "      <th>27</th>\n",
       "      <td>2000-01-28</td>\n",
       "      <td>-3.316346</td>\n",
       "      <td>-3.838170</td>\n",
       "      <td>0.028767</td>\n",
       "      <td>-3.464169</td>\n",
       "    </tr>\n",
       "    <tr>\n",
       "      <th>28</th>\n",
       "      <td>2000-01-29</td>\n",
       "      <td>-4.587315</td>\n",
       "      <td>-4.537495</td>\n",
       "      <td>2.258503</td>\n",
       "      <td>-4.292463</td>\n",
       "    </tr>\n",
       "    <tr>\n",
       "      <th>29</th>\n",
       "      <td>2000-01-30</td>\n",
       "      <td>-4.544146</td>\n",
       "      <td>-5.065584</td>\n",
       "      <td>3.522951</td>\n",
       "      <td>-5.257891</td>\n",
       "    </tr>\n",
       "    <tr>\n",
       "      <th>...</th>\n",
       "      <td>...</td>\n",
       "      <td>...</td>\n",
       "      <td>...</td>\n",
       "      <td>...</td>\n",
       "      <td>...</td>\n",
       "    </tr>\n",
       "    <tr>\n",
       "      <th>970</th>\n",
       "      <td>2002-08-28</td>\n",
       "      <td>8.075349</td>\n",
       "      <td>44.887041</td>\n",
       "      <td>-0.776868</td>\n",
       "      <td>-9.061864</td>\n",
       "    </tr>\n",
       "    <tr>\n",
       "      <th>971</th>\n",
       "      <td>2002-08-29</td>\n",
       "      <td>8.510600</td>\n",
       "      <td>42.755103</td>\n",
       "      <td>-1.605845</td>\n",
       "      <td>-11.298843</td>\n",
       "    </tr>\n",
       "    <tr>\n",
       "      <th>972</th>\n",
       "      <td>2002-08-30</td>\n",
       "      <td>6.348967</td>\n",
       "      <td>41.397326</td>\n",
       "      <td>-2.604004</td>\n",
       "      <td>-12.262927</td>\n",
       "    </tr>\n",
       "    <tr>\n",
       "      <th>973</th>\n",
       "      <td>2002-08-31</td>\n",
       "      <td>5.200114</td>\n",
       "      <td>41.077230</td>\n",
       "      <td>-2.697293</td>\n",
       "      <td>-12.592763</td>\n",
       "    </tr>\n",
       "    <tr>\n",
       "      <th>974</th>\n",
       "      <td>2002-09-01</td>\n",
       "      <td>4.760884</td>\n",
       "      <td>39.581493</td>\n",
       "      <td>-3.206660</td>\n",
       "      <td>-12.309085</td>\n",
       "    </tr>\n",
       "    <tr>\n",
       "      <th>975</th>\n",
       "      <td>2002-09-02</td>\n",
       "      <td>3.752627</td>\n",
       "      <td>39.190085</td>\n",
       "      <td>-2.509565</td>\n",
       "      <td>-14.337574</td>\n",
       "    </tr>\n",
       "    <tr>\n",
       "      <th>976</th>\n",
       "      <td>2002-09-03</td>\n",
       "      <td>4.614197</td>\n",
       "      <td>37.425068</td>\n",
       "      <td>-2.106039</td>\n",
       "      <td>-14.391597</td>\n",
       "    </tr>\n",
       "    <tr>\n",
       "      <th>977</th>\n",
       "      <td>2002-09-04</td>\n",
       "      <td>5.758929</td>\n",
       "      <td>37.123738</td>\n",
       "      <td>-1.940640</td>\n",
       "      <td>-12.251103</td>\n",
       "    </tr>\n",
       "    <tr>\n",
       "      <th>978</th>\n",
       "      <td>2002-09-05</td>\n",
       "      <td>7.273152</td>\n",
       "      <td>37.047825</td>\n",
       "      <td>-1.373995</td>\n",
       "      <td>-13.406295</td>\n",
       "    </tr>\n",
       "    <tr>\n",
       "      <th>979</th>\n",
       "      <td>2002-09-06</td>\n",
       "      <td>7.238203</td>\n",
       "      <td>37.914742</td>\n",
       "      <td>-1.913092</td>\n",
       "      <td>-15.136857</td>\n",
       "    </tr>\n",
       "    <tr>\n",
       "      <th>980</th>\n",
       "      <td>2002-09-07</td>\n",
       "      <td>6.662369</td>\n",
       "      <td>37.021857</td>\n",
       "      <td>-0.487058</td>\n",
       "      <td>-14.769028</td>\n",
       "    </tr>\n",
       "    <tr>\n",
       "      <th>981</th>\n",
       "      <td>2002-09-08</td>\n",
       "      <td>8.053788</td>\n",
       "      <td>37.373280</td>\n",
       "      <td>-2.657672</td>\n",
       "      <td>-14.596482</td>\n",
       "    </tr>\n",
       "    <tr>\n",
       "      <th>982</th>\n",
       "      <td>2002-09-09</td>\n",
       "      <td>7.196928</td>\n",
       "      <td>35.088085</td>\n",
       "      <td>-2.363702</td>\n",
       "      <td>-14.839020</td>\n",
       "    </tr>\n",
       "    <tr>\n",
       "      <th>983</th>\n",
       "      <td>2002-09-10</td>\n",
       "      <td>6.817336</td>\n",
       "      <td>35.399554</td>\n",
       "      <td>-2.123031</td>\n",
       "      <td>-13.774997</td>\n",
       "    </tr>\n",
       "    <tr>\n",
       "      <th>984</th>\n",
       "      <td>2002-09-11</td>\n",
       "      <td>5.781261</td>\n",
       "      <td>34.934651</td>\n",
       "      <td>-1.385646</td>\n",
       "      <td>-14.664605</td>\n",
       "    </tr>\n",
       "    <tr>\n",
       "      <th>985</th>\n",
       "      <td>2002-09-12</td>\n",
       "      <td>7.522053</td>\n",
       "      <td>35.464324</td>\n",
       "      <td>-0.365795</td>\n",
       "      <td>-14.402668</td>\n",
       "    </tr>\n",
       "    <tr>\n",
       "      <th>986</th>\n",
       "      <td>2002-09-13</td>\n",
       "      <td>9.328933</td>\n",
       "      <td>34.632675</td>\n",
       "      <td>-0.352929</td>\n",
       "      <td>-14.175891</td>\n",
       "    </tr>\n",
       "    <tr>\n",
       "      <th>987</th>\n",
       "      <td>2002-09-14</td>\n",
       "      <td>9.018734</td>\n",
       "      <td>32.979777</td>\n",
       "      <td>0.666883</td>\n",
       "      <td>-15.018743</td>\n",
       "    </tr>\n",
       "    <tr>\n",
       "      <th>988</th>\n",
       "      <td>2002-09-15</td>\n",
       "      <td>9.603162</td>\n",
       "      <td>32.574677</td>\n",
       "      <td>1.220367</td>\n",
       "      <td>-16.022064</td>\n",
       "    </tr>\n",
       "    <tr>\n",
       "      <th>989</th>\n",
       "      <td>2002-09-16</td>\n",
       "      <td>10.747860</td>\n",
       "      <td>33.732963</td>\n",
       "      <td>0.554183</td>\n",
       "      <td>-16.949197</td>\n",
       "    </tr>\n",
       "    <tr>\n",
       "      <th>990</th>\n",
       "      <td>2002-09-17</td>\n",
       "      <td>13.228030</td>\n",
       "      <td>35.555887</td>\n",
       "      <td>1.766998</td>\n",
       "      <td>-18.627815</td>\n",
       "    </tr>\n",
       "    <tr>\n",
       "      <th>991</th>\n",
       "      <td>2002-09-18</td>\n",
       "      <td>13.175766</td>\n",
       "      <td>34.170189</td>\n",
       "      <td>3.080591</td>\n",
       "      <td>-20.114289</td>\n",
       "    </tr>\n",
       "    <tr>\n",
       "      <th>992</th>\n",
       "      <td>2002-09-19</td>\n",
       "      <td>12.806829</td>\n",
       "      <td>34.344465</td>\n",
       "      <td>5.415214</td>\n",
       "      <td>-18.680615</td>\n",
       "    </tr>\n",
       "    <tr>\n",
       "      <th>993</th>\n",
       "      <td>2002-09-20</td>\n",
       "      <td>13.119450</td>\n",
       "      <td>33.271579</td>\n",
       "      <td>5.027970</td>\n",
       "      <td>-18.812574</td>\n",
       "    </tr>\n",
       "    <tr>\n",
       "      <th>994</th>\n",
       "      <td>2002-09-21</td>\n",
       "      <td>12.831185</td>\n",
       "      <td>32.260430</td>\n",
       "      <td>3.691906</td>\n",
       "      <td>-18.291857</td>\n",
       "    </tr>\n",
       "    <tr>\n",
       "      <th>995</th>\n",
       "      <td>2002-09-22</td>\n",
       "      <td>13.640872</td>\n",
       "      <td>30.737631</td>\n",
       "      <td>3.552485</td>\n",
       "      <td>-19.540373</td>\n",
       "    </tr>\n",
       "    <tr>\n",
       "      <th>996</th>\n",
       "      <td>2002-09-23</td>\n",
       "      <td>14.967939</td>\n",
       "      <td>29.201691</td>\n",
       "      <td>3.238178</td>\n",
       "      <td>-19.241270</td>\n",
       "    </tr>\n",
       "    <tr>\n",
       "      <th>997</th>\n",
       "      <td>2002-09-24</td>\n",
       "      <td>16.299314</td>\n",
       "      <td>28.461026</td>\n",
       "      <td>2.788601</td>\n",
       "      <td>-19.542636</td>\n",
       "    </tr>\n",
       "    <tr>\n",
       "      <th>998</th>\n",
       "      <td>2002-09-25</td>\n",
       "      <td>15.994217</td>\n",
       "      <td>28.395146</td>\n",
       "      <td>2.791987</td>\n",
       "      <td>-19.586357</td>\n",
       "    </tr>\n",
       "    <tr>\n",
       "      <th>999</th>\n",
       "      <td>2002-09-26</td>\n",
       "      <td>17.109954</td>\n",
       "      <td>28.022877</td>\n",
       "      <td>3.811717</td>\n",
       "      <td>-18.835214</td>\n",
       "    </tr>\n",
       "  </tbody>\n",
       "</table>\n",
       "<p>1000 rows × 5 columns</p>\n",
       "</div>"
      ],
      "text/plain": [
       "     Unnamed: 0          A          B         C          D\n",
       "0    2000-01-01   0.732311  -0.657097  0.701761   0.243486\n",
       "1    2000-01-02  -0.388657  -0.259947  3.176101   0.550442\n",
       "2    2000-01-03   0.055290  -0.871473  5.430325   0.817741\n",
       "3    2000-01-04  -0.489805  -0.130035  6.188678   1.554195\n",
       "4    2000-01-05  -0.144038  -0.444660  5.261520   2.623827\n",
       "5    2000-01-06   0.694448  -0.927424  4.292713   3.587480\n",
       "6    2000-01-07   1.582591  -1.336903  3.185624   3.463861\n",
       "7    2000-01-08   1.445196  -1.033043  3.402886   4.492063\n",
       "8    2000-01-09   1.542313  -0.979711  4.199413   3.424813\n",
       "9    2000-01-10   0.859499  -0.911454  3.555116   2.021105\n",
       "10   2000-01-11  -0.068487  -1.818286  1.430079   1.032132\n",
       "11   2000-01-12  -1.283804  -0.991947  2.342875   0.102531\n",
       "12   2000-01-13  -1.266903  -1.195169  1.902551  -1.065248\n",
       "13   2000-01-14  -0.041715  -3.729677  2.238207  -0.619010\n",
       "14   2000-01-15  -0.214906  -2.882387  1.643041  -2.225172\n",
       "15   2000-01-16  -1.070297  -2.021548  1.642945  -2.387285\n",
       "16   2000-01-17  -1.062739  -1.432028  2.024205  -1.429800\n",
       "17   2000-01-18  -2.162473  -0.104324  2.336031  -2.657484\n",
       "18   2000-01-19  -1.173253  -1.125684  2.313945  -4.004891\n",
       "19   2000-01-20  -2.560052  -1.540176  1.774692  -3.942420\n",
       "20   2000-01-21  -3.784041   1.133744  1.586238  -4.157664\n",
       "21   2000-01-22  -4.756155   0.973457  1.172599  -3.870800\n",
       "22   2000-01-23  -4.018703   0.585125  0.659398  -4.378160\n",
       "23   2000-01-24  -4.061824  -0.431415  0.327546  -3.065464\n",
       "24   2000-01-25  -2.862275  -2.473785 -0.627469  -2.716615\n",
       "25   2000-01-26  -3.572517  -2.673674 -0.377861  -2.003886\n",
       "26   2000-01-27  -3.039954  -4.272510 -0.070404  -1.927390\n",
       "27   2000-01-28  -3.316346  -3.838170  0.028767  -3.464169\n",
       "28   2000-01-29  -4.587315  -4.537495  2.258503  -4.292463\n",
       "29   2000-01-30  -4.544146  -5.065584  3.522951  -5.257891\n",
       "..          ...        ...        ...       ...        ...\n",
       "970  2002-08-28   8.075349  44.887041 -0.776868  -9.061864\n",
       "971  2002-08-29   8.510600  42.755103 -1.605845 -11.298843\n",
       "972  2002-08-30   6.348967  41.397326 -2.604004 -12.262927\n",
       "973  2002-08-31   5.200114  41.077230 -2.697293 -12.592763\n",
       "974  2002-09-01   4.760884  39.581493 -3.206660 -12.309085\n",
       "975  2002-09-02   3.752627  39.190085 -2.509565 -14.337574\n",
       "976  2002-09-03   4.614197  37.425068 -2.106039 -14.391597\n",
       "977  2002-09-04   5.758929  37.123738 -1.940640 -12.251103\n",
       "978  2002-09-05   7.273152  37.047825 -1.373995 -13.406295\n",
       "979  2002-09-06   7.238203  37.914742 -1.913092 -15.136857\n",
       "980  2002-09-07   6.662369  37.021857 -0.487058 -14.769028\n",
       "981  2002-09-08   8.053788  37.373280 -2.657672 -14.596482\n",
       "982  2002-09-09   7.196928  35.088085 -2.363702 -14.839020\n",
       "983  2002-09-10   6.817336  35.399554 -2.123031 -13.774997\n",
       "984  2002-09-11   5.781261  34.934651 -1.385646 -14.664605\n",
       "985  2002-09-12   7.522053  35.464324 -0.365795 -14.402668\n",
       "986  2002-09-13   9.328933  34.632675 -0.352929 -14.175891\n",
       "987  2002-09-14   9.018734  32.979777  0.666883 -15.018743\n",
       "988  2002-09-15   9.603162  32.574677  1.220367 -16.022064\n",
       "989  2002-09-16  10.747860  33.732963  0.554183 -16.949197\n",
       "990  2002-09-17  13.228030  35.555887  1.766998 -18.627815\n",
       "991  2002-09-18  13.175766  34.170189  3.080591 -20.114289\n",
       "992  2002-09-19  12.806829  34.344465  5.415214 -18.680615\n",
       "993  2002-09-20  13.119450  33.271579  5.027970 -18.812574\n",
       "994  2002-09-21  12.831185  32.260430  3.691906 -18.291857\n",
       "995  2002-09-22  13.640872  30.737631  3.552485 -19.540373\n",
       "996  2002-09-23  14.967939  29.201691  3.238178 -19.241270\n",
       "997  2002-09-24  16.299314  28.461026  2.788601 -19.542636\n",
       "998  2002-09-25  15.994217  28.395146  2.791987 -19.586357\n",
       "999  2002-09-26  17.109954  28.022877  3.811717 -18.835214\n",
       "\n",
       "[1000 rows x 5 columns]"
      ]
     },
     "execution_count": 144,
     "metadata": {},
     "output_type": "execute_result"
    }
   ],
   "source": [
    "pd.read_csv('foo.csv')"
   ]
  },
  {
   "cell_type": "markdown",
   "metadata": {
    "colab_type": "text",
    "id": "P9knaZtu24Nj"
   },
   "source": [
    "##HDF5\n",
    "[HDFStores](https://pandas.pydata.org/pandas-docs/stable/io.html#io-hdf5)에 읽고 씁니다.\n",
    "\n",
    "HDF5 Store에 씁니다.\n"
   ]
  },
  {
   "cell_type": "code",
   "execution_count": 145,
   "metadata": {
    "colab": {
     "autoexec": {
      "startup": false,
      "wait_interval": 0
     },
     "base_uri": "https://localhost:8080/",
     "height": 924
    },
    "colab_type": "code",
    "executionInfo": {
     "elapsed": 1193,
     "status": "error",
     "timestamp": 1531794712459,
     "user": {
      "displayName": "정다현",
      "photoUrl": "https://lh3.googleusercontent.com/a/default-user=s128",
      "userId": "108793786663813438778"
     },
     "user_tz": -540
    },
    "id": "R0VSHXW30H9a",
    "outputId": "ca15e7cf-1b96-47d9-b892-c8f7b523c72d"
   },
   "outputs": [],
   "source": [
    "df.to_hdf('foo.h5','df')"
   ]
  },
  {
   "cell_type": "markdown",
   "metadata": {
    "colab_type": "text",
    "id": "tw3vxS450MpB"
   },
   "source": [
    "HDF5 Store에서 읽어옵니다."
   ]
  },
  {
   "cell_type": "code",
   "execution_count": 146,
   "metadata": {
    "colab": {
     "autoexec": {
      "startup": false,
      "wait_interval": 0
     },
     "base_uri": "https://localhost:8080/",
     "height": 278
    },
    "colab_type": "code",
    "executionInfo": {
     "elapsed": 1073,
     "status": "error",
     "timestamp": 1531794695469,
     "user": {
      "displayName": "최지영",
      "photoUrl": "https://lh3.googleusercontent.com/a/default-user=s128",
      "userId": "106128527749636650173"
     },
     "user_tz": -540
    },
    "id": "QXqtNXK8zx0f",
    "outputId": "b2651a35-a12b-44b8-93cd-ecd14ae968cf"
   },
   "outputs": [
    {
     "data": {
      "text/html": [
       "<div>\n",
       "<style scoped>\n",
       "    .dataframe tbody tr th:only-of-type {\n",
       "        vertical-align: middle;\n",
       "    }\n",
       "\n",
       "    .dataframe tbody tr th {\n",
       "        vertical-align: top;\n",
       "    }\n",
       "\n",
       "    .dataframe thead th {\n",
       "        text-align: right;\n",
       "    }\n",
       "</style>\n",
       "<table border=\"1\" class=\"dataframe\">\n",
       "  <thead>\n",
       "    <tr style=\"text-align: right;\">\n",
       "      <th></th>\n",
       "      <th>A</th>\n",
       "      <th>B</th>\n",
       "      <th>C</th>\n",
       "      <th>D</th>\n",
       "    </tr>\n",
       "  </thead>\n",
       "  <tbody>\n",
       "    <tr>\n",
       "      <th>2000-01-01</th>\n",
       "      <td>0.732311</td>\n",
       "      <td>-0.657097</td>\n",
       "      <td>0.701761</td>\n",
       "      <td>0.243486</td>\n",
       "    </tr>\n",
       "    <tr>\n",
       "      <th>2000-01-02</th>\n",
       "      <td>-0.388657</td>\n",
       "      <td>-0.259947</td>\n",
       "      <td>3.176101</td>\n",
       "      <td>0.550442</td>\n",
       "    </tr>\n",
       "    <tr>\n",
       "      <th>2000-01-03</th>\n",
       "      <td>0.055290</td>\n",
       "      <td>-0.871473</td>\n",
       "      <td>5.430325</td>\n",
       "      <td>0.817741</td>\n",
       "    </tr>\n",
       "    <tr>\n",
       "      <th>2000-01-04</th>\n",
       "      <td>-0.489805</td>\n",
       "      <td>-0.130035</td>\n",
       "      <td>6.188678</td>\n",
       "      <td>1.554195</td>\n",
       "    </tr>\n",
       "    <tr>\n",
       "      <th>2000-01-05</th>\n",
       "      <td>-0.144038</td>\n",
       "      <td>-0.444660</td>\n",
       "      <td>5.261520</td>\n",
       "      <td>2.623827</td>\n",
       "    </tr>\n",
       "    <tr>\n",
       "      <th>2000-01-06</th>\n",
       "      <td>0.694448</td>\n",
       "      <td>-0.927424</td>\n",
       "      <td>4.292713</td>\n",
       "      <td>3.587480</td>\n",
       "    </tr>\n",
       "    <tr>\n",
       "      <th>2000-01-07</th>\n",
       "      <td>1.582591</td>\n",
       "      <td>-1.336903</td>\n",
       "      <td>3.185624</td>\n",
       "      <td>3.463861</td>\n",
       "    </tr>\n",
       "    <tr>\n",
       "      <th>2000-01-08</th>\n",
       "      <td>1.445196</td>\n",
       "      <td>-1.033043</td>\n",
       "      <td>3.402886</td>\n",
       "      <td>4.492063</td>\n",
       "    </tr>\n",
       "    <tr>\n",
       "      <th>2000-01-09</th>\n",
       "      <td>1.542313</td>\n",
       "      <td>-0.979711</td>\n",
       "      <td>4.199413</td>\n",
       "      <td>3.424813</td>\n",
       "    </tr>\n",
       "    <tr>\n",
       "      <th>2000-01-10</th>\n",
       "      <td>0.859499</td>\n",
       "      <td>-0.911454</td>\n",
       "      <td>3.555116</td>\n",
       "      <td>2.021105</td>\n",
       "    </tr>\n",
       "    <tr>\n",
       "      <th>2000-01-11</th>\n",
       "      <td>-0.068487</td>\n",
       "      <td>-1.818286</td>\n",
       "      <td>1.430079</td>\n",
       "      <td>1.032132</td>\n",
       "    </tr>\n",
       "    <tr>\n",
       "      <th>2000-01-12</th>\n",
       "      <td>-1.283804</td>\n",
       "      <td>-0.991947</td>\n",
       "      <td>2.342875</td>\n",
       "      <td>0.102531</td>\n",
       "    </tr>\n",
       "    <tr>\n",
       "      <th>2000-01-13</th>\n",
       "      <td>-1.266903</td>\n",
       "      <td>-1.195169</td>\n",
       "      <td>1.902551</td>\n",
       "      <td>-1.065248</td>\n",
       "    </tr>\n",
       "    <tr>\n",
       "      <th>2000-01-14</th>\n",
       "      <td>-0.041715</td>\n",
       "      <td>-3.729677</td>\n",
       "      <td>2.238207</td>\n",
       "      <td>-0.619010</td>\n",
       "    </tr>\n",
       "    <tr>\n",
       "      <th>2000-01-15</th>\n",
       "      <td>-0.214906</td>\n",
       "      <td>-2.882387</td>\n",
       "      <td>1.643041</td>\n",
       "      <td>-2.225172</td>\n",
       "    </tr>\n",
       "    <tr>\n",
       "      <th>2000-01-16</th>\n",
       "      <td>-1.070297</td>\n",
       "      <td>-2.021548</td>\n",
       "      <td>1.642945</td>\n",
       "      <td>-2.387285</td>\n",
       "    </tr>\n",
       "    <tr>\n",
       "      <th>2000-01-17</th>\n",
       "      <td>-1.062739</td>\n",
       "      <td>-1.432028</td>\n",
       "      <td>2.024205</td>\n",
       "      <td>-1.429800</td>\n",
       "    </tr>\n",
       "    <tr>\n",
       "      <th>2000-01-18</th>\n",
       "      <td>-2.162473</td>\n",
       "      <td>-0.104324</td>\n",
       "      <td>2.336031</td>\n",
       "      <td>-2.657484</td>\n",
       "    </tr>\n",
       "    <tr>\n",
       "      <th>2000-01-19</th>\n",
       "      <td>-1.173253</td>\n",
       "      <td>-1.125684</td>\n",
       "      <td>2.313945</td>\n",
       "      <td>-4.004891</td>\n",
       "    </tr>\n",
       "    <tr>\n",
       "      <th>2000-01-20</th>\n",
       "      <td>-2.560052</td>\n",
       "      <td>-1.540176</td>\n",
       "      <td>1.774692</td>\n",
       "      <td>-3.942420</td>\n",
       "    </tr>\n",
       "    <tr>\n",
       "      <th>2000-01-21</th>\n",
       "      <td>-3.784041</td>\n",
       "      <td>1.133744</td>\n",
       "      <td>1.586238</td>\n",
       "      <td>-4.157664</td>\n",
       "    </tr>\n",
       "    <tr>\n",
       "      <th>2000-01-22</th>\n",
       "      <td>-4.756155</td>\n",
       "      <td>0.973457</td>\n",
       "      <td>1.172599</td>\n",
       "      <td>-3.870800</td>\n",
       "    </tr>\n",
       "    <tr>\n",
       "      <th>2000-01-23</th>\n",
       "      <td>-4.018703</td>\n",
       "      <td>0.585125</td>\n",
       "      <td>0.659398</td>\n",
       "      <td>-4.378160</td>\n",
       "    </tr>\n",
       "    <tr>\n",
       "      <th>2000-01-24</th>\n",
       "      <td>-4.061824</td>\n",
       "      <td>-0.431415</td>\n",
       "      <td>0.327546</td>\n",
       "      <td>-3.065464</td>\n",
       "    </tr>\n",
       "    <tr>\n",
       "      <th>2000-01-25</th>\n",
       "      <td>-2.862275</td>\n",
       "      <td>-2.473785</td>\n",
       "      <td>-0.627469</td>\n",
       "      <td>-2.716615</td>\n",
       "    </tr>\n",
       "    <tr>\n",
       "      <th>2000-01-26</th>\n",
       "      <td>-3.572517</td>\n",
       "      <td>-2.673674</td>\n",
       "      <td>-0.377861</td>\n",
       "      <td>-2.003886</td>\n",
       "    </tr>\n",
       "    <tr>\n",
       "      <th>2000-01-27</th>\n",
       "      <td>-3.039954</td>\n",
       "      <td>-4.272510</td>\n",
       "      <td>-0.070404</td>\n",
       "      <td>-1.927390</td>\n",
       "    </tr>\n",
       "    <tr>\n",
       "      <th>2000-01-28</th>\n",
       "      <td>-3.316346</td>\n",
       "      <td>-3.838170</td>\n",
       "      <td>0.028767</td>\n",
       "      <td>-3.464169</td>\n",
       "    </tr>\n",
       "    <tr>\n",
       "      <th>2000-01-29</th>\n",
       "      <td>-4.587315</td>\n",
       "      <td>-4.537495</td>\n",
       "      <td>2.258503</td>\n",
       "      <td>-4.292463</td>\n",
       "    </tr>\n",
       "    <tr>\n",
       "      <th>2000-01-30</th>\n",
       "      <td>-4.544146</td>\n",
       "      <td>-5.065584</td>\n",
       "      <td>3.522951</td>\n",
       "      <td>-5.257891</td>\n",
       "    </tr>\n",
       "    <tr>\n",
       "      <th>...</th>\n",
       "      <td>...</td>\n",
       "      <td>...</td>\n",
       "      <td>...</td>\n",
       "      <td>...</td>\n",
       "    </tr>\n",
       "    <tr>\n",
       "      <th>2002-08-28</th>\n",
       "      <td>8.075349</td>\n",
       "      <td>44.887041</td>\n",
       "      <td>-0.776868</td>\n",
       "      <td>-9.061864</td>\n",
       "    </tr>\n",
       "    <tr>\n",
       "      <th>2002-08-29</th>\n",
       "      <td>8.510600</td>\n",
       "      <td>42.755103</td>\n",
       "      <td>-1.605845</td>\n",
       "      <td>-11.298843</td>\n",
       "    </tr>\n",
       "    <tr>\n",
       "      <th>2002-08-30</th>\n",
       "      <td>6.348967</td>\n",
       "      <td>41.397326</td>\n",
       "      <td>-2.604004</td>\n",
       "      <td>-12.262927</td>\n",
       "    </tr>\n",
       "    <tr>\n",
       "      <th>2002-08-31</th>\n",
       "      <td>5.200114</td>\n",
       "      <td>41.077230</td>\n",
       "      <td>-2.697293</td>\n",
       "      <td>-12.592763</td>\n",
       "    </tr>\n",
       "    <tr>\n",
       "      <th>2002-09-01</th>\n",
       "      <td>4.760884</td>\n",
       "      <td>39.581493</td>\n",
       "      <td>-3.206660</td>\n",
       "      <td>-12.309085</td>\n",
       "    </tr>\n",
       "    <tr>\n",
       "      <th>2002-09-02</th>\n",
       "      <td>3.752627</td>\n",
       "      <td>39.190085</td>\n",
       "      <td>-2.509565</td>\n",
       "      <td>-14.337574</td>\n",
       "    </tr>\n",
       "    <tr>\n",
       "      <th>2002-09-03</th>\n",
       "      <td>4.614197</td>\n",
       "      <td>37.425068</td>\n",
       "      <td>-2.106039</td>\n",
       "      <td>-14.391597</td>\n",
       "    </tr>\n",
       "    <tr>\n",
       "      <th>2002-09-04</th>\n",
       "      <td>5.758929</td>\n",
       "      <td>37.123738</td>\n",
       "      <td>-1.940640</td>\n",
       "      <td>-12.251103</td>\n",
       "    </tr>\n",
       "    <tr>\n",
       "      <th>2002-09-05</th>\n",
       "      <td>7.273152</td>\n",
       "      <td>37.047825</td>\n",
       "      <td>-1.373995</td>\n",
       "      <td>-13.406295</td>\n",
       "    </tr>\n",
       "    <tr>\n",
       "      <th>2002-09-06</th>\n",
       "      <td>7.238203</td>\n",
       "      <td>37.914742</td>\n",
       "      <td>-1.913092</td>\n",
       "      <td>-15.136857</td>\n",
       "    </tr>\n",
       "    <tr>\n",
       "      <th>2002-09-07</th>\n",
       "      <td>6.662369</td>\n",
       "      <td>37.021857</td>\n",
       "      <td>-0.487058</td>\n",
       "      <td>-14.769028</td>\n",
       "    </tr>\n",
       "    <tr>\n",
       "      <th>2002-09-08</th>\n",
       "      <td>8.053788</td>\n",
       "      <td>37.373280</td>\n",
       "      <td>-2.657672</td>\n",
       "      <td>-14.596482</td>\n",
       "    </tr>\n",
       "    <tr>\n",
       "      <th>2002-09-09</th>\n",
       "      <td>7.196928</td>\n",
       "      <td>35.088085</td>\n",
       "      <td>-2.363702</td>\n",
       "      <td>-14.839020</td>\n",
       "    </tr>\n",
       "    <tr>\n",
       "      <th>2002-09-10</th>\n",
       "      <td>6.817336</td>\n",
       "      <td>35.399554</td>\n",
       "      <td>-2.123031</td>\n",
       "      <td>-13.774997</td>\n",
       "    </tr>\n",
       "    <tr>\n",
       "      <th>2002-09-11</th>\n",
       "      <td>5.781261</td>\n",
       "      <td>34.934651</td>\n",
       "      <td>-1.385646</td>\n",
       "      <td>-14.664605</td>\n",
       "    </tr>\n",
       "    <tr>\n",
       "      <th>2002-09-12</th>\n",
       "      <td>7.522053</td>\n",
       "      <td>35.464324</td>\n",
       "      <td>-0.365795</td>\n",
       "      <td>-14.402668</td>\n",
       "    </tr>\n",
       "    <tr>\n",
       "      <th>2002-09-13</th>\n",
       "      <td>9.328933</td>\n",
       "      <td>34.632675</td>\n",
       "      <td>-0.352929</td>\n",
       "      <td>-14.175891</td>\n",
       "    </tr>\n",
       "    <tr>\n",
       "      <th>2002-09-14</th>\n",
       "      <td>9.018734</td>\n",
       "      <td>32.979777</td>\n",
       "      <td>0.666883</td>\n",
       "      <td>-15.018743</td>\n",
       "    </tr>\n",
       "    <tr>\n",
       "      <th>2002-09-15</th>\n",
       "      <td>9.603162</td>\n",
       "      <td>32.574677</td>\n",
       "      <td>1.220367</td>\n",
       "      <td>-16.022064</td>\n",
       "    </tr>\n",
       "    <tr>\n",
       "      <th>2002-09-16</th>\n",
       "      <td>10.747860</td>\n",
       "      <td>33.732963</td>\n",
       "      <td>0.554183</td>\n",
       "      <td>-16.949197</td>\n",
       "    </tr>\n",
       "    <tr>\n",
       "      <th>2002-09-17</th>\n",
       "      <td>13.228030</td>\n",
       "      <td>35.555887</td>\n",
       "      <td>1.766998</td>\n",
       "      <td>-18.627815</td>\n",
       "    </tr>\n",
       "    <tr>\n",
       "      <th>2002-09-18</th>\n",
       "      <td>13.175766</td>\n",
       "      <td>34.170189</td>\n",
       "      <td>3.080591</td>\n",
       "      <td>-20.114289</td>\n",
       "    </tr>\n",
       "    <tr>\n",
       "      <th>2002-09-19</th>\n",
       "      <td>12.806829</td>\n",
       "      <td>34.344465</td>\n",
       "      <td>5.415214</td>\n",
       "      <td>-18.680615</td>\n",
       "    </tr>\n",
       "    <tr>\n",
       "      <th>2002-09-20</th>\n",
       "      <td>13.119450</td>\n",
       "      <td>33.271579</td>\n",
       "      <td>5.027970</td>\n",
       "      <td>-18.812574</td>\n",
       "    </tr>\n",
       "    <tr>\n",
       "      <th>2002-09-21</th>\n",
       "      <td>12.831185</td>\n",
       "      <td>32.260430</td>\n",
       "      <td>3.691906</td>\n",
       "      <td>-18.291857</td>\n",
       "    </tr>\n",
       "    <tr>\n",
       "      <th>2002-09-22</th>\n",
       "      <td>13.640872</td>\n",
       "      <td>30.737631</td>\n",
       "      <td>3.552485</td>\n",
       "      <td>-19.540373</td>\n",
       "    </tr>\n",
       "    <tr>\n",
       "      <th>2002-09-23</th>\n",
       "      <td>14.967939</td>\n",
       "      <td>29.201691</td>\n",
       "      <td>3.238178</td>\n",
       "      <td>-19.241270</td>\n",
       "    </tr>\n",
       "    <tr>\n",
       "      <th>2002-09-24</th>\n",
       "      <td>16.299314</td>\n",
       "      <td>28.461026</td>\n",
       "      <td>2.788601</td>\n",
       "      <td>-19.542636</td>\n",
       "    </tr>\n",
       "    <tr>\n",
       "      <th>2002-09-25</th>\n",
       "      <td>15.994217</td>\n",
       "      <td>28.395146</td>\n",
       "      <td>2.791987</td>\n",
       "      <td>-19.586357</td>\n",
       "    </tr>\n",
       "    <tr>\n",
       "      <th>2002-09-26</th>\n",
       "      <td>17.109954</td>\n",
       "      <td>28.022877</td>\n",
       "      <td>3.811717</td>\n",
       "      <td>-18.835214</td>\n",
       "    </tr>\n",
       "  </tbody>\n",
       "</table>\n",
       "<p>1000 rows × 4 columns</p>\n",
       "</div>"
      ],
      "text/plain": [
       "                    A          B         C          D\n",
       "2000-01-01   0.732311  -0.657097  0.701761   0.243486\n",
       "2000-01-02  -0.388657  -0.259947  3.176101   0.550442\n",
       "2000-01-03   0.055290  -0.871473  5.430325   0.817741\n",
       "2000-01-04  -0.489805  -0.130035  6.188678   1.554195\n",
       "2000-01-05  -0.144038  -0.444660  5.261520   2.623827\n",
       "2000-01-06   0.694448  -0.927424  4.292713   3.587480\n",
       "2000-01-07   1.582591  -1.336903  3.185624   3.463861\n",
       "2000-01-08   1.445196  -1.033043  3.402886   4.492063\n",
       "2000-01-09   1.542313  -0.979711  4.199413   3.424813\n",
       "2000-01-10   0.859499  -0.911454  3.555116   2.021105\n",
       "2000-01-11  -0.068487  -1.818286  1.430079   1.032132\n",
       "2000-01-12  -1.283804  -0.991947  2.342875   0.102531\n",
       "2000-01-13  -1.266903  -1.195169  1.902551  -1.065248\n",
       "2000-01-14  -0.041715  -3.729677  2.238207  -0.619010\n",
       "2000-01-15  -0.214906  -2.882387  1.643041  -2.225172\n",
       "2000-01-16  -1.070297  -2.021548  1.642945  -2.387285\n",
       "2000-01-17  -1.062739  -1.432028  2.024205  -1.429800\n",
       "2000-01-18  -2.162473  -0.104324  2.336031  -2.657484\n",
       "2000-01-19  -1.173253  -1.125684  2.313945  -4.004891\n",
       "2000-01-20  -2.560052  -1.540176  1.774692  -3.942420\n",
       "2000-01-21  -3.784041   1.133744  1.586238  -4.157664\n",
       "2000-01-22  -4.756155   0.973457  1.172599  -3.870800\n",
       "2000-01-23  -4.018703   0.585125  0.659398  -4.378160\n",
       "2000-01-24  -4.061824  -0.431415  0.327546  -3.065464\n",
       "2000-01-25  -2.862275  -2.473785 -0.627469  -2.716615\n",
       "2000-01-26  -3.572517  -2.673674 -0.377861  -2.003886\n",
       "2000-01-27  -3.039954  -4.272510 -0.070404  -1.927390\n",
       "2000-01-28  -3.316346  -3.838170  0.028767  -3.464169\n",
       "2000-01-29  -4.587315  -4.537495  2.258503  -4.292463\n",
       "2000-01-30  -4.544146  -5.065584  3.522951  -5.257891\n",
       "...               ...        ...       ...        ...\n",
       "2002-08-28   8.075349  44.887041 -0.776868  -9.061864\n",
       "2002-08-29   8.510600  42.755103 -1.605845 -11.298843\n",
       "2002-08-30   6.348967  41.397326 -2.604004 -12.262927\n",
       "2002-08-31   5.200114  41.077230 -2.697293 -12.592763\n",
       "2002-09-01   4.760884  39.581493 -3.206660 -12.309085\n",
       "2002-09-02   3.752627  39.190085 -2.509565 -14.337574\n",
       "2002-09-03   4.614197  37.425068 -2.106039 -14.391597\n",
       "2002-09-04   5.758929  37.123738 -1.940640 -12.251103\n",
       "2002-09-05   7.273152  37.047825 -1.373995 -13.406295\n",
       "2002-09-06   7.238203  37.914742 -1.913092 -15.136857\n",
       "2002-09-07   6.662369  37.021857 -0.487058 -14.769028\n",
       "2002-09-08   8.053788  37.373280 -2.657672 -14.596482\n",
       "2002-09-09   7.196928  35.088085 -2.363702 -14.839020\n",
       "2002-09-10   6.817336  35.399554 -2.123031 -13.774997\n",
       "2002-09-11   5.781261  34.934651 -1.385646 -14.664605\n",
       "2002-09-12   7.522053  35.464324 -0.365795 -14.402668\n",
       "2002-09-13   9.328933  34.632675 -0.352929 -14.175891\n",
       "2002-09-14   9.018734  32.979777  0.666883 -15.018743\n",
       "2002-09-15   9.603162  32.574677  1.220367 -16.022064\n",
       "2002-09-16  10.747860  33.732963  0.554183 -16.949197\n",
       "2002-09-17  13.228030  35.555887  1.766998 -18.627815\n",
       "2002-09-18  13.175766  34.170189  3.080591 -20.114289\n",
       "2002-09-19  12.806829  34.344465  5.415214 -18.680615\n",
       "2002-09-20  13.119450  33.271579  5.027970 -18.812574\n",
       "2002-09-21  12.831185  32.260430  3.691906 -18.291857\n",
       "2002-09-22  13.640872  30.737631  3.552485 -19.540373\n",
       "2002-09-23  14.967939  29.201691  3.238178 -19.241270\n",
       "2002-09-24  16.299314  28.461026  2.788601 -19.542636\n",
       "2002-09-25  15.994217  28.395146  2.791987 -19.586357\n",
       "2002-09-26  17.109954  28.022877  3.811717 -18.835214\n",
       "\n",
       "[1000 rows x 4 columns]"
      ]
     },
     "execution_count": 146,
     "metadata": {},
     "output_type": "execute_result"
    }
   ],
   "source": [
    "pd.read_hdf('foo.h5','df')"
   ]
  },
  {
   "cell_type": "markdown",
   "metadata": {
    "colab_type": "text",
    "id": "PPEdwZcg3AHk"
   },
   "source": [
    "## Excel\n",
    "[MS Excel](https://pandas.pydata.org/pandas-docs/stable/io.html#io-excel)에 읽고 씁니다. \n",
    "\n",
    "엑셀 파일에 씁니다. \n"
   ]
  },
  {
   "cell_type": "code",
   "execution_count": 147,
   "metadata": {
    "colab": {
     "autoexec": {
      "startup": false,
      "wait_interval": 0
     }
    },
    "colab_type": "code",
    "id": "TcFx1mGk3tdT"
   },
   "outputs": [],
   "source": [
    "df.to_excel('foo.xlsx', sheet_name='Sheet1')"
   ]
  },
  {
   "cell_type": "markdown",
   "metadata": {
    "colab_type": "text",
    "id": "Eqr2I0bk3yDg"
   },
   "source": [
    "엑셀 파일을 읽어옵니다."
   ]
  },
  {
   "cell_type": "code",
   "execution_count": 148,
   "metadata": {
    "colab": {
     "autoexec": {
      "startup": false,
      "wait_interval": 0
     },
     "base_uri": "https://localhost:8080/",
     "height": 1949
    },
    "colab_type": "code",
    "executionInfo": {
     "elapsed": 848,
     "status": "ok",
     "timestamp": 1531794912508,
     "user": {
      "displayName": "정다현",
      "photoUrl": "https://lh3.googleusercontent.com/a/default-user=s128",
      "userId": "108793786663813438778"
     },
     "user_tz": -540
    },
    "id": "znXQzTWX31-1",
    "outputId": "cc3eee2d-545a-4725-b41e-69fdd4832bf3"
   },
   "outputs": [
    {
     "data": {
      "text/html": [
       "<div>\n",
       "<style scoped>\n",
       "    .dataframe tbody tr th:only-of-type {\n",
       "        vertical-align: middle;\n",
       "    }\n",
       "\n",
       "    .dataframe tbody tr th {\n",
       "        vertical-align: top;\n",
       "    }\n",
       "\n",
       "    .dataframe thead th {\n",
       "        text-align: right;\n",
       "    }\n",
       "</style>\n",
       "<table border=\"1\" class=\"dataframe\">\n",
       "  <thead>\n",
       "    <tr style=\"text-align: right;\">\n",
       "      <th></th>\n",
       "      <th>A</th>\n",
       "      <th>B</th>\n",
       "      <th>C</th>\n",
       "      <th>D</th>\n",
       "    </tr>\n",
       "  </thead>\n",
       "  <tbody>\n",
       "    <tr>\n",
       "      <th>2000-01-01</th>\n",
       "      <td>0.732311</td>\n",
       "      <td>-0.657097</td>\n",
       "      <td>0.701761</td>\n",
       "      <td>0.243486</td>\n",
       "    </tr>\n",
       "    <tr>\n",
       "      <th>2000-01-02</th>\n",
       "      <td>-0.388657</td>\n",
       "      <td>-0.259947</td>\n",
       "      <td>3.176101</td>\n",
       "      <td>0.550442</td>\n",
       "    </tr>\n",
       "    <tr>\n",
       "      <th>2000-01-03</th>\n",
       "      <td>0.055290</td>\n",
       "      <td>-0.871473</td>\n",
       "      <td>5.430325</td>\n",
       "      <td>0.817741</td>\n",
       "    </tr>\n",
       "    <tr>\n",
       "      <th>2000-01-04</th>\n",
       "      <td>-0.489805</td>\n",
       "      <td>-0.130035</td>\n",
       "      <td>6.188678</td>\n",
       "      <td>1.554195</td>\n",
       "    </tr>\n",
       "    <tr>\n",
       "      <th>2000-01-05</th>\n",
       "      <td>-0.144038</td>\n",
       "      <td>-0.444660</td>\n",
       "      <td>5.261520</td>\n",
       "      <td>2.623827</td>\n",
       "    </tr>\n",
       "    <tr>\n",
       "      <th>2000-01-06</th>\n",
       "      <td>0.694448</td>\n",
       "      <td>-0.927424</td>\n",
       "      <td>4.292713</td>\n",
       "      <td>3.587480</td>\n",
       "    </tr>\n",
       "    <tr>\n",
       "      <th>2000-01-07</th>\n",
       "      <td>1.582591</td>\n",
       "      <td>-1.336903</td>\n",
       "      <td>3.185624</td>\n",
       "      <td>3.463861</td>\n",
       "    </tr>\n",
       "    <tr>\n",
       "      <th>2000-01-08</th>\n",
       "      <td>1.445196</td>\n",
       "      <td>-1.033043</td>\n",
       "      <td>3.402886</td>\n",
       "      <td>4.492063</td>\n",
       "    </tr>\n",
       "    <tr>\n",
       "      <th>2000-01-09</th>\n",
       "      <td>1.542313</td>\n",
       "      <td>-0.979711</td>\n",
       "      <td>4.199413</td>\n",
       "      <td>3.424813</td>\n",
       "    </tr>\n",
       "    <tr>\n",
       "      <th>2000-01-10</th>\n",
       "      <td>0.859499</td>\n",
       "      <td>-0.911454</td>\n",
       "      <td>3.555116</td>\n",
       "      <td>2.021105</td>\n",
       "    </tr>\n",
       "    <tr>\n",
       "      <th>2000-01-11</th>\n",
       "      <td>-0.068487</td>\n",
       "      <td>-1.818286</td>\n",
       "      <td>1.430079</td>\n",
       "      <td>1.032132</td>\n",
       "    </tr>\n",
       "    <tr>\n",
       "      <th>2000-01-12</th>\n",
       "      <td>-1.283804</td>\n",
       "      <td>-0.991947</td>\n",
       "      <td>2.342875</td>\n",
       "      <td>0.102531</td>\n",
       "    </tr>\n",
       "    <tr>\n",
       "      <th>2000-01-13</th>\n",
       "      <td>-1.266903</td>\n",
       "      <td>-1.195169</td>\n",
       "      <td>1.902551</td>\n",
       "      <td>-1.065248</td>\n",
       "    </tr>\n",
       "    <tr>\n",
       "      <th>2000-01-14</th>\n",
       "      <td>-0.041715</td>\n",
       "      <td>-3.729677</td>\n",
       "      <td>2.238207</td>\n",
       "      <td>-0.619010</td>\n",
       "    </tr>\n",
       "    <tr>\n",
       "      <th>2000-01-15</th>\n",
       "      <td>-0.214906</td>\n",
       "      <td>-2.882387</td>\n",
       "      <td>1.643041</td>\n",
       "      <td>-2.225172</td>\n",
       "    </tr>\n",
       "    <tr>\n",
       "      <th>2000-01-16</th>\n",
       "      <td>-1.070297</td>\n",
       "      <td>-2.021548</td>\n",
       "      <td>1.642945</td>\n",
       "      <td>-2.387285</td>\n",
       "    </tr>\n",
       "    <tr>\n",
       "      <th>2000-01-17</th>\n",
       "      <td>-1.062739</td>\n",
       "      <td>-1.432028</td>\n",
       "      <td>2.024205</td>\n",
       "      <td>-1.429800</td>\n",
       "    </tr>\n",
       "    <tr>\n",
       "      <th>2000-01-18</th>\n",
       "      <td>-2.162473</td>\n",
       "      <td>-0.104324</td>\n",
       "      <td>2.336031</td>\n",
       "      <td>-2.657484</td>\n",
       "    </tr>\n",
       "    <tr>\n",
       "      <th>2000-01-19</th>\n",
       "      <td>-1.173253</td>\n",
       "      <td>-1.125684</td>\n",
       "      <td>2.313945</td>\n",
       "      <td>-4.004891</td>\n",
       "    </tr>\n",
       "    <tr>\n",
       "      <th>2000-01-20</th>\n",
       "      <td>-2.560052</td>\n",
       "      <td>-1.540176</td>\n",
       "      <td>1.774692</td>\n",
       "      <td>-3.942420</td>\n",
       "    </tr>\n",
       "    <tr>\n",
       "      <th>2000-01-21</th>\n",
       "      <td>-3.784041</td>\n",
       "      <td>1.133744</td>\n",
       "      <td>1.586238</td>\n",
       "      <td>-4.157664</td>\n",
       "    </tr>\n",
       "    <tr>\n",
       "      <th>2000-01-22</th>\n",
       "      <td>-4.756155</td>\n",
       "      <td>0.973457</td>\n",
       "      <td>1.172599</td>\n",
       "      <td>-3.870800</td>\n",
       "    </tr>\n",
       "    <tr>\n",
       "      <th>2000-01-23</th>\n",
       "      <td>-4.018703</td>\n",
       "      <td>0.585125</td>\n",
       "      <td>0.659398</td>\n",
       "      <td>-4.378160</td>\n",
       "    </tr>\n",
       "    <tr>\n",
       "      <th>2000-01-24</th>\n",
       "      <td>-4.061824</td>\n",
       "      <td>-0.431415</td>\n",
       "      <td>0.327546</td>\n",
       "      <td>-3.065464</td>\n",
       "    </tr>\n",
       "    <tr>\n",
       "      <th>2000-01-25</th>\n",
       "      <td>-2.862275</td>\n",
       "      <td>-2.473785</td>\n",
       "      <td>-0.627469</td>\n",
       "      <td>-2.716615</td>\n",
       "    </tr>\n",
       "    <tr>\n",
       "      <th>2000-01-26</th>\n",
       "      <td>-3.572517</td>\n",
       "      <td>-2.673674</td>\n",
       "      <td>-0.377861</td>\n",
       "      <td>-2.003886</td>\n",
       "    </tr>\n",
       "    <tr>\n",
       "      <th>2000-01-27</th>\n",
       "      <td>-3.039954</td>\n",
       "      <td>-4.272510</td>\n",
       "      <td>-0.070404</td>\n",
       "      <td>-1.927390</td>\n",
       "    </tr>\n",
       "    <tr>\n",
       "      <th>2000-01-28</th>\n",
       "      <td>-3.316346</td>\n",
       "      <td>-3.838170</td>\n",
       "      <td>0.028767</td>\n",
       "      <td>-3.464169</td>\n",
       "    </tr>\n",
       "    <tr>\n",
       "      <th>2000-01-29</th>\n",
       "      <td>-4.587315</td>\n",
       "      <td>-4.537495</td>\n",
       "      <td>2.258503</td>\n",
       "      <td>-4.292463</td>\n",
       "    </tr>\n",
       "    <tr>\n",
       "      <th>2000-01-30</th>\n",
       "      <td>-4.544146</td>\n",
       "      <td>-5.065584</td>\n",
       "      <td>3.522951</td>\n",
       "      <td>-5.257891</td>\n",
       "    </tr>\n",
       "    <tr>\n",
       "      <th>...</th>\n",
       "      <td>...</td>\n",
       "      <td>...</td>\n",
       "      <td>...</td>\n",
       "      <td>...</td>\n",
       "    </tr>\n",
       "    <tr>\n",
       "      <th>2002-08-28</th>\n",
       "      <td>8.075349</td>\n",
       "      <td>44.887041</td>\n",
       "      <td>-0.776868</td>\n",
       "      <td>-9.061864</td>\n",
       "    </tr>\n",
       "    <tr>\n",
       "      <th>2002-08-29</th>\n",
       "      <td>8.510600</td>\n",
       "      <td>42.755103</td>\n",
       "      <td>-1.605845</td>\n",
       "      <td>-11.298843</td>\n",
       "    </tr>\n",
       "    <tr>\n",
       "      <th>2002-08-30</th>\n",
       "      <td>6.348967</td>\n",
       "      <td>41.397326</td>\n",
       "      <td>-2.604004</td>\n",
       "      <td>-12.262927</td>\n",
       "    </tr>\n",
       "    <tr>\n",
       "      <th>2002-08-31</th>\n",
       "      <td>5.200114</td>\n",
       "      <td>41.077230</td>\n",
       "      <td>-2.697293</td>\n",
       "      <td>-12.592763</td>\n",
       "    </tr>\n",
       "    <tr>\n",
       "      <th>2002-09-01</th>\n",
       "      <td>4.760884</td>\n",
       "      <td>39.581493</td>\n",
       "      <td>-3.206660</td>\n",
       "      <td>-12.309085</td>\n",
       "    </tr>\n",
       "    <tr>\n",
       "      <th>2002-09-02</th>\n",
       "      <td>3.752627</td>\n",
       "      <td>39.190085</td>\n",
       "      <td>-2.509565</td>\n",
       "      <td>-14.337574</td>\n",
       "    </tr>\n",
       "    <tr>\n",
       "      <th>2002-09-03</th>\n",
       "      <td>4.614197</td>\n",
       "      <td>37.425068</td>\n",
       "      <td>-2.106039</td>\n",
       "      <td>-14.391597</td>\n",
       "    </tr>\n",
       "    <tr>\n",
       "      <th>2002-09-04</th>\n",
       "      <td>5.758929</td>\n",
       "      <td>37.123738</td>\n",
       "      <td>-1.940640</td>\n",
       "      <td>-12.251103</td>\n",
       "    </tr>\n",
       "    <tr>\n",
       "      <th>2002-09-05</th>\n",
       "      <td>7.273152</td>\n",
       "      <td>37.047825</td>\n",
       "      <td>-1.373995</td>\n",
       "      <td>-13.406295</td>\n",
       "    </tr>\n",
       "    <tr>\n",
       "      <th>2002-09-06</th>\n",
       "      <td>7.238203</td>\n",
       "      <td>37.914742</td>\n",
       "      <td>-1.913092</td>\n",
       "      <td>-15.136857</td>\n",
       "    </tr>\n",
       "    <tr>\n",
       "      <th>2002-09-07</th>\n",
       "      <td>6.662369</td>\n",
       "      <td>37.021857</td>\n",
       "      <td>-0.487058</td>\n",
       "      <td>-14.769028</td>\n",
       "    </tr>\n",
       "    <tr>\n",
       "      <th>2002-09-08</th>\n",
       "      <td>8.053788</td>\n",
       "      <td>37.373280</td>\n",
       "      <td>-2.657672</td>\n",
       "      <td>-14.596482</td>\n",
       "    </tr>\n",
       "    <tr>\n",
       "      <th>2002-09-09</th>\n",
       "      <td>7.196928</td>\n",
       "      <td>35.088085</td>\n",
       "      <td>-2.363702</td>\n",
       "      <td>-14.839020</td>\n",
       "    </tr>\n",
       "    <tr>\n",
       "      <th>2002-09-10</th>\n",
       "      <td>6.817336</td>\n",
       "      <td>35.399554</td>\n",
       "      <td>-2.123031</td>\n",
       "      <td>-13.774997</td>\n",
       "    </tr>\n",
       "    <tr>\n",
       "      <th>2002-09-11</th>\n",
       "      <td>5.781261</td>\n",
       "      <td>34.934651</td>\n",
       "      <td>-1.385646</td>\n",
       "      <td>-14.664605</td>\n",
       "    </tr>\n",
       "    <tr>\n",
       "      <th>2002-09-12</th>\n",
       "      <td>7.522053</td>\n",
       "      <td>35.464324</td>\n",
       "      <td>-0.365795</td>\n",
       "      <td>-14.402668</td>\n",
       "    </tr>\n",
       "    <tr>\n",
       "      <th>2002-09-13</th>\n",
       "      <td>9.328933</td>\n",
       "      <td>34.632675</td>\n",
       "      <td>-0.352929</td>\n",
       "      <td>-14.175891</td>\n",
       "    </tr>\n",
       "    <tr>\n",
       "      <th>2002-09-14</th>\n",
       "      <td>9.018734</td>\n",
       "      <td>32.979777</td>\n",
       "      <td>0.666883</td>\n",
       "      <td>-15.018743</td>\n",
       "    </tr>\n",
       "    <tr>\n",
       "      <th>2002-09-15</th>\n",
       "      <td>9.603162</td>\n",
       "      <td>32.574677</td>\n",
       "      <td>1.220367</td>\n",
       "      <td>-16.022064</td>\n",
       "    </tr>\n",
       "    <tr>\n",
       "      <th>2002-09-16</th>\n",
       "      <td>10.747860</td>\n",
       "      <td>33.732963</td>\n",
       "      <td>0.554183</td>\n",
       "      <td>-16.949197</td>\n",
       "    </tr>\n",
       "    <tr>\n",
       "      <th>2002-09-17</th>\n",
       "      <td>13.228030</td>\n",
       "      <td>35.555887</td>\n",
       "      <td>1.766998</td>\n",
       "      <td>-18.627815</td>\n",
       "    </tr>\n",
       "    <tr>\n",
       "      <th>2002-09-18</th>\n",
       "      <td>13.175766</td>\n",
       "      <td>34.170189</td>\n",
       "      <td>3.080591</td>\n",
       "      <td>-20.114289</td>\n",
       "    </tr>\n",
       "    <tr>\n",
       "      <th>2002-09-19</th>\n",
       "      <td>12.806829</td>\n",
       "      <td>34.344465</td>\n",
       "      <td>5.415214</td>\n",
       "      <td>-18.680615</td>\n",
       "    </tr>\n",
       "    <tr>\n",
       "      <th>2002-09-20</th>\n",
       "      <td>13.119450</td>\n",
       "      <td>33.271579</td>\n",
       "      <td>5.027970</td>\n",
       "      <td>-18.812574</td>\n",
       "    </tr>\n",
       "    <tr>\n",
       "      <th>2002-09-21</th>\n",
       "      <td>12.831185</td>\n",
       "      <td>32.260430</td>\n",
       "      <td>3.691906</td>\n",
       "      <td>-18.291857</td>\n",
       "    </tr>\n",
       "    <tr>\n",
       "      <th>2002-09-22</th>\n",
       "      <td>13.640872</td>\n",
       "      <td>30.737631</td>\n",
       "      <td>3.552485</td>\n",
       "      <td>-19.540373</td>\n",
       "    </tr>\n",
       "    <tr>\n",
       "      <th>2002-09-23</th>\n",
       "      <td>14.967939</td>\n",
       "      <td>29.201691</td>\n",
       "      <td>3.238178</td>\n",
       "      <td>-19.241270</td>\n",
       "    </tr>\n",
       "    <tr>\n",
       "      <th>2002-09-24</th>\n",
       "      <td>16.299314</td>\n",
       "      <td>28.461026</td>\n",
       "      <td>2.788601</td>\n",
       "      <td>-19.542636</td>\n",
       "    </tr>\n",
       "    <tr>\n",
       "      <th>2002-09-25</th>\n",
       "      <td>15.994217</td>\n",
       "      <td>28.395146</td>\n",
       "      <td>2.791987</td>\n",
       "      <td>-19.586357</td>\n",
       "    </tr>\n",
       "    <tr>\n",
       "      <th>2002-09-26</th>\n",
       "      <td>17.109954</td>\n",
       "      <td>28.022877</td>\n",
       "      <td>3.811717</td>\n",
       "      <td>-18.835214</td>\n",
       "    </tr>\n",
       "  </tbody>\n",
       "</table>\n",
       "<p>1000 rows × 4 columns</p>\n",
       "</div>"
      ],
      "text/plain": [
       "                    A          B         C          D\n",
       "2000-01-01   0.732311  -0.657097  0.701761   0.243486\n",
       "2000-01-02  -0.388657  -0.259947  3.176101   0.550442\n",
       "2000-01-03   0.055290  -0.871473  5.430325   0.817741\n",
       "2000-01-04  -0.489805  -0.130035  6.188678   1.554195\n",
       "2000-01-05  -0.144038  -0.444660  5.261520   2.623827\n",
       "2000-01-06   0.694448  -0.927424  4.292713   3.587480\n",
       "2000-01-07   1.582591  -1.336903  3.185624   3.463861\n",
       "2000-01-08   1.445196  -1.033043  3.402886   4.492063\n",
       "2000-01-09   1.542313  -0.979711  4.199413   3.424813\n",
       "2000-01-10   0.859499  -0.911454  3.555116   2.021105\n",
       "2000-01-11  -0.068487  -1.818286  1.430079   1.032132\n",
       "2000-01-12  -1.283804  -0.991947  2.342875   0.102531\n",
       "2000-01-13  -1.266903  -1.195169  1.902551  -1.065248\n",
       "2000-01-14  -0.041715  -3.729677  2.238207  -0.619010\n",
       "2000-01-15  -0.214906  -2.882387  1.643041  -2.225172\n",
       "2000-01-16  -1.070297  -2.021548  1.642945  -2.387285\n",
       "2000-01-17  -1.062739  -1.432028  2.024205  -1.429800\n",
       "2000-01-18  -2.162473  -0.104324  2.336031  -2.657484\n",
       "2000-01-19  -1.173253  -1.125684  2.313945  -4.004891\n",
       "2000-01-20  -2.560052  -1.540176  1.774692  -3.942420\n",
       "2000-01-21  -3.784041   1.133744  1.586238  -4.157664\n",
       "2000-01-22  -4.756155   0.973457  1.172599  -3.870800\n",
       "2000-01-23  -4.018703   0.585125  0.659398  -4.378160\n",
       "2000-01-24  -4.061824  -0.431415  0.327546  -3.065464\n",
       "2000-01-25  -2.862275  -2.473785 -0.627469  -2.716615\n",
       "2000-01-26  -3.572517  -2.673674 -0.377861  -2.003886\n",
       "2000-01-27  -3.039954  -4.272510 -0.070404  -1.927390\n",
       "2000-01-28  -3.316346  -3.838170  0.028767  -3.464169\n",
       "2000-01-29  -4.587315  -4.537495  2.258503  -4.292463\n",
       "2000-01-30  -4.544146  -5.065584  3.522951  -5.257891\n",
       "...               ...        ...       ...        ...\n",
       "2002-08-28   8.075349  44.887041 -0.776868  -9.061864\n",
       "2002-08-29   8.510600  42.755103 -1.605845 -11.298843\n",
       "2002-08-30   6.348967  41.397326 -2.604004 -12.262927\n",
       "2002-08-31   5.200114  41.077230 -2.697293 -12.592763\n",
       "2002-09-01   4.760884  39.581493 -3.206660 -12.309085\n",
       "2002-09-02   3.752627  39.190085 -2.509565 -14.337574\n",
       "2002-09-03   4.614197  37.425068 -2.106039 -14.391597\n",
       "2002-09-04   5.758929  37.123738 -1.940640 -12.251103\n",
       "2002-09-05   7.273152  37.047825 -1.373995 -13.406295\n",
       "2002-09-06   7.238203  37.914742 -1.913092 -15.136857\n",
       "2002-09-07   6.662369  37.021857 -0.487058 -14.769028\n",
       "2002-09-08   8.053788  37.373280 -2.657672 -14.596482\n",
       "2002-09-09   7.196928  35.088085 -2.363702 -14.839020\n",
       "2002-09-10   6.817336  35.399554 -2.123031 -13.774997\n",
       "2002-09-11   5.781261  34.934651 -1.385646 -14.664605\n",
       "2002-09-12   7.522053  35.464324 -0.365795 -14.402668\n",
       "2002-09-13   9.328933  34.632675 -0.352929 -14.175891\n",
       "2002-09-14   9.018734  32.979777  0.666883 -15.018743\n",
       "2002-09-15   9.603162  32.574677  1.220367 -16.022064\n",
       "2002-09-16  10.747860  33.732963  0.554183 -16.949197\n",
       "2002-09-17  13.228030  35.555887  1.766998 -18.627815\n",
       "2002-09-18  13.175766  34.170189  3.080591 -20.114289\n",
       "2002-09-19  12.806829  34.344465  5.415214 -18.680615\n",
       "2002-09-20  13.119450  33.271579  5.027970 -18.812574\n",
       "2002-09-21  12.831185  32.260430  3.691906 -18.291857\n",
       "2002-09-22  13.640872  30.737631  3.552485 -19.540373\n",
       "2002-09-23  14.967939  29.201691  3.238178 -19.241270\n",
       "2002-09-24  16.299314  28.461026  2.788601 -19.542636\n",
       "2002-09-25  15.994217  28.395146  2.791987 -19.586357\n",
       "2002-09-26  17.109954  28.022877  3.811717 -18.835214\n",
       "\n",
       "[1000 rows x 4 columns]"
      ]
     },
     "execution_count": 148,
     "metadata": {},
     "output_type": "execute_result"
    }
   ],
   "source": [
    "pd.read_excel('foo.xlsx', 'Sheet1', index_col=None, na_values=['NA'])"
   ]
  },
  {
   "cell_type": "markdown",
   "metadata": {
    "colab_type": "text",
    "id": "fBibp76_3IjV"
   },
   "source": [
    "# Gotchas"
   ]
  },
  {
   "cell_type": "markdown",
   "metadata": {
    "colab_type": "text",
    "id": "IwTGemuB31es"
   },
   "source": [
    "작업을 수행하려고 시도하면 다음과 같은 예외 상황을 볼 수도 있습니다 :"
   ]
  },
  {
   "cell_type": "code",
   "execution_count": 149,
   "metadata": {
    "colab": {
     "autoexec": {
      "startup": false,
      "wait_interval": 0
     }
    },
    "colab_type": "code",
    "id": "7Pl6ilbuLNju",
    "outputId": "bacf7033-4d39-418f-d128-a25eb517b02a"
   },
   "outputs": [
    {
     "ename": "IndentationError",
     "evalue": "expected an indented block (<ipython-input-149-9074a2390e8e>, line 2)",
     "output_type": "error",
     "traceback": [
      "\u001b[0;36m  File \u001b[0;32m\"<ipython-input-149-9074a2390e8e>\"\u001b[0;36m, line \u001b[0;32m2\u001b[0m\n\u001b[0;31m    print(\"I was true\")\u001b[0m\n\u001b[0m        ^\u001b[0m\n\u001b[0;31mIndentationError\u001b[0m\u001b[0;31m:\u001b[0m expected an indented block\n"
     ]
    }
   ],
   "source": [
    "if pd.Series([False, True, False]):\n",
    "print(\"I was true\")"
   ]
  },
  {
   "cell_type": "markdown",
   "metadata": {
    "colab_type": "text",
    "id": "8wpBt_ePLNjy"
   },
   "source": [
    "설명 및 수행 할 작업은 [비교](https://pandas.pydata.org/pandas-docs/stable/basics.html#basics-compare)를 참조하십시오.\n",
    "\n",
    "[Gotchas](https://pandas.pydata.org/pandas-docs/stable/gotchas.html#gotchas)도 참조하십시오.\n"
   ]
  }
 ],
 "metadata": {
  "accelerator": "GPU",
  "colab": {
   "collapsed_sections": [
    "3Gqmfx7oox22",
    "DeXaTXAdp6ne",
    "izNpv79bsGV7",
    "v7BFmgcRLNif",
    "qTihaKMQLNjE",
    "fZWj-N4CLNig",
    "7IBM0m8GLNjX",
    "9-CsJ6kHLNjc",
    "ZYenx0CU2Lvc"
   ],
   "default_view": {},
   "name": "10miniutes to Pandas 한글 번역",
   "provenance": [
    {
     "file_id": "1mTikbQ3t91wuldPLPiSTo5hPiH3DfV2j",
     "timestamp": 1531746201600
    }
   ],
   "version": "0.3.2",
   "views": {}
  },
  "kernelspec": {
   "display_name": "Python 3",
   "language": "python",
   "name": "python3"
  },
  "language_info": {
   "codemirror_mode": {
    "name": "ipython",
    "version": 3
   },
   "file_extension": ".py",
   "mimetype": "text/x-python",
   "name": "python",
   "nbconvert_exporter": "python",
   "pygments_lexer": "ipython3",
   "version": "3.6.4"
  }
 },
 "nbformat": 4,
 "nbformat_minor": 1
}
